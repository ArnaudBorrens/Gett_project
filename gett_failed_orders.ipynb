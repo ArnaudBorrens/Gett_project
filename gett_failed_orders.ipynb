{
 "cells": [
  {
   "cell_type": "markdown",
   "metadata": {},
   "source": [
    "For this project, we are anaylzing the dataset of Gett, a Ground Transportation Management technology platform.  \n",
    "Clients order taxis and the system matches them with an available driver. In this dataset, only rides that did not complete successfully are displayed.   \n",
    "Our task is to uncover some trends in these failed orders."
   ]
  },
  {
   "cell_type": "markdown",
   "metadata": {},
   "source": [
    "## Data Description\n",
    "\n",
    "We have the dataset *data_orders* being stored in a CSV format.<br>The data_orders data set contains the following columns:  \n",
    "- *order_datetime* : time of the order\n",
    "- *origin_longitude* : longitude of the order\n",
    "- *origin_latitude* : latitude of the order\n",
    "- *m_order_eta* : time before order arrival\n",
    "- *order_gk* : order number\n",
    "- *order_status_key* : status, an enumeration consisting of the following mapping:\n",
    "  - 4 : cancelled by client,\n",
    "  - 9 : cancelled by system, i.e., a reject\n",
    "- *is_driver_assigned_key* : whether a driver has been assigned\n",
    "- *cancellation_time_in_seconds* : how many seconds passed before cancellation"
   ]
  },
  {
   "cell_type": "markdown",
   "metadata": {},
   "source": [
    "## Loading and Initial Exploration"
   ]
  },
  {
   "cell_type": "markdown",
   "metadata": {},
   "source": [
    "As a first step we will import the needed libraries. "
   ]
  },
  {
   "cell_type": "code",
   "execution_count": 1,
   "metadata": {},
   "outputs": [],
   "source": [
    "import pandas as pd\n",
    "import matplotlib.pyplot as plt\n",
    "import numpy as np\n",
    "import seaborn as sns\n",
    "from h3 import h3\n",
    "import folium"
   ]
  },
  {
   "cell_type": "markdown",
   "metadata": {},
   "source": [
    "Then let's load the CSV file into a Pandas Dataframe and look at it."
   ]
  },
  {
   "cell_type": "code",
   "execution_count": 2,
   "metadata": {},
   "outputs": [
    {
     "data": {
      "text/html": [
       "<div>\n",
       "<style scoped>\n",
       "    .dataframe tbody tr th:only-of-type {\n",
       "        vertical-align: middle;\n",
       "    }\n",
       "\n",
       "    .dataframe tbody tr th {\n",
       "        vertical-align: top;\n",
       "    }\n",
       "\n",
       "    .dataframe thead th {\n",
       "        text-align: right;\n",
       "    }\n",
       "</style>\n",
       "<table border=\"1\" class=\"dataframe\">\n",
       "  <thead>\n",
       "    <tr style=\"text-align: right;\">\n",
       "      <th></th>\n",
       "      <th>order_datetime</th>\n",
       "      <th>origin_longitude</th>\n",
       "      <th>origin_latitude</th>\n",
       "      <th>m_order_eta</th>\n",
       "      <th>order_gk</th>\n",
       "      <th>order_status_key</th>\n",
       "      <th>is_driver_assigned_key</th>\n",
       "      <th>cancellations_time_in_seconds</th>\n",
       "    </tr>\n",
       "  </thead>\n",
       "  <tbody>\n",
       "    <tr>\n",
       "      <th>0</th>\n",
       "      <td>18:08:07</td>\n",
       "      <td>-0.978916</td>\n",
       "      <td>51.456173</td>\n",
       "      <td>60.0</td>\n",
       "      <td>3000583041974</td>\n",
       "      <td>4</td>\n",
       "      <td>1</td>\n",
       "      <td>198.0</td>\n",
       "    </tr>\n",
       "    <tr>\n",
       "      <th>1</th>\n",
       "      <td>20:57:32</td>\n",
       "      <td>-0.950385</td>\n",
       "      <td>51.456843</td>\n",
       "      <td>NaN</td>\n",
       "      <td>3000583116437</td>\n",
       "      <td>4</td>\n",
       "      <td>0</td>\n",
       "      <td>128.0</td>\n",
       "    </tr>\n",
       "    <tr>\n",
       "      <th>2</th>\n",
       "      <td>12:07:50</td>\n",
       "      <td>-0.969520</td>\n",
       "      <td>51.455544</td>\n",
       "      <td>477.0</td>\n",
       "      <td>3000582891479</td>\n",
       "      <td>4</td>\n",
       "      <td>1</td>\n",
       "      <td>46.0</td>\n",
       "    </tr>\n",
       "    <tr>\n",
       "      <th>3</th>\n",
       "      <td>13:50:20</td>\n",
       "      <td>-1.054671</td>\n",
       "      <td>51.460544</td>\n",
       "      <td>658.0</td>\n",
       "      <td>3000582941169</td>\n",
       "      <td>4</td>\n",
       "      <td>1</td>\n",
       "      <td>62.0</td>\n",
       "    </tr>\n",
       "    <tr>\n",
       "      <th>4</th>\n",
       "      <td>21:24:45</td>\n",
       "      <td>-0.967605</td>\n",
       "      <td>51.458236</td>\n",
       "      <td>NaN</td>\n",
       "      <td>3000583140877</td>\n",
       "      <td>9</td>\n",
       "      <td>0</td>\n",
       "      <td>NaN</td>\n",
       "    </tr>\n",
       "  </tbody>\n",
       "</table>\n",
       "</div>"
      ],
      "text/plain": [
       "  order_datetime  origin_longitude  origin_latitude  m_order_eta  \\\n",
       "0       18:08:07         -0.978916        51.456173         60.0   \n",
       "1       20:57:32         -0.950385        51.456843          NaN   \n",
       "2       12:07:50         -0.969520        51.455544        477.0   \n",
       "3       13:50:20         -1.054671        51.460544        658.0   \n",
       "4       21:24:45         -0.967605        51.458236          NaN   \n",
       "\n",
       "        order_gk  order_status_key  is_driver_assigned_key  \\\n",
       "0  3000583041974                 4                       1   \n",
       "1  3000583116437                 4                       0   \n",
       "2  3000582891479                 4                       1   \n",
       "3  3000582941169                 4                       1   \n",
       "4  3000583140877                 9                       0   \n",
       "\n",
       "   cancellations_time_in_seconds  \n",
       "0                          198.0  \n",
       "1                          128.0  \n",
       "2                           46.0  \n",
       "3                           62.0  \n",
       "4                            NaN  "
      ]
     },
     "execution_count": 2,
     "metadata": {},
     "output_type": "execute_result"
    }
   ],
   "source": [
    "df_orders = pd.read_csv(r'C:\\Users\\arnau\\Gett_project\\data\\data_orders.csv')\n",
    "\n",
    "df_orders.head()"
   ]
  },
  {
   "cell_type": "code",
   "execution_count": 3,
   "metadata": {},
   "outputs": [
    {
     "name": "stdout",
     "output_type": "stream",
     "text": [
      "<class 'pandas.core.frame.DataFrame'>\n",
      "RangeIndex: 10716 entries, 0 to 10715\n",
      "Data columns (total 8 columns):\n",
      " #   Column                         Non-Null Count  Dtype  \n",
      "---  ------                         --------------  -----  \n",
      " 0   order_datetime                 10716 non-null  object \n",
      " 1   origin_longitude               10716 non-null  float64\n",
      " 2   origin_latitude                10716 non-null  float64\n",
      " 3   m_order_eta                    2814 non-null   float64\n",
      " 4   order_gk                       10716 non-null  int64  \n",
      " 5   order_status_key               10716 non-null  int64  \n",
      " 6   is_driver_assigned_key         10716 non-null  int64  \n",
      " 7   cancellations_time_in_seconds  7307 non-null   float64\n",
      "dtypes: float64(4), int64(3), object(1)\n",
      "memory usage: 669.9+ KB\n"
     ]
    }
   ],
   "source": [
    "df_orders.info()"
   ]
  },
  {
   "cell_type": "markdown",
   "metadata": {},
   "source": [
    "The dataframe looks well formatted. We can already see that in the m_order_eta and cancellations_time_in_seconds columns have missing values. So let's have a look at what other columns have missing values and how many are there."
   ]
  },
  {
   "cell_type": "code",
   "execution_count": 4,
   "metadata": {},
   "outputs": [
    {
     "data": {
      "text/plain": [
       "order_datetime                      0\n",
       "origin_longitude                    0\n",
       "origin_latitude                     0\n",
       "m_order_eta                      7902\n",
       "order_gk                            0\n",
       "order_status_key                    0\n",
       "is_driver_assigned_key              0\n",
       "cancellations_time_in_seconds    3409\n",
       "dtype: int64"
      ]
     },
     "execution_count": 4,
     "metadata": {},
     "output_type": "execute_result"
    }
   ],
   "source": [
    "df_orders.isna().sum()"
   ]
  },
  {
   "cell_type": "markdown",
   "metadata": {},
   "source": [
    "We see that only these two columns (*m_order_eta*, *cancellations_time_in_seconds*) have missing values. Next step we will look more into detail why these columns have missing values."
   ]
  },
  {
   "cell_type": "markdown",
   "metadata": {},
   "source": [
    "## Missing Values Investigation\n"
   ]
  },
  {
   "cell_type": "markdown",
   "metadata": {},
   "source": [
    "### Hypothesis\n",
    "From the Data Description we know that we have two types of cancellations, by the customer and by the system. <br>So it would be interesting to know if for the orders cancelled by the system have an actual value in the *cancellations_time_in_seconds* column. \n",
    "<br>Moreover, we can see that the *is_driver_assigned_key* column gives us the information about if the cancelled order had an assigned driver. Maybe the cancelled orders that didn't have an assigned driver didn't have a value for the Estimated Time to Arrival, let's investigate. \n"
   ]
  },
  {
   "cell_type": "markdown",
   "metadata": {},
   "source": [
    "### Analysis"
   ]
  },
  {
   "cell_type": "markdown",
   "metadata": {},
   "source": [
    "1. Missing values in cancellations_time_in_seconds"
   ]
  },
  {
   "cell_type": "code",
   "execution_count": 5,
   "metadata": {},
   "outputs": [],
   "source": [
    "customer_cancelled_df = df_orders[df_orders['order_status_key'] == 4].copy()\n",
    "\n",
    "system_cancelled_df = df_orders[df_orders['order_status_key'] == 9].copy()"
   ]
  },
  {
   "cell_type": "code",
   "execution_count": 6,
   "metadata": {},
   "outputs": [],
   "source": [
    "number_system_cancelled = system_cancelled_df.shape[0]\n",
    "missing_values_cancellations_column = system_cancelled_df.isna().sum()['cancellations_time_in_seconds']"
   ]
  },
  {
   "cell_type": "code",
   "execution_count": 7,
   "metadata": {},
   "outputs": [
    {
     "name": "stdout",
     "output_type": "stream",
     "text": [
      "The number of system cancelled orders are 3409 \n",
      "which corresponds to the missing values in the cancellations_time_in_seconds column (3409).\n"
     ]
    }
   ],
   "source": [
    "print(f'The number of system cancelled orders are {number_system_cancelled}', \n",
    "      f'\\nwhich corresponds to the missing values in the cancellations_time_in_seconds column ({missing_values_cancellations_column}).')"
   ]
  },
  {
   "cell_type": "markdown",
   "metadata": {},
   "source": [
    "We see clearly that the orders cancelled by the system don't have any value for cancellation time, which makes sense as when the system rejected the order it is supposed to be instantly.\n",
    "<br>Additionally, this information is only interesting to understand customer behaviour not the systems behaviour."
   ]
  },
  {
   "cell_type": "markdown",
   "metadata": {},
   "source": [
    "2. Missing values in *m_orders_eta*"
   ]
  },
  {
   "cell_type": "code",
   "execution_count": 8,
   "metadata": {},
   "outputs": [],
   "source": [
    "driver_assigned_df = df_orders[df_orders['is_driver_assigned_key'] == 1].copy()\n",
    "no_driver_assigned_df = df_orders[df_orders['is_driver_assigned_key'] == 0].copy()"
   ]
  },
  {
   "cell_type": "code",
   "execution_count": 9,
   "metadata": {},
   "outputs": [],
   "source": [
    "num_orders_wo_driver = no_driver_assigned_df.shape[0]\n",
    "missing_values_eta = no_driver_assigned_df.isna().sum()['m_order_eta']"
   ]
  },
  {
   "cell_type": "code",
   "execution_count": 10,
   "metadata": {},
   "outputs": [
    {
     "name": "stdout",
     "output_type": "stream",
     "text": [
      "The number of cancelled orders without assigned driver is: 7902\n",
      "corresponds to the number of missing values in the eta column (7902).\n"
     ]
    }
   ],
   "source": [
    "print(f'The number of cancelled orders without assigned driver is: {num_orders_wo_driver}'\n",
    "      f'\\ncorresponds to the number of missing values in the eta column ({missing_values_eta}).')"
   ]
  },
  {
   "cell_type": "markdown",
   "metadata": {},
   "source": [
    "From this analysis we now know that the missing values in the m_order_eta column are due to the order not having an assigned driver. This is logical as if the system was still looking for a driver it could not predict how long it would take for the client to arrive at its destination. "
   ]
  },
  {
   "cell_type": "markdown",
   "metadata": {},
   "source": [
    "### Conclusion\n",
    "\n",
    "With our analysis we now know that the missing values are legitimate and make sense in the business context. <br>Therefore, we don't need to make specific adjustments or replace these missing values. "
   ]
  },
  {
   "cell_type": "markdown",
   "metadata": {},
   "source": [
    "## EDA\n",
    "\n",
    "Let's now visualize this dataset to better understand some trends.  \n",
    "We'll first visualize the distribution of cancelled orders according to reasons for failure:\n",
    "- Before and After driver Assignment\n",
    "- Customer or System Rejection\n",
    "\n",
    "Then we will plot the distribution of failed orders by hour to see if there are certain hours that are subject to higher amount of cancellations.\n",
    "\n",
    "2. Failed order by hour\n",
    "3. Average cancellation time by hour\n",
    "4. Average ETA by hour\n",
    "\n",
    "Lastly we'd like to understand if some regions have a higher proportion of failed orders. For this we'll use the h3 and folium libraries.\n",
    "\n",
    "5. Choropleth of failed orders by region (hexagons)"
   ]
  },
  {
   "cell_type": "markdown",
   "metadata": {},
   "source": [
    "### 1. Before and After Driver Assignment & Customer vs. System Rejection"
   ]
  },
  {
   "cell_type": "markdown",
   "metadata": {},
   "source": [
    "Before making the graph we will modify the encoding for customer and system cancelled orders to make it easier to plot.  \n",
    "We will change the 4 and 9 in the order_status_key column to 0 (Customer cancelled) and 1 (system cancelled). "
   ]
  },
  {
   "cell_type": "code",
   "execution_count": 11,
   "metadata": {},
   "outputs": [],
   "source": [
    "df_orders.replace({'order_status_key': {4:0, 9:1}}, inplace=True)"
   ]
  },
  {
   "cell_type": "code",
   "execution_count": 12,
   "metadata": {},
   "outputs": [
    {
     "data": {
      "image/png": "[encoded data removed]",
      "text/plain": [
       "<Figure size 2000x600 with 2 Axes>"
      ]
     },
     "metadata": {},
     "output_type": "display_data"
    }
   ],
   "source": [
    "# Let first define the size of our graphing area\n",
    "fig, (ax1, ax2) = plt.subplots(1, 2, figsize=(20,6))\n",
    "\n",
    "# ax1\n",
    "\n",
    "# Firstly  we plot a Histogram of the failed orders, passing the is_driver_assigned_key as the x-value \n",
    "\n",
    "sns.histplot(data=df_orders, x='is_driver_assigned_key', discrete=True, shrink=.8, linewidth = 0.5, ax=ax1, color='#37BDB5')\n",
    "\n",
    "# Then we set the title of the first graph\n",
    "\n",
    "ax1.set_title('Cancelled Rides with or without assigned driver',pad=20)\n",
    "\n",
    "\n",
    "# To simplify the graph and only keep crucial information we'll get rid of the y-axis. \n",
    "\n",
    "sns.despine(left=True, ax=ax1)\n",
    "\n",
    "# We first set the x-axis ticks to 0 and 1 and rename them  to 'not assigned' and 'assigned'.\n",
    "\n",
    "ax1.set_xticks([0,1])\n",
    "ax1.set_xticklabels(['not assigned', 'assigned'])\n",
    "ax1.set(xlabel='Driver')\n",
    "\n",
    "# And then get rid of the y-axis ticks and label.\n",
    "ax1.set_yticklabels([])\n",
    "ax1.tick_params(left=False)\n",
    "ax1.set(ylabel=None)\n",
    "\n",
    "# Finally, as we got rid of the y-axis and don't have a good understanding of the scale we'll add the actual values of the two bars to the chart\n",
    "ax1.bar_label(ax1.containers[0], padding=2)\n",
    "\n",
    "#ax2\n",
    "# Secondly we plot a Histogram of the failed orders, passing the order_status_key as the x-value \n",
    "\n",
    "sns.histplot(data=df_orders, x='order_status_key', discrete=True, shrink=.8, linewidth = 0.5, ax=ax2, color='#37BDB5')\n",
    "\n",
    "\n",
    "# Then we set the title of the second graph\n",
    "\n",
    "\n",
    "ax2.set_title('Cancelled Rides by Customer or System',pad=20)\n",
    "\n",
    "\n",
    "# To simplify the graph and only keep crucial information we'll get rid of the y-axis. \n",
    "\n",
    "sns.despine(left=True,  ax=ax2)\n",
    "\n",
    "# We first set the x-axis ticks to 0 and 1 and rename them  to 'customer' and 'system'.\n",
    "\n",
    "ax2.set_xticks([0,1])\n",
    "ax2.set_xticklabels(['customer', 'system'])\n",
    "ax2.set(xlabel='Cancelled By')\n",
    "\n",
    "# And then get rid of the y-axis ticks and label\n",
    "ax2.set_yticklabels([])\n",
    "ax2.tick_params(left=False)\n",
    "ax2.set(ylabel=None)\n",
    "\n",
    "# Finally, as we got rid of the y-axis and don't have a good understanding of the scale we'll add the actual values of the two bars to the chart\n",
    "ax2.bar_label(ax2.containers[0], padding=2)\n",
    "\n",
    "\n",
    "fig.set_facecolor('#FFFBF0')\n",
    "ax1.set_facecolor('#FFFBF0')\n",
    "ax2.set_facecolor('#FFFBF0');\n",
    "\n"
   ]
  },
  {
   "cell_type": "markdown",
   "metadata": {},
   "source": [
    "#### Conclusions\n",
    "\n",
    "From these graphs we can see that a majority of rides are being cancelled before a driver has been assigned, which could mean:\n",
    "- that the system took too long to assign a driver \n",
    "- there were too few drivers available to accept a ride\n",
    "- available drivers didn't accept the ride quickly\n",
    "\n",
    "<br> Moreover, we see that the majority of rides were cancelled by the customers and not rejected by the system.\n",
    "This could indicate that the system is working reasonably well and the main reason for cancellations stems from customers. \n",
    "However, the relatively high amount of system rejections (**~32%**) might indicate some issues in the system. "
   ]
  },
  {
   "cell_type": "markdown",
   "metadata": {},
   "source": [
    "### 2. Distribution of Cancelled Orders by Hour"
   ]
  },
  {
   "cell_type": "markdown",
   "metadata": {},
   "source": [
    "Now that we have some ideas about the reasons of cancellations let's have a look at the distribution by hour. Are there any hour that sees a higher number of cancellations?"
   ]
  },
  {
   "cell_type": "code",
   "execution_count": 13,
   "metadata": {},
   "outputs": [],
   "source": [
    "df_orders['Hour'] = pd.to_datetime(df_orders['order_datetime'], format= '%H:%M:%S').dt.hour\n",
    "\n",
    "driver_assigned_df['Hour'] = df_orders['Hour']\n",
    "no_driver_assigned_df['Hour'] = df_orders['Hour']"
   ]
  },
  {
   "cell_type": "code",
   "execution_count": 14,
   "metadata": {},
   "outputs": [
    {
     "data": {
      "image/png": "[encoded data removed]",
      "text/plain": [
       "<Figure size 2000x1000 with 1 Axes>"
      ]
     },
     "metadata": {},
     "output_type": "display_data"
    }
   ],
   "source": [
    "# Let's define the space in which we will draw our graph along with the title.\n",
    "# As we only want to see 24 hours we set the limit of the x axis to 24, and for the y-axis we set the maximum limit to 1200\n",
    "# Lastly we rename the y-axis label to make it understandable that we are plotting the cancelled orders\n",
    "\n",
    "\n",
    "fig, ax1 = plt.subplots(1, 1, figsize=(20,10))\n",
    "\n",
    "#plt.figure(figsize=(20,10))\n",
    "plt.title('Cancellations by Hour', pad=10)\n",
    "plt.xlim(-1,24)\n",
    "plt.xticks(range(0,24))\n",
    "plt.ylim(0,1200)\n",
    "plt.ylabel('Cancelled orders')\n",
    "\n",
    "\n",
    "# We start by plotting the total numober of cancelled orders by hours\n",
    "# and then add another plot on top to show the proportion of cancelled orders that had an assigned driver\n",
    "# Lastly to make our plot more readable we add a legend to it.\n",
    "\n",
    "ax = sns.histplot(data=df_orders, x='Hour', binrange=(0,24), binwidth=1, discrete=True, color='#D3D3D3')\n",
    "\n",
    "sns.histplot(data=driver_assigned_df, x='Hour', binrange=(0,24), binwidth=1, discrete=True, color='#5A5A5A')\n",
    "\n",
    "plt.legend(labels=['Not Assigned Driver', 'Assigned Driver'])\n",
    "\n",
    "# As this plot doesn't highlight anything in particular we want to make the top 3 hours with the most cancellation stand out.\n",
    "# Therefore we first get a list of heights from our plot and assigning it to a 'heights' list.\n",
    "# Then we get the height of the hour with the 3rd most cancellation and assign it to the variable 'third_highest'.\n",
    "# Using an if statement we check if the ax.patches height is higher or equal to this height and if True set a determined facecolor.\n",
    "# Lastly, we want to see exactly how many orders were cancelled in these three hours so we use the plt.text method to add it to the graph.\n",
    "\n",
    "heights = [p.get_height() for p in ax.patches]\n",
    "third_highest = sorted(heights)[-3]\n",
    "for p in ax.patches:\n",
    "    if  p.get_height() >= third_highest:\n",
    "        p.set_facecolor('#37BDB5')\n",
    "        plt.text(x=p.get_x()+0.5, y=p.get_height() + 20, s= '{:,}'.format(p.get_height()), ha='center')\n",
    "\n",
    "\n",
    "# To change slightly the color of the background of the plot we change it to this warmer color\n",
    "\n",
    "ax.set_facecolor('#FFFBF0')\n",
    "fig.set_facecolor('#FFFBF0')\n",
    "plt.show()"
   ]
  },
  {
   "cell_type": "markdown",
   "metadata": {},
   "source": [
    "We see that there is a huge peak at 8am and then two smaller peaks in the evening at 9 and 11pm. \n",
    "<br>This peak could be explained by the morning traffic and some higher traffic during the evening. \n",
    "<br>We also see that cancelled rides without an assigned driver are consistently higher than rides that had an assigned driver. <br>This makes us think that there are not enough drivers to satisfy all the demand."
   ]
  },
  {
   "cell_type": "markdown",
   "metadata": {},
   "source": [
    "### 3. Average time to cancellation\n",
    "\n",
    "We can dive a bit further into the analysis by looking at the average time it takes customers to cancel, deeing that there is a difference in volume of cancellation with and without assigned driver we would like to see if that is also reflected in the time it takes customers to cancel. \n",
    "<br>Are customers cancelling faster when there is no driver assigned?\n",
    "\n",
    "Before we look at this we need to see the distribution of the data we have in the column *cancellations_time_in_seconds*:\n",
    "\n",
    "- First we'll have a look at the numbers and then visualize the distribution using a histogram and boxplot\n",
    "- If we can see any outliers we'll remove them\n",
    "- Finally we will plot the average time to cancellation by hour"
   ]
  },
  {
   "cell_type": "markdown",
   "metadata": {},
   "source": [
    "> **Recap of our previous findings**. \n",
    "<br>The column *cancellations_time_in_seconds* has 3,409 missing values due to the system rejecting the order. <br>Therefore, we will first drop the rows of the dataframes *driver_assigned_df* and *no_driver_assigned_df* where the system rejected the order (i.e. order_status_key = 9)."
   ]
  },
  {
   "cell_type": "code",
   "execution_count": 15,
   "metadata": {},
   "outputs": [
    {
     "name": "stdout",
     "output_type": "stream",
     "text": [
      "(2814, 9)\n",
      "(7902, 9)\n"
     ]
    }
   ],
   "source": [
    "print(driver_assigned_df.shape)\n",
    "print(no_driver_assigned_df.shape)"
   ]
  },
  {
   "cell_type": "code",
   "execution_count": 16,
   "metadata": {},
   "outputs": [],
   "source": [
    "driver_assigned_df.drop(driver_assigned_df[driver_assigned_df['order_status_key'] == 9].index, inplace=True)\n",
    "no_driver_assigned_df.drop(no_driver_assigned_df[no_driver_assigned_df['order_status_key'] == 9].index, inplace=True)"
   ]
  },
  {
   "cell_type": "code",
   "execution_count": 17,
   "metadata": {},
   "outputs": [
    {
     "name": "stdout",
     "output_type": "stream",
     "text": [
      "(2811, 9)\n",
      "(4496, 9)\n"
     ]
    }
   ],
   "source": [
    "print(driver_assigned_df.shape)\n",
    "print(no_driver_assigned_df.shape)"
   ]
  },
  {
   "cell_type": "code",
   "execution_count": 18,
   "metadata": {},
   "outputs": [
    {
     "name": "stdout",
     "output_type": "stream",
     "text": [
      "order_datetime                   0\n",
      "origin_longitude                 0\n",
      "origin_latitude                  0\n",
      "m_order_eta                      0\n",
      "order_gk                         0\n",
      "order_status_key                 0\n",
      "is_driver_assigned_key           0\n",
      "cancellations_time_in_seconds    0\n",
      "Hour                             0\n",
      "dtype: int64\n",
      "order_datetime                      0\n",
      "origin_longitude                    0\n",
      "origin_latitude                     0\n",
      "m_order_eta                      4496\n",
      "order_gk                            0\n",
      "order_status_key                    0\n",
      "is_driver_assigned_key              0\n",
      "cancellations_time_in_seconds       0\n",
      "Hour                                0\n",
      "dtype: int64\n"
     ]
    }
   ],
   "source": [
    "print(driver_assigned_df.isna().sum())\n",
    "print(no_driver_assigned_df.isna().sum())"
   ]
  },
  {
   "cell_type": "markdown",
   "metadata": {},
   "source": [
    "We can see that there is no missing value in the first dataframe and some missing values in the second. As it's in a column that's not of interest for this analysis we can go ahead and analyze more in detail the *cancellations_time_in_seconds* column of both dataframes."
   ]
  },
  {
   "cell_type": "code",
   "execution_count": 19,
   "metadata": {},
   "outputs": [
    {
     "name": "stdout",
     "output_type": "stream",
     "text": [
      "count    2811.000000\n",
      "mean      233.897901\n",
      "std       292.709718\n",
      "min         6.000000\n",
      "25%        54.000000\n",
      "50%       127.000000\n",
      "75%       296.000000\n",
      "max      4303.000000\n",
      "Name: cancellations_time_in_seconds, dtype: float64\n",
      "count    4496.000000\n",
      "mean      110.371441\n",
      "std       120.676021\n",
      "min         3.000000\n",
      "25%        38.000000\n",
      "50%        88.000000\n",
      "75%       157.000000\n",
      "max      4097.000000\n",
      "Name: cancellations_time_in_seconds, dtype: float64\n"
     ]
    }
   ],
   "source": [
    "print(driver_assigned_df.describe()['cancellations_time_in_seconds'])\n",
    "print(no_driver_assigned_df.describe()['cancellations_time_in_seconds'])"
   ]
  },
  {
   "cell_type": "markdown",
   "metadata": {},
   "source": [
    "We can see that when a driver is assigned the average and median time to cancellations is higher than when there is no driver assigned. "
   ]
  },
  {
   "cell_type": "markdown",
   "metadata": {},
   "source": [
    "#### Histogram and Boxplot"
   ]
  },
  {
   "cell_type": "code",
   "execution_count": 20,
   "metadata": {},
   "outputs": [
    {
     "data": {
      "image/png": "[encoded data removed]",
      "text/plain": [
       "<Figure size 2000x500 with 2 Axes>"
      ]
     },
     "metadata": {},
     "output_type": "display_data"
    }
   ],
   "source": [
    "fig, (ax1, ax2) = plt.subplots(1, 2, figsize=(20,5))\n",
    "ax1.set_title('Distribution of Cancelled orders by Cancellation time')\n",
    "ax2.set_title('Boxplot of Cancelled orders by Cancellation Time')\n",
    "ax1.set_xticks(np.arange(0,5000,250))\n",
    "ax2.set_xticks(np.arange(0,5000,250))\n",
    "sns.histplot(data=df_orders, x='cancellations_time_in_seconds', bins=50, hue='is_driver_assigned_key', multiple='stack', ax=ax1, palette=['#D3D3D3','#5A5A5A'])\n",
    "sns.boxplot(data=df_orders, x='cancellations_time_in_seconds', y='is_driver_assigned_key', hue='is_driver_assigned_key', legend=False, orient='h', ax=ax2, palette=['#D3D3D3','#5A5A5A'])\n",
    "fig.set_facecolor('#FFFBF0')\n",
    "ax1.set_facecolor('#FFFBF0')\n",
    "ax2.set_facecolor('#FFFBF0');"
   ]
  },
  {
   "cell_type": "markdown",
   "metadata": {},
   "source": [
    "From these two graphs we can see that the majority of orders are cancelled between 0 and 250s. \n",
    "<br>Moreover, orders that don't have an assigned driver are cancelled before 250s are over, with a drastic drop after 250s. \n",
    "<br>meaning that customers are faster in cancelling a ride when no driver is assigned, whereas when a driver is assigned more are willing to wait. \n",
    "<br>This also shown in the Boxplot where we see that the mean cancellation time is higher but also the distribution of cancellation times is larger when there is a driver assigned. \n",
    "\n",
    "\n",
    "<br>The Boxplot shows us that for both rides, with or without an assigned driver, there are quite some outliers. \n",
    "<br>To keep our focus on the majority of cases we will only consider cancelled rides that fall in between 1.5 * Inter Quantile Range from the lower (25%) and upper limit (75%). "
   ]
  },
  {
   "cell_type": "code",
   "execution_count": 21,
   "metadata": {},
   "outputs": [
    {
     "name": "stdout",
     "output_type": "stream",
     "text": [
      "(2811, 9)\n",
      "(4496, 9)\n"
     ]
    }
   ],
   "source": [
    "print(driver_assigned_df.shape)\n",
    "print(no_driver_assigned_df.shape)"
   ]
  },
  {
   "cell_type": "code",
   "execution_count": 22,
   "metadata": {},
   "outputs": [
    {
     "name": "stdout",
     "output_type": "stream",
     "text": [
      "659.0 335.5\n"
     ]
    }
   ],
   "source": [
    "IQR_driver_assigned = 296 - 54\n",
    "IQR_no_driver_assigned = 157 - 38\n",
    "\n",
    "driver_assigned_upper_fence = 296+(1.5*IQR_driver_assigned)\n",
    "no_driver_assigned_upper_fence = 157+(1.5*IQR_no_driver_assigned)\n",
    "\n",
    "print(driver_assigned_upper_fence, no_driver_assigned_upper_fence)"
   ]
  },
  {
   "cell_type": "code",
   "execution_count": 23,
   "metadata": {},
   "outputs": [],
   "source": [
    "driver_assigned_df_wo_outlier = driver_assigned_df.drop(driver_assigned_df[driver_assigned_df['cancellations_time_in_seconds'] > driver_assigned_upper_fence].index)\n",
    "no_driver_assigned_df_wo_outlier = no_driver_assigned_df.drop(no_driver_assigned_df[no_driver_assigned_df['cancellations_time_in_seconds'] > no_driver_assigned_upper_fence].index)"
   ]
  },
  {
   "cell_type": "code",
   "execution_count": 24,
   "metadata": {},
   "outputs": [
    {
     "name": "stdout",
     "output_type": "stream",
     "text": [
      "(2592, 9)\n",
      "(4395, 9)\n"
     ]
    }
   ],
   "source": [
    "print(driver_assigned_df_wo_outlier.shape)\n",
    "print(no_driver_assigned_df_wo_outlier.shape)"
   ]
  },
  {
   "cell_type": "code",
   "execution_count": 25,
   "metadata": {},
   "outputs": [
    {
     "data": {
      "text/html": [
       "<div>\n",
       "<style scoped>\n",
       "    .dataframe tbody tr th:only-of-type {\n",
       "        vertical-align: middle;\n",
       "    }\n",
       "\n",
       "    .dataframe tbody tr th {\n",
       "        vertical-align: top;\n",
       "    }\n",
       "\n",
       "    .dataframe thead th {\n",
       "        text-align: right;\n",
       "    }\n",
       "</style>\n",
       "<table border=\"1\" class=\"dataframe\">\n",
       "  <thead>\n",
       "    <tr style=\"text-align: right;\">\n",
       "      <th></th>\n",
       "      <th>origin_longitude</th>\n",
       "      <th>origin_latitude</th>\n",
       "      <th>m_order_eta</th>\n",
       "      <th>order_gk</th>\n",
       "      <th>order_status_key</th>\n",
       "      <th>is_driver_assigned_key</th>\n",
       "      <th>cancellations_time_in_seconds</th>\n",
       "      <th>Hour</th>\n",
       "    </tr>\n",
       "  </thead>\n",
       "  <tbody>\n",
       "    <tr>\n",
       "      <th>count</th>\n",
       "      <td>2592.000000</td>\n",
       "      <td>2592.000000</td>\n",
       "      <td>2592.000000</td>\n",
       "      <td>2.592000e+03</td>\n",
       "      <td>2592.0</td>\n",
       "      <td>2592.0</td>\n",
       "      <td>2592.000000</td>\n",
       "      <td>2592.000000</td>\n",
       "    </tr>\n",
       "    <tr>\n",
       "      <th>mean</th>\n",
       "      <td>-0.962896</td>\n",
       "      <td>51.450290</td>\n",
       "      <td>440.674383</td>\n",
       "      <td>3.000594e+12</td>\n",
       "      <td>4.0</td>\n",
       "      <td>1.0</td>\n",
       "      <td>170.244599</td>\n",
       "      <td>12.536265</td>\n",
       "    </tr>\n",
       "    <tr>\n",
       "      <th>std</th>\n",
       "      <td>0.019514</td>\n",
       "      <td>0.010893</td>\n",
       "      <td>290.068530</td>\n",
       "      <td>2.546720e+07</td>\n",
       "      <td>0.0</td>\n",
       "      <td>0.0</td>\n",
       "      <td>157.882988</td>\n",
       "      <td>6.599375</td>\n",
       "    </tr>\n",
       "    <tr>\n",
       "      <th>min</th>\n",
       "      <td>-1.060767</td>\n",
       "      <td>51.400069</td>\n",
       "      <td>60.000000</td>\n",
       "      <td>3.000550e+12</td>\n",
       "      <td>4.0</td>\n",
       "      <td>1.0</td>\n",
       "      <td>6.000000</td>\n",
       "      <td>0.000000</td>\n",
       "    </tr>\n",
       "    <tr>\n",
       "      <th>25%</th>\n",
       "      <td>-0.973433</td>\n",
       "      <td>51.444904</td>\n",
       "      <td>179.000000</td>\n",
       "      <td>3.000579e+12</td>\n",
       "      <td>4.0</td>\n",
       "      <td>1.0</td>\n",
       "      <td>50.000000</td>\n",
       "      <td>8.000000</td>\n",
       "    </tr>\n",
       "    <tr>\n",
       "      <th>50%</th>\n",
       "      <td>-0.966260</td>\n",
       "      <td>51.452086</td>\n",
       "      <td>359.000000</td>\n",
       "      <td>3.000592e+12</td>\n",
       "      <td>4.0</td>\n",
       "      <td>1.0</td>\n",
       "      <td>110.000000</td>\n",
       "      <td>13.000000</td>\n",
       "    </tr>\n",
       "    <tr>\n",
       "      <th>75%</th>\n",
       "      <td>-0.950018</td>\n",
       "      <td>51.456173</td>\n",
       "      <td>656.000000</td>\n",
       "      <td>3.000623e+12</td>\n",
       "      <td>4.0</td>\n",
       "      <td>1.0</td>\n",
       "      <td>238.000000</td>\n",
       "      <td>18.000000</td>\n",
       "    </tr>\n",
       "    <tr>\n",
       "      <th>max</th>\n",
       "      <td>-0.876873</td>\n",
       "      <td>51.494748</td>\n",
       "      <td>1559.000000</td>\n",
       "      <td>3.000633e+12</td>\n",
       "      <td>4.0</td>\n",
       "      <td>1.0</td>\n",
       "      <td>659.000000</td>\n",
       "      <td>23.000000</td>\n",
       "    </tr>\n",
       "  </tbody>\n",
       "</table>\n",
       "</div>"
      ],
      "text/plain": [
       "       origin_longitude  origin_latitude  m_order_eta      order_gk  \\\n",
       "count       2592.000000      2592.000000  2592.000000  2.592000e+03   \n",
       "mean          -0.962896        51.450290   440.674383  3.000594e+12   \n",
       "std            0.019514         0.010893   290.068530  2.546720e+07   \n",
       "min           -1.060767        51.400069    60.000000  3.000550e+12   \n",
       "25%           -0.973433        51.444904   179.000000  3.000579e+12   \n",
       "50%           -0.966260        51.452086   359.000000  3.000592e+12   \n",
       "75%           -0.950018        51.456173   656.000000  3.000623e+12   \n",
       "max           -0.876873        51.494748  1559.000000  3.000633e+12   \n",
       "\n",
       "       order_status_key  is_driver_assigned_key  \\\n",
       "count            2592.0                  2592.0   \n",
       "mean                4.0                     1.0   \n",
       "std                 0.0                     0.0   \n",
       "min                 4.0                     1.0   \n",
       "25%                 4.0                     1.0   \n",
       "50%                 4.0                     1.0   \n",
       "75%                 4.0                     1.0   \n",
       "max                 4.0                     1.0   \n",
       "\n",
       "       cancellations_time_in_seconds         Hour  \n",
       "count                    2592.000000  2592.000000  \n",
       "mean                      170.244599    12.536265  \n",
       "std                       157.882988     6.599375  \n",
       "min                         6.000000     0.000000  \n",
       "25%                        50.000000     8.000000  \n",
       "50%                       110.000000    13.000000  \n",
       "75%                       238.000000    18.000000  \n",
       "max                       659.000000    23.000000  "
      ]
     },
     "execution_count": 25,
     "metadata": {},
     "output_type": "execute_result"
    }
   ],
   "source": [
    "driver_assigned_df_wo_outlier.describe()"
   ]
  },
  {
   "cell_type": "code",
   "execution_count": 26,
   "metadata": {},
   "outputs": [
    {
     "data": {
      "text/html": [
       "<div>\n",
       "<style scoped>\n",
       "    .dataframe tbody tr th:only-of-type {\n",
       "        vertical-align: middle;\n",
       "    }\n",
       "\n",
       "    .dataframe tbody tr th {\n",
       "        vertical-align: top;\n",
       "    }\n",
       "\n",
       "    .dataframe thead th {\n",
       "        text-align: right;\n",
       "    }\n",
       "</style>\n",
       "<table border=\"1\" class=\"dataframe\">\n",
       "  <thead>\n",
       "    <tr style=\"text-align: right;\">\n",
       "      <th></th>\n",
       "      <th>origin_longitude</th>\n",
       "      <th>origin_latitude</th>\n",
       "      <th>m_order_eta</th>\n",
       "      <th>order_gk</th>\n",
       "      <th>order_status_key</th>\n",
       "      <th>is_driver_assigned_key</th>\n",
       "      <th>cancellations_time_in_seconds</th>\n",
       "      <th>Hour</th>\n",
       "    </tr>\n",
       "  </thead>\n",
       "  <tbody>\n",
       "    <tr>\n",
       "      <th>count</th>\n",
       "      <td>4395.000000</td>\n",
       "      <td>4395.000000</td>\n",
       "      <td>0.0</td>\n",
       "      <td>4.395000e+03</td>\n",
       "      <td>4395.0</td>\n",
       "      <td>4395.0</td>\n",
       "      <td>4395.000000</td>\n",
       "      <td>4395.000000</td>\n",
       "    </tr>\n",
       "    <tr>\n",
       "      <th>mean</th>\n",
       "      <td>-0.964686</td>\n",
       "      <td>51.450830</td>\n",
       "      <td>NaN</td>\n",
       "      <td>3.000599e+12</td>\n",
       "      <td>4.0</td>\n",
       "      <td>0.0</td>\n",
       "      <td>99.261661</td>\n",
       "      <td>12.706485</td>\n",
       "    </tr>\n",
       "    <tr>\n",
       "      <th>std</th>\n",
       "      <td>0.022503</td>\n",
       "      <td>0.011777</td>\n",
       "      <td>NaN</td>\n",
       "      <td>2.340489e+07</td>\n",
       "      <td>0.0</td>\n",
       "      <td>0.0</td>\n",
       "      <td>72.859466</td>\n",
       "      <td>7.876657</td>\n",
       "    </tr>\n",
       "    <tr>\n",
       "      <th>min</th>\n",
       "      <td>-1.066952</td>\n",
       "      <td>51.399523</td>\n",
       "      <td>NaN</td>\n",
       "      <td>3.000550e+12</td>\n",
       "      <td>4.0</td>\n",
       "      <td>0.0</td>\n",
       "      <td>3.000000</td>\n",
       "      <td>0.000000</td>\n",
       "    </tr>\n",
       "    <tr>\n",
       "      <th>25%</th>\n",
       "      <td>-0.974195</td>\n",
       "      <td>51.444830</td>\n",
       "      <td>NaN</td>\n",
       "      <td>3.000584e+12</td>\n",
       "      <td>4.0</td>\n",
       "      <td>0.0</td>\n",
       "      <td>37.000000</td>\n",
       "      <td>7.000000</td>\n",
       "    </tr>\n",
       "    <tr>\n",
       "      <th>50%</th>\n",
       "      <td>-0.967002</td>\n",
       "      <td>51.452523</td>\n",
       "      <td>NaN</td>\n",
       "      <td>3.000595e+12</td>\n",
       "      <td>4.0</td>\n",
       "      <td>0.0</td>\n",
       "      <td>85.000000</td>\n",
       "      <td>14.000000</td>\n",
       "    </tr>\n",
       "    <tr>\n",
       "      <th>75%</th>\n",
       "      <td>-0.950065</td>\n",
       "      <td>51.456835</td>\n",
       "      <td>NaN</td>\n",
       "      <td>3.000624e+12</td>\n",
       "      <td>4.0</td>\n",
       "      <td>0.0</td>\n",
       "      <td>151.000000</td>\n",
       "      <td>21.000000</td>\n",
       "    </tr>\n",
       "    <tr>\n",
       "      <th>max</th>\n",
       "      <td>-0.867088</td>\n",
       "      <td>51.496169</td>\n",
       "      <td>NaN</td>\n",
       "      <td>3.000632e+12</td>\n",
       "      <td>4.0</td>\n",
       "      <td>0.0</td>\n",
       "      <td>334.000000</td>\n",
       "      <td>23.000000</td>\n",
       "    </tr>\n",
       "  </tbody>\n",
       "</table>\n",
       "</div>"
      ],
      "text/plain": [
       "       origin_longitude  origin_latitude  m_order_eta      order_gk  \\\n",
       "count       4395.000000      4395.000000          0.0  4.395000e+03   \n",
       "mean          -0.964686        51.450830          NaN  3.000599e+12   \n",
       "std            0.022503         0.011777          NaN  2.340489e+07   \n",
       "min           -1.066952        51.399523          NaN  3.000550e+12   \n",
       "25%           -0.974195        51.444830          NaN  3.000584e+12   \n",
       "50%           -0.967002        51.452523          NaN  3.000595e+12   \n",
       "75%           -0.950065        51.456835          NaN  3.000624e+12   \n",
       "max           -0.867088        51.496169          NaN  3.000632e+12   \n",
       "\n",
       "       order_status_key  is_driver_assigned_key  \\\n",
       "count            4395.0                  4395.0   \n",
       "mean                4.0                     0.0   \n",
       "std                 0.0                     0.0   \n",
       "min                 4.0                     0.0   \n",
       "25%                 4.0                     0.0   \n",
       "50%                 4.0                     0.0   \n",
       "75%                 4.0                     0.0   \n",
       "max                 4.0                     0.0   \n",
       "\n",
       "       cancellations_time_in_seconds         Hour  \n",
       "count                    4395.000000  4395.000000  \n",
       "mean                       99.261661    12.706485  \n",
       "std                        72.859466     7.876657  \n",
       "min                         3.000000     0.000000  \n",
       "25%                        37.000000     7.000000  \n",
       "50%                        85.000000    14.000000  \n",
       "75%                       151.000000    21.000000  \n",
       "max                       334.000000    23.000000  "
      ]
     },
     "execution_count": 26,
     "metadata": {},
     "output_type": "execute_result"
    }
   ],
   "source": [
    "no_driver_assigned_df_wo_outlier.describe()"
   ]
  },
  {
   "cell_type": "code",
   "execution_count": 27,
   "metadata": {},
   "outputs": [
    {
     "data": {
      "text/plain": [
       "(6987, 9)"
      ]
     },
     "execution_count": 27,
     "metadata": {},
     "output_type": "execute_result"
    }
   ],
   "source": [
    "df_user_cancelled_no_outlier = pd.concat([driver_assigned_df_wo_outlier, no_driver_assigned_df_wo_outlier])\n",
    "\n",
    "df_user_cancelled_no_outlier.shape"
   ]
  },
  {
   "cell_type": "code",
   "execution_count": 28,
   "metadata": {},
   "outputs": [
    {
     "data": {
      "image/png": "[encoded data removed]",
      "text/plain": [
       "<Figure size 2000x500 with 2 Axes>"
      ]
     },
     "metadata": {},
     "output_type": "display_data"
    }
   ],
   "source": [
    "fig, (ax1, ax2) = plt.subplots(1, 2, figsize=(20,5))\n",
    "ax1.set_title('Distribution of Cancelled orders by Cancellation time')\n",
    "ax2.set_title('Boxplot of Cancelled orders by Cancellation Time')\n",
    "ax1.set_xticks(np.arange(0,1000,50))\n",
    "ax2.set_xticks(np.arange(0,1000,50))\n",
    "sns.histplot(data=df_user_cancelled_no_outlier, x='cancellations_time_in_seconds', bins=50, hue='is_driver_assigned_key', multiple='stack', ax=ax1, palette=['#D3D3D3','#5A5A5A'])\n",
    "sns.boxplot(data=df_user_cancelled_no_outlier, x='cancellations_time_in_seconds', y='is_driver_assigned_key', hue='is_driver_assigned_key', legend=False, orient='h',whis=1.5, ax=ax2, palette=['#D3D3D3','#5A5A5A'])\n",
    "fig.set_facecolor('#FFFBF0')\n",
    "ax1.set_facecolor('#FFFBF0')\n",
    "ax2.set_facecolor('#FFFBF0');"
   ]
  },
  {
   "cell_type": "markdown",
   "metadata": {},
   "source": [
    "We can see that most orders that did not have an assigned driver were cancelled before ~2min30s (151s), while users waited comparatively longer when a driver was assigned, most orders being cancelled within ~4min (240s).\n",
    "\n",
    "Let's have a look at the hourly distribution."
   ]
  },
  {
   "cell_type": "code",
   "execution_count": 29,
   "metadata": {},
   "outputs": [
    {
     "data": {
      "image/png": "[encoded data removed]",
      "text/plain": [
       "<Figure size 2000x1000 with 1 Axes>"
      ]
     },
     "metadata": {},
     "output_type": "display_data"
    }
   ],
   "source": [
    "# Let's define the space in which we will draw our graph along with the title.\n",
    "# As we only want to see 24 hours we set the limit of the x axis to 24, and for the y-axis we set the maximum limit to 300s.\n",
    "# Lastly we rename the y-axis label to make it understandable that we are plotting the average cancellation time in seconds.\n",
    "\n",
    "fig, ax1 = plt.subplots(1, 1, figsize=(20,10))\n",
    "\n",
    "# plt.figure(figsize=(20,10))\n",
    "plt.title('Average Cancellation Time by Hour', pad=10)\n",
    "plt.xlim(-1,24)\n",
    "plt.xticks(range(0,24))\n",
    "plt.ylim(0,300)\n",
    "plt.ylabel('Average Cancellation Time in seconds')\n",
    "\n",
    "\n",
    "\n",
    "# We start by plotting the average cancellation time for cancelled orders by hours.\n",
    "# Lastly to make our plot more readable we add a legend to it.\n",
    "\n",
    "g = sns.barplot(data=df_user_cancelled_no_outlier, x='Hour', y='cancellations_time_in_seconds', hue='is_driver_assigned_key', palette=['#D3D3D3','#5A5A5A'])\n",
    "\n",
    "\n",
    "# change legend texts\n",
    "new_title = 'Rides with and without assigned driver'\n",
    "g.legend_.set_title(new_title)\n",
    "new_labels = ['No assigned driver', 'Assigned driver']\n",
    "for t, l in zip(g.legend_.texts, new_labels):\n",
    "    t.set_text(l)\n",
    "\n",
    "# To add more context we'll add the overall average cancellation time to both rides with and without assigned driver.\n",
    "\n",
    "plt.axhline(y = driver_assigned_df_wo_outlier['cancellations_time_in_seconds'].mean(), ls='--', color='#5A5A5A')\n",
    "plt.axhline(y = no_driver_assigned_df_wo_outlier['cancellations_time_in_seconds'].mean(), ls='--', color='#D3D3D3')\n",
    "\n",
    "# To highlight the hours where customers are the most 'impatient' and cancel orders faster we'll color the bars in another color and add their values to the graph.\n",
    "\n",
    "\n",
    "heights = [p.get_height() for p in g.patches]\n",
    "\n",
    "heights_without_assigned_driver = heights[:24].copy()\n",
    "\n",
    "heights_assigned_driver = heights[24:48].copy()\n",
    "\n",
    "heights_assigned_driver = np.asarray(heights_assigned_driver)\n",
    "heights_without_assigned_driver = np.asarray(heights_without_assigned_driver)\n",
    "\n",
    "for p in g.patches:\n",
    "    if  p.get_height() == heights_without_assigned_driver.min():\n",
    "        p.set_facecolor('#6cd4ce')\n",
    "        plt.text(x=p.get_x(), y=p.get_height() + 20, s= '{:,.1f}'.format(p.get_height()))\n",
    "\n",
    "for p in g.patches:\n",
    "    if  p.get_height() == heights_assigned_driver.min():\n",
    "        p.set_facecolor('#37BDB5')\n",
    "        plt.text(x=p.get_x()+0.2, y=p.get_height() + 60, s= '{:,.1f}'.format(p.get_height()), ha='center')\n",
    "\n",
    "# To change slightly the color of the background of the plot we change it to this warmer color\n",
    "\n",
    "g.set_facecolor('#FFFBF0')\n",
    "fig.set_facecolor('#FFFBF0')\n",
    "\n",
    "plt.show();"
   ]
  },
  {
   "cell_type": "markdown",
   "metadata": {},
   "source": [
    "We can see that rides that didn't have an assigned driver were always cancelled faster than rides with an assigned driver. \n",
    "Moreover, we can see that the time were users are cancelling fastest, for rides without an assigned driver, is at 10 am. In comparison rides with an assigned driver were cancelled fastest at 6 am.\n",
    "Additionally, customers are waiting longer for rides without a driver at 5 am while customers with an assigned driver wait longer in the night (midnight, 2 and 3 am) as well as around 11 am. \n",
    "The average cancellation time for rides without a driver is 100s, while rides with a driver tend to be cancelled after 170s. \n"
   ]
  },
  {
   "cell_type": "markdown",
   "metadata": {},
   "source": [
    "### 4. Average ETA by hours"
   ]
  },
  {
   "cell_type": "markdown",
   "metadata": {},
   "source": [
    "> **Recap of our previous findings**. \n",
    "<br>The column *m_order_eta* has 7,902 missing values due to the order not having an assigned driver. <br>Therefore, we will only use the dataframe *driver_assigned_df*."
   ]
  },
  {
   "cell_type": "code",
   "execution_count": 30,
   "metadata": {},
   "outputs": [
    {
     "data": {
      "image/png": "[encoded data removed]",
      "text/plain": [
       "<Figure size 2000x1000 with 1 Axes>"
      ]
     },
     "metadata": {},
     "output_type": "display_data"
    }
   ],
   "source": [
    "# Let's define the space in which we will draw our graph along with the title.\n",
    "# As we only want to see 24 hours we set the limit of the x axis to 24, and for the y-axis we set the maximum limit to 750\n",
    "# Lastly we rename the y-axis label to make it understandable that we are plotting the average estimated time of arrival (ETA).\n",
    "\n",
    "fig, ax1 = plt.subplots(1, 1, figsize=(20,10))\n",
    "\n",
    "# plt.figure(figsize=(20,10))\n",
    "plt.title('Average ETA by Hour', pad=10)\n",
    "plt.xlim(-1,24)\n",
    "plt.xticks(range(0,24))\n",
    "plt.ylim(0,750)\n",
    "plt.ylabel('Average ETA in seconds')\n",
    "\n",
    "\n",
    "\n",
    "# We start by plotting the average estimated time of arrival for cancelled orders by hours. \n",
    "# Note that we only use the filtered dataframe 'driver_assigned_df' as only rides with a assigned driver\n",
    "# have a value for ETA.\n",
    "\n",
    "g = sns.barplot(data=driver_assigned_df, x='Hour', y='m_order_eta', color='#D3D3D3')\n",
    "\n",
    "# To have a comparison we add a line to show the overall average estimated time of arrival.\n",
    "\n",
    "plt.axhline(y = driver_assigned_df['m_order_eta'].mean(), ls='--', color='#D3D3D3')\n",
    "\n",
    "# Finally to highlight the hours that had the highest ETA we will color the top 3 hours in another color and display their average ETA value.\n",
    "\n",
    "heights = [p.get_height() for p in g.patches]\n",
    "third_highest = sorted(heights)[-3]\n",
    "\n",
    "for p in g.patches:\n",
    "     if  p.get_height() >= third_highest:\n",
    "        p.set_facecolor('#37BDB5')\n",
    "        plt.text(x=p.get_x()+0.4, y=p.get_height() + 52, s= '{:,.2f}'.format(p.get_height()), ha='center')\n",
    "\n",
    "# To change slightly the color of the background of the plot we change it to this warmer color\n",
    "\n",
    "g.set_facecolor('#FFFBF0')\n",
    "fig.set_facecolor('#FFFBF0')\n",
    "\n",
    "plt.show()"
   ]
  },
  {
   "cell_type": "markdown",
   "metadata": {},
   "source": [
    "We can clearly see that from 7 to 8 am the cancelled rides had a longer ETA and at 5 pm we see another peak, which corresponds to the morning and evening traffic peaks.  \n",
    "During these hours as the traffic clogs rides' ETA are longer. Moreover, we see that 8 am had the longest average ETA which corresponds also to the peak in cancelled orders.  \n",
    "We can thus conclude that higher ETA's lead to higher cancellations."
   ]
  },
  {
   "cell_type": "markdown",
   "metadata": {},
   "source": [
    "### 5. Failed orders by Regions (Hexagons)\n",
    "Using the h3 and folium packages, calculate how many hexes (resolution = 8) contain 80% of all orders from the original data sets  \n",
    "and visualise the hexes, colouring them by the number of fails on the map."
   ]
  },
  {
   "cell_type": "markdown",
   "metadata": {},
   "source": [
    "To create this graph we will need the shapely and geopandas libraries on top of the folium and h3 libraries we imported in the beginning."
   ]
  },
  {
   "cell_type": "code",
   "execution_count": 31,
   "metadata": {},
   "outputs": [],
   "source": [
    "import shapely\n",
    "import geopandas as gpd"
   ]
  },
  {
   "cell_type": "markdown",
   "metadata": {},
   "source": [
    "#### Data Preparation"
   ]
  },
  {
   "cell_type": "markdown",
   "metadata": {},
   "source": [
    "We first create a column in the df_orders dataframe by using the method of the h3 library 'geo_to_h3' which creates the hexagons id from the latitude and longitude columns, lastly we'll set the resolution of the hexagon grid to 8.  \n",
    "From there we can create a new dataframe counting how many times a hexagon appears in the order column.  \n",
    "To make it easier to read we'll rename the columns to h3_hex_id and order_count.  "
   ]
  },
  {
   "cell_type": "code",
   "execution_count": 32,
   "metadata": {},
   "outputs": [],
   "source": [
    "df_orders['h3_hex_id'] = df_orders.apply(lambda row: h3.geo_to_h3(row['origin_latitude'], row['origin_longitude'], 8), axis=1) \n",
    "\n",
    "hex_counts = df_orders['h3_hex_id'].value_counts().reset_index() \n",
    "\n",
    "hex_counts.columns = ['h3_hex_id', 'order_count']"
   ]
  },
  {
   "cell_type": "markdown",
   "metadata": {},
   "source": [
    "Now that we have a dataframe that has both hexagon ids and the count of failed orders we'll need to understand how many hexagons contain 80% of the total failed orders.\n",
    "To do this we'll create a new column in the hex_counts dataframe and use the cumsum method to calculate the cummulative sum of failed orders. "
   ]
  },
  {
   "cell_type": "code",
   "execution_count": 33,
   "metadata": {},
   "outputs": [
    {
     "data": {
      "text/html": [
       "<div>\n",
       "<style scoped>\n",
       "    .dataframe tbody tr th:only-of-type {\n",
       "        vertical-align: middle;\n",
       "    }\n",
       "\n",
       "    .dataframe tbody tr th {\n",
       "        vertical-align: top;\n",
       "    }\n",
       "\n",
       "    .dataframe thead th {\n",
       "        text-align: right;\n",
       "    }\n",
       "</style>\n",
       "<table border=\"1\" class=\"dataframe\">\n",
       "  <thead>\n",
       "    <tr style=\"text-align: right;\">\n",
       "      <th></th>\n",
       "      <th>h3_hex_id</th>\n",
       "      <th>order_count</th>\n",
       "      <th>Cummulative Sum</th>\n",
       "    </tr>\n",
       "  </thead>\n",
       "  <tbody>\n",
       "    <tr>\n",
       "      <th>0</th>\n",
       "      <td>88195d2b1dfffff</td>\n",
       "      <td>1497</td>\n",
       "      <td>1497</td>\n",
       "    </tr>\n",
       "    <tr>\n",
       "      <th>1</th>\n",
       "      <td>88195d2b1bfffff</td>\n",
       "      <td>870</td>\n",
       "      <td>2367</td>\n",
       "    </tr>\n",
       "    <tr>\n",
       "      <th>2</th>\n",
       "      <td>88195d2b15fffff</td>\n",
       "      <td>774</td>\n",
       "      <td>3141</td>\n",
       "    </tr>\n",
       "    <tr>\n",
       "      <th>3</th>\n",
       "      <td>88195d2b11fffff</td>\n",
       "      <td>707</td>\n",
       "      <td>3848</td>\n",
       "    </tr>\n",
       "    <tr>\n",
       "      <th>4</th>\n",
       "      <td>88195d2b19fffff</td>\n",
       "      <td>667</td>\n",
       "      <td>4515</td>\n",
       "    </tr>\n",
       "    <tr>\n",
       "      <th>...</th>\n",
       "      <td>...</td>\n",
       "      <td>...</td>\n",
       "      <td>...</td>\n",
       "    </tr>\n",
       "    <tr>\n",
       "      <th>139</th>\n",
       "      <td>88195d2821fffff</td>\n",
       "      <td>1</td>\n",
       "      <td>10712</td>\n",
       "    </tr>\n",
       "    <tr>\n",
       "      <th>140</th>\n",
       "      <td>88195d3993fffff</td>\n",
       "      <td>1</td>\n",
       "      <td>10713</td>\n",
       "    </tr>\n",
       "    <tr>\n",
       "      <th>141</th>\n",
       "      <td>88195d2b69fffff</td>\n",
       "      <td>1</td>\n",
       "      <td>10714</td>\n",
       "    </tr>\n",
       "    <tr>\n",
       "      <th>142</th>\n",
       "      <td>88195d74d5fffff</td>\n",
       "      <td>1</td>\n",
       "      <td>10715</td>\n",
       "    </tr>\n",
       "    <tr>\n",
       "      <th>143</th>\n",
       "      <td>88195d2807fffff</td>\n",
       "      <td>1</td>\n",
       "      <td>10716</td>\n",
       "    </tr>\n",
       "  </tbody>\n",
       "</table>\n",
       "<p>144 rows × 3 columns</p>\n",
       "</div>"
      ],
      "text/plain": [
       "           h3_hex_id  order_count  Cummulative Sum\n",
       "0    88195d2b1dfffff         1497             1497\n",
       "1    88195d2b1bfffff          870             2367\n",
       "2    88195d2b15fffff          774             3141\n",
       "3    88195d2b11fffff          707             3848\n",
       "4    88195d2b19fffff          667             4515\n",
       "..               ...          ...              ...\n",
       "139  88195d2821fffff            1            10712\n",
       "140  88195d3993fffff            1            10713\n",
       "141  88195d2b69fffff            1            10714\n",
       "142  88195d74d5fffff            1            10715\n",
       "143  88195d2807fffff            1            10716\n",
       "\n",
       "[144 rows x 3 columns]"
      ]
     },
     "execution_count": 33,
     "metadata": {},
     "output_type": "execute_result"
    }
   ],
   "source": [
    "hex_counts['Cummulative Sum'] = hex_counts['order_count'].cumsum()\n",
    "\n",
    "hex_counts"
   ]
  },
  {
   "cell_type": "markdown",
   "metadata": {},
   "source": [
    "Now that we have  the cummulative sum we can calculate the cummulative percentage and finally filter out the rows that are higher than 80%."
   ]
  },
  {
   "cell_type": "code",
   "execution_count": 34,
   "metadata": {},
   "outputs": [
    {
     "data": {
      "text/html": [
       "<div>\n",
       "<style scoped>\n",
       "    .dataframe tbody tr th:only-of-type {\n",
       "        vertical-align: middle;\n",
       "    }\n",
       "\n",
       "    .dataframe tbody tr th {\n",
       "        vertical-align: top;\n",
       "    }\n",
       "\n",
       "    .dataframe thead th {\n",
       "        text-align: right;\n",
       "    }\n",
       "</style>\n",
       "<table border=\"1\" class=\"dataframe\">\n",
       "  <thead>\n",
       "    <tr style=\"text-align: right;\">\n",
       "      <th></th>\n",
       "      <th>h3_hex_id</th>\n",
       "      <th>order_count</th>\n",
       "      <th>Cummulative Sum</th>\n",
       "      <th>Cummulative Pct</th>\n",
       "    </tr>\n",
       "  </thead>\n",
       "  <tbody>\n",
       "    <tr>\n",
       "      <th>0</th>\n",
       "      <td>88195d2b1dfffff</td>\n",
       "      <td>1497</td>\n",
       "      <td>1497</td>\n",
       "      <td>0.139698</td>\n",
       "    </tr>\n",
       "    <tr>\n",
       "      <th>1</th>\n",
       "      <td>88195d2b1bfffff</td>\n",
       "      <td>870</td>\n",
       "      <td>2367</td>\n",
       "      <td>0.220885</td>\n",
       "    </tr>\n",
       "    <tr>\n",
       "      <th>2</th>\n",
       "      <td>88195d2b15fffff</td>\n",
       "      <td>774</td>\n",
       "      <td>3141</td>\n",
       "      <td>0.293113</td>\n",
       "    </tr>\n",
       "    <tr>\n",
       "      <th>3</th>\n",
       "      <td>88195d2b11fffff</td>\n",
       "      <td>707</td>\n",
       "      <td>3848</td>\n",
       "      <td>0.359089</td>\n",
       "    </tr>\n",
       "    <tr>\n",
       "      <th>4</th>\n",
       "      <td>88195d2b19fffff</td>\n",
       "      <td>667</td>\n",
       "      <td>4515</td>\n",
       "      <td>0.421333</td>\n",
       "    </tr>\n",
       "    <tr>\n",
       "      <th>5</th>\n",
       "      <td>88195d284dfffff</td>\n",
       "      <td>653</td>\n",
       "      <td>5168</td>\n",
       "      <td>0.482270</td>\n",
       "    </tr>\n",
       "    <tr>\n",
       "      <th>6</th>\n",
       "      <td>88195d2a27fffff</td>\n",
       "      <td>414</td>\n",
       "      <td>5582</td>\n",
       "      <td>0.520903</td>\n",
       "    </tr>\n",
       "    <tr>\n",
       "      <th>7</th>\n",
       "      <td>88195d2b0bfffff</td>\n",
       "      <td>372</td>\n",
       "      <td>5954</td>\n",
       "      <td>0.555618</td>\n",
       "    </tr>\n",
       "    <tr>\n",
       "      <th>8</th>\n",
       "      <td>88195d2a25fffff</td>\n",
       "      <td>362</td>\n",
       "      <td>6316</td>\n",
       "      <td>0.589399</td>\n",
       "    </tr>\n",
       "    <tr>\n",
       "      <th>9</th>\n",
       "      <td>88195d2b13fffff</td>\n",
       "      <td>346</td>\n",
       "      <td>6662</td>\n",
       "      <td>0.621687</td>\n",
       "    </tr>\n",
       "    <tr>\n",
       "      <th>10</th>\n",
       "      <td>88195d2b03fffff</td>\n",
       "      <td>257</td>\n",
       "      <td>6919</td>\n",
       "      <td>0.645670</td>\n",
       "    </tr>\n",
       "    <tr>\n",
       "      <th>11</th>\n",
       "      <td>88195d2b17fffff</td>\n",
       "      <td>210</td>\n",
       "      <td>7129</td>\n",
       "      <td>0.665267</td>\n",
       "    </tr>\n",
       "    <tr>\n",
       "      <th>12</th>\n",
       "      <td>88195d2b39fffff</td>\n",
       "      <td>184</td>\n",
       "      <td>7313</td>\n",
       "      <td>0.682437</td>\n",
       "    </tr>\n",
       "    <tr>\n",
       "      <th>13</th>\n",
       "      <td>88195d2861fffff</td>\n",
       "      <td>182</td>\n",
       "      <td>7495</td>\n",
       "      <td>0.699421</td>\n",
       "    </tr>\n",
       "    <tr>\n",
       "      <th>14</th>\n",
       "      <td>88195d2a21fffff</td>\n",
       "      <td>156</td>\n",
       "      <td>7651</td>\n",
       "      <td>0.713979</td>\n",
       "    </tr>\n",
       "    <tr>\n",
       "      <th>15</th>\n",
       "      <td>88195d2b3dfffff</td>\n",
       "      <td>153</td>\n",
       "      <td>7804</td>\n",
       "      <td>0.728257</td>\n",
       "    </tr>\n",
       "    <tr>\n",
       "      <th>16</th>\n",
       "      <td>88195d2b31fffff</td>\n",
       "      <td>143</td>\n",
       "      <td>7947</td>\n",
       "      <td>0.741601</td>\n",
       "    </tr>\n",
       "    <tr>\n",
       "      <th>17</th>\n",
       "      <td>88195d2869fffff</td>\n",
       "      <td>125</td>\n",
       "      <td>8072</td>\n",
       "      <td>0.753266</td>\n",
       "    </tr>\n",
       "    <tr>\n",
       "      <th>18</th>\n",
       "      <td>88195d2b3bfffff</td>\n",
       "      <td>115</td>\n",
       "      <td>8187</td>\n",
       "      <td>0.763998</td>\n",
       "    </tr>\n",
       "    <tr>\n",
       "      <th>19</th>\n",
       "      <td>88195d2b51fffff</td>\n",
       "      <td>98</td>\n",
       "      <td>8285</td>\n",
       "      <td>0.773143</td>\n",
       "    </tr>\n",
       "    <tr>\n",
       "      <th>20</th>\n",
       "      <td>88195d2b57fffff</td>\n",
       "      <td>92</td>\n",
       "      <td>8377</td>\n",
       "      <td>0.781728</td>\n",
       "    </tr>\n",
       "    <tr>\n",
       "      <th>21</th>\n",
       "      <td>88195d2a23fffff</td>\n",
       "      <td>91</td>\n",
       "      <td>8468</td>\n",
       "      <td>0.790220</td>\n",
       "    </tr>\n",
       "    <tr>\n",
       "      <th>22</th>\n",
       "      <td>88195d2b55fffff</td>\n",
       "      <td>85</td>\n",
       "      <td>8553</td>\n",
       "      <td>0.798152</td>\n",
       "    </tr>\n",
       "  </tbody>\n",
       "</table>\n",
       "</div>"
      ],
      "text/plain": [
       "          h3_hex_id  order_count  Cummulative Sum  Cummulative Pct\n",
       "0   88195d2b1dfffff         1497             1497         0.139698\n",
       "1   88195d2b1bfffff          870             2367         0.220885\n",
       "2   88195d2b15fffff          774             3141         0.293113\n",
       "3   88195d2b11fffff          707             3848         0.359089\n",
       "4   88195d2b19fffff          667             4515         0.421333\n",
       "5   88195d284dfffff          653             5168         0.482270\n",
       "6   88195d2a27fffff          414             5582         0.520903\n",
       "7   88195d2b0bfffff          372             5954         0.555618\n",
       "8   88195d2a25fffff          362             6316         0.589399\n",
       "9   88195d2b13fffff          346             6662         0.621687\n",
       "10  88195d2b03fffff          257             6919         0.645670\n",
       "11  88195d2b17fffff          210             7129         0.665267\n",
       "12  88195d2b39fffff          184             7313         0.682437\n",
       "13  88195d2861fffff          182             7495         0.699421\n",
       "14  88195d2a21fffff          156             7651         0.713979\n",
       "15  88195d2b3dfffff          153             7804         0.728257\n",
       "16  88195d2b31fffff          143             7947         0.741601\n",
       "17  88195d2869fffff          125             8072         0.753266\n",
       "18  88195d2b3bfffff          115             8187         0.763998\n",
       "19  88195d2b51fffff           98             8285         0.773143\n",
       "20  88195d2b57fffff           92             8377         0.781728\n",
       "21  88195d2a23fffff           91             8468         0.790220\n",
       "22  88195d2b55fffff           85             8553         0.798152"
      ]
     },
     "execution_count": 34,
     "metadata": {},
     "output_type": "execute_result"
    }
   ],
   "source": [
    "hex_counts['Cummulative Pct'] = hex_counts['Cummulative Sum'] / hex_counts['Cummulative Sum'].max()\n",
    "\n",
    "filtered_hex_count = hex_counts[hex_counts['Cummulative Pct'] <= 0.8].copy()\n",
    "\n",
    "filtered_hex_count"
   ]
  },
  {
   "cell_type": "markdown",
   "metadata": {},
   "source": [
    "Now that we have the list of hexagons that contain 80% of the failed orders we will need the exact coordinates to be able to draw them on the map.\n",
    "To find them we can use the method h3_to_geo_boundary method from the h3 library combined with the geometry.Polygon method from the shapely library.    \n",
    "**NB**: set the geo_json argument for the h3 method to True to make sure that the coordinates are listed in the right order (latitude, longitude)."
   ]
  },
  {
   "cell_type": "code",
   "execution_count": 35,
   "metadata": {},
   "outputs": [
    {
     "data": {
      "text/html": [
       "<div>\n",
       "<style scoped>\n",
       "    .dataframe tbody tr th:only-of-type {\n",
       "        vertical-align: middle;\n",
       "    }\n",
       "\n",
       "    .dataframe tbody tr th {\n",
       "        vertical-align: top;\n",
       "    }\n",
       "\n",
       "    .dataframe thead th {\n",
       "        text-align: right;\n",
       "    }\n",
       "</style>\n",
       "<table border=\"1\" class=\"dataframe\">\n",
       "  <thead>\n",
       "    <tr style=\"text-align: right;\">\n",
       "      <th></th>\n",
       "      <th>h3_hex_id</th>\n",
       "      <th>order_count</th>\n",
       "      <th>Cummulative Sum</th>\n",
       "      <th>Cummulative Pct</th>\n",
       "      <th>geometry</th>\n",
       "    </tr>\n",
       "  </thead>\n",
       "  <tbody>\n",
       "    <tr>\n",
       "      <th>0</th>\n",
       "      <td>88195d2b1dfffff</td>\n",
       "      <td>1497</td>\n",
       "      <td>1497</td>\n",
       "      <td>0.139698</td>\n",
       "      <td>POLYGON ((-0.9674195894273825 51.4623342411263...</td>\n",
       "    </tr>\n",
       "    <tr>\n",
       "      <th>1</th>\n",
       "      <td>88195d2b1bfffff</td>\n",
       "      <td>870</td>\n",
       "      <td>2367</td>\n",
       "      <td>0.220885</td>\n",
       "      <td>POLYGON ((-0.9507230105639873 51.4525738537941...</td>\n",
       "    </tr>\n",
       "    <tr>\n",
       "      <th>2</th>\n",
       "      <td>88195d2b15fffff</td>\n",
       "      <td>774</td>\n",
       "      <td>3141</td>\n",
       "      <td>0.293113</td>\n",
       "      <td>POLYGON ((-0.9753174349705782 51.4565847140939...</td>\n",
       "    </tr>\n",
       "    <tr>\n",
       "      <th>3</th>\n",
       "      <td>88195d2b11fffff</td>\n",
       "      <td>707</td>\n",
       "      <td>3848</td>\n",
       "      <td>0.359089</td>\n",
       "      <td>POLYGON ((-0.9630191652468901 51.4545798427356...</td>\n",
       "    </tr>\n",
       "    <tr>\n",
       "      <th>4</th>\n",
       "      <td>88195d2b19fffff</td>\n",
       "      <td>667</td>\n",
       "      <td>4515</td>\n",
       "      <td>0.421333</td>\n",
       "      <td>POLYGON ((-0.9551211707321967 51.4603284193333...</td>\n",
       "    </tr>\n",
       "    <tr>\n",
       "      <th>5</th>\n",
       "      <td>88195d284dfffff</td>\n",
       "      <td>653</td>\n",
       "      <td>5168</td>\n",
       "      <td>0.482270</td>\n",
       "      <td>POLYGON ((-0.9463261989134449 51.4448188672863...</td>\n",
       "    </tr>\n",
       "    <tr>\n",
       "      <th>6</th>\n",
       "      <td>88195d2a27fffff</td>\n",
       "      <td>414</td>\n",
       "      <td>5582</td>\n",
       "      <td>0.520903</td>\n",
       "      <td>POLYGON ((-0.9384289715086821 51.4505667478549...</td>\n",
       "    </tr>\n",
       "    <tr>\n",
       "      <th>7</th>\n",
       "      <td>88195d2b0bfffff</td>\n",
       "      <td>372</td>\n",
       "      <td>5954</td>\n",
       "      <td>0.555618</td>\n",
       "      <td>POLYGON ((-0.9718213633595971 51.4700882178116...</td>\n",
       "    </tr>\n",
       "    <tr>\n",
       "      <th>8</th>\n",
       "      <td>88195d2a25fffff</td>\n",
       "      <td>362</td>\n",
       "      <td>6316</td>\n",
       "      <td>0.589399</td>\n",
       "      <td>POLYGON ((-0.9428248679734373 51.4583214800872...</td>\n",
       "    </tr>\n",
       "    <tr>\n",
       "      <th>9</th>\n",
       "      <td>88195d2b13fffff</td>\n",
       "      <td>346</td>\n",
       "      <td>6662</td>\n",
       "      <td>0.621687</td>\n",
       "      <td>POLYGON ((-0.9586200902493034 51.4468250230316...</td>\n",
       "    </tr>\n",
       "    <tr>\n",
       "      <th>10</th>\n",
       "      <td>88195d2b03fffff</td>\n",
       "      <td>257</td>\n",
       "      <td>6919</td>\n",
       "      <td>0.645670</td>\n",
       "      <td>POLYGON ((-0.9797201234716127 51.4643389448808...</td>\n",
       "    </tr>\n",
       "    <tr>\n",
       "      <th>11</th>\n",
       "      <td>88195d2b17fffff</td>\n",
       "      <td>210</td>\n",
       "      <td>7129</td>\n",
       "      <td>0.665267</td>\n",
       "      <td>POLYGON ((-0.9709160963176241 51.4488300616488...</td>\n",
       "    </tr>\n",
       "    <tr>\n",
       "      <th>12</th>\n",
       "      <td>88195d2b39fffff</td>\n",
       "      <td>184</td>\n",
       "      <td>7313</td>\n",
       "      <td>0.682437</td>\n",
       "      <td>POLYGON ((-0.98761781914732 51.45858846728357,...</td>\n",
       "    </tr>\n",
       "    <tr>\n",
       "      <th>13</th>\n",
       "      <td>88195d2861fffff</td>\n",
       "      <td>182</td>\n",
       "      <td>7495</td>\n",
       "      <td>0.699421</td>\n",
       "      <td>POLYGON ((-0.9744110605626837 51.4353237486516...</td>\n",
       "    </tr>\n",
       "    <tr>\n",
       "      <th>14</th>\n",
       "      <td>88195d2a21fffff</td>\n",
       "      <td>156</td>\n",
       "      <td>7651</td>\n",
       "      <td>0.713979</td>\n",
       "      <td>POLYGON ((-0.9305306817374712 51.4563134239737...</td>\n",
       "    </tr>\n",
       "    <tr>\n",
       "      <th>15</th>\n",
       "      <td>88195d2b3dfffff</td>\n",
       "      <td>153</td>\n",
       "      <td>7804</td>\n",
       "      <td>0.728257</td>\n",
       "      <td>POLYGON ((-0.9999203171883535 51.4605911017193...</td>\n",
       "    </tr>\n",
       "    <tr>\n",
       "      <th>16</th>\n",
       "      <td>88195d2b31fffff</td>\n",
       "      <td>143</td>\n",
       "      <td>7947</td>\n",
       "      <td>0.741601</td>\n",
       "      <td>POLYGON ((-0.9955144503018267 51.4528367851584...</td>\n",
       "    </tr>\n",
       "    <tr>\n",
       "      <th>17</th>\n",
       "      <td>88195d2869fffff</td>\n",
       "      <td>125</td>\n",
       "      <td>8072</td>\n",
       "      <td>0.753266</td>\n",
       "      <td>POLYGON ((-0.9665161069439623 51.4410749879379...</td>\n",
       "    </tr>\n",
       "    <tr>\n",
       "      <th>18</th>\n",
       "      <td>88195d2b3bfffff</td>\n",
       "      <td>115</td>\n",
       "      <td>8187</td>\n",
       "      <td>0.763998</td>\n",
       "      <td>POLYGON ((-0.9832142165311876 51.4508339825528...</td>\n",
       "    </tr>\n",
       "    <tr>\n",
       "      <th>19</th>\n",
       "      <td>88195d2b51fffff</td>\n",
       "      <td>98</td>\n",
       "      <td>8285</td>\n",
       "      <td>0.773143</td>\n",
       "      <td>POLYGON ((-0.9516207067338788 51.4738296811121...</td>\n",
       "    </tr>\n",
       "    <tr>\n",
       "      <th>20</th>\n",
       "      <td>88195d2b57fffff</td>\n",
       "      <td>92</td>\n",
       "      <td>8377</td>\n",
       "      <td>0.781728</td>\n",
       "      <td>POLYGON ((-0.9595206799866929 51.4680825635118...</td>\n",
       "    </tr>\n",
       "    <tr>\n",
       "      <th>21</th>\n",
       "      <td>88195d2a23fffff</td>\n",
       "      <td>91</td>\n",
       "      <td>8468</td>\n",
       "      <td>0.790220</td>\n",
       "      <td>POLYGON ((-0.9261370486667562 51.4485585255033...</td>\n",
       "    </tr>\n",
       "    <tr>\n",
       "      <th>22</th>\n",
       "      <td>88195d2b55fffff</td>\n",
       "      <td>85</td>\n",
       "      <td>8553</td>\n",
       "      <td>0.798152</td>\n",
       "      <td>POLYGON ((-0.9639215388963942 51.4758362859376...</td>\n",
       "    </tr>\n",
       "  </tbody>\n",
       "</table>\n",
       "</div>"
      ],
      "text/plain": [
       "          h3_hex_id  order_count  Cummulative Sum  Cummulative Pct  \\\n",
       "0   88195d2b1dfffff         1497             1497         0.139698   \n",
       "1   88195d2b1bfffff          870             2367         0.220885   \n",
       "2   88195d2b15fffff          774             3141         0.293113   \n",
       "3   88195d2b11fffff          707             3848         0.359089   \n",
       "4   88195d2b19fffff          667             4515         0.421333   \n",
       "5   88195d284dfffff          653             5168         0.482270   \n",
       "6   88195d2a27fffff          414             5582         0.520903   \n",
       "7   88195d2b0bfffff          372             5954         0.555618   \n",
       "8   88195d2a25fffff          362             6316         0.589399   \n",
       "9   88195d2b13fffff          346             6662         0.621687   \n",
       "10  88195d2b03fffff          257             6919         0.645670   \n",
       "11  88195d2b17fffff          210             7129         0.665267   \n",
       "12  88195d2b39fffff          184             7313         0.682437   \n",
       "13  88195d2861fffff          182             7495         0.699421   \n",
       "14  88195d2a21fffff          156             7651         0.713979   \n",
       "15  88195d2b3dfffff          153             7804         0.728257   \n",
       "16  88195d2b31fffff          143             7947         0.741601   \n",
       "17  88195d2869fffff          125             8072         0.753266   \n",
       "18  88195d2b3bfffff          115             8187         0.763998   \n",
       "19  88195d2b51fffff           98             8285         0.773143   \n",
       "20  88195d2b57fffff           92             8377         0.781728   \n",
       "21  88195d2a23fffff           91             8468         0.790220   \n",
       "22  88195d2b55fffff           85             8553         0.798152   \n",
       "\n",
       "                                             geometry  \n",
       "0   POLYGON ((-0.9674195894273825 51.4623342411263...  \n",
       "1   POLYGON ((-0.9507230105639873 51.4525738537941...  \n",
       "2   POLYGON ((-0.9753174349705782 51.4565847140939...  \n",
       "3   POLYGON ((-0.9630191652468901 51.4545798427356...  \n",
       "4   POLYGON ((-0.9551211707321967 51.4603284193333...  \n",
       "5   POLYGON ((-0.9463261989134449 51.4448188672863...  \n",
       "6   POLYGON ((-0.9384289715086821 51.4505667478549...  \n",
       "7   POLYGON ((-0.9718213633595971 51.4700882178116...  \n",
       "8   POLYGON ((-0.9428248679734373 51.4583214800872...  \n",
       "9   POLYGON ((-0.9586200902493034 51.4468250230316...  \n",
       "10  POLYGON ((-0.9797201234716127 51.4643389448808...  \n",
       "11  POLYGON ((-0.9709160963176241 51.4488300616488...  \n",
       "12  POLYGON ((-0.98761781914732 51.45858846728357,...  \n",
       "13  POLYGON ((-0.9744110605626837 51.4353237486516...  \n",
       "14  POLYGON ((-0.9305306817374712 51.4563134239737...  \n",
       "15  POLYGON ((-0.9999203171883535 51.4605911017193...  \n",
       "16  POLYGON ((-0.9955144503018267 51.4528367851584...  \n",
       "17  POLYGON ((-0.9665161069439623 51.4410749879379...  \n",
       "18  POLYGON ((-0.9832142165311876 51.4508339825528...  \n",
       "19  POLYGON ((-0.9516207067338788 51.4738296811121...  \n",
       "20  POLYGON ((-0.9595206799866929 51.4680825635118...  \n",
       "21  POLYGON ((-0.9261370486667562 51.4485585255033...  \n",
       "22  POLYGON ((-0.9639215388963942 51.4758362859376...  "
      ]
     },
     "execution_count": 35,
     "metadata": {},
     "output_type": "execute_result"
    }
   ],
   "source": [
    "filtered_hex_count['geometry'] = [shapely.geometry.Polygon(h3.h3_to_geo_boundary(hexagon, geo_json=True)) for hexagon in filtered_hex_count['h3_hex_id']]\n",
    "\n",
    "filtered_hex_count\n"
   ]
  },
  {
   "cell_type": "markdown",
   "metadata": {},
   "source": [
    "Now our dataframe includes all the need data to create our map. For our map we will need two files:  \n",
    "- geo_json file: that includes the id of the hexagon as well as it's coordinates/geometry\n",
    "- pandas Series: that includes the id of the hexagons as its index and the order_count column (so we can map specific colors to the different order counts)\n",
    "\n",
    "Then we will need to create a custom linear colormap.\n",
    "\n",
    "<br>Let's create the different files and the colormap."
   ]
  },
  {
   "cell_type": "markdown",
   "metadata": {},
   "source": [
    "#### Geo Json file:\n",
    "\n",
    "We'll first create a GeoDataFrame, setting the crs to EPSG:4326, and setting its index to the h3_hex_id. Finally we'll transform it into a geojson file."
   ]
  },
  {
   "cell_type": "code",
   "execution_count": 43,
   "metadata": {},
   "outputs": [],
   "source": [
    "geo_df = gpd.GeoDataFrame(filtered_hex_count[['h3_hex_id', 'geometry']], crs=\"EPSG:4326\", geometry='geometry')\n",
    "\n",
    "geo_df.set_index('h3_hex_id', inplace=True)\n",
    "\n",
    "geo_json_data = geo_df.to_json()"
   ]
  },
  {
   "cell_type": "markdown",
   "metadata": {},
   "source": [
    "#### Pandas Series:  \n",
    "We'll create this series to be able to map specific colors to the different failed order counts. Therefore, we will need the hex ids in the index and the order count column from our previous dataframe."
   ]
  },
  {
   "cell_type": "code",
   "execution_count": 44,
   "metadata": {},
   "outputs": [
    {
     "name": "stdout",
     "output_type": "stream",
     "text": [
      "<class 'pandas.core.series.Series'>\n"
     ]
    },
    {
     "data": {
      "text/plain": [
       "h3_hex_id\n",
       "88195d2b1dfffff    1497\n",
       "88195d2b1bfffff     870\n",
       "88195d2b15fffff     774\n",
       "88195d2b11fffff     707\n",
       "88195d2b19fffff     667\n",
       "88195d284dfffff     653\n",
       "88195d2a27fffff     414\n",
       "88195d2b0bfffff     372\n",
       "88195d2a25fffff     362\n",
       "88195d2b13fffff     346\n",
       "88195d2b03fffff     257\n",
       "88195d2b17fffff     210\n",
       "88195d2b39fffff     184\n",
       "88195d2861fffff     182\n",
       "88195d2a21fffff     156\n",
       "88195d2b3dfffff     153\n",
       "88195d2b31fffff     143\n",
       "88195d2869fffff     125\n",
       "88195d2b3bfffff     115\n",
       "88195d2b51fffff      98\n",
       "88195d2b57fffff      92\n",
       "88195d2a23fffff      91\n",
       "88195d2b55fffff      85\n",
       "Name: order_count, dtype: int64"
      ]
     },
     "execution_count": 44,
     "metadata": {},
     "output_type": "execute_result"
    }
   ],
   "source": [
    "hex_count_series = filtered_hex_count.set_index('h3_hex_id')['order_count']\n",
    "\n",
    "print(type(hex_count_series))\n",
    "\n",
    "hex_count_series"
   ]
  },
  {
   "cell_type": "markdown",
   "metadata": {},
   "source": [
    "#### Custom Colormap"
   ]
  },
  {
   "cell_type": "code",
   "execution_count": 46,
   "metadata": {},
   "outputs": [
    {
     "data": {
      "text/html": [
       "<svg height=\"40\" width=\"450\"><line x1=\"0\" y1=\"15\" x2=\"0\" y2=\"27\" style=\"stroke:#fffbf0ff;stroke-width:2;\" /><line x1=\"1\" y1=\"15\" x2=\"1\" y2=\"27\" style=\"stroke:#fffbf0ff;stroke-width:2;\" /><line x1=\"2\" y1=\"15\" x2=\"2\" y2=\"27\" style=\"stroke:#fffbf0ff;stroke-width:2;\" /><line x1=\"3\" y1=\"15\" x2=\"3\" y2=\"27\" style=\"stroke:#fefbf0ff;stroke-width:2;\" /><line x1=\"4\" y1=\"15\" x2=\"4\" y2=\"27\" style=\"stroke:#fefbf0ff;stroke-width:2;\" /><line x1=\"5\" y1=\"15\" x2=\"5\" y2=\"27\" style=\"stroke:#fdfbf0ff;stroke-width:2;\" /><line x1=\"6\" y1=\"15\" x2=\"6\" y2=\"27\" style=\"stroke:#fdfbf0ff;stroke-width:2;\" /><line x1=\"7\" y1=\"15\" x2=\"7\" y2=\"27\" style=\"stroke:#fcfbf0ff;stroke-width:2;\" /><line x1=\"8\" y1=\"15\" x2=\"8\" y2=\"27\" style=\"stroke:#fcfaefff;stroke-width:2;\" /><line x1=\"9\" y1=\"15\" x2=\"9\" y2=\"27\" style=\"stroke:#fbfaefff;stroke-width:2;\" /><line x1=\"10\" y1=\"15\" x2=\"10\" y2=\"27\" style=\"stroke:#fbfaefff;stroke-width:2;\" /><line x1=\"11\" y1=\"15\" x2=\"11\" y2=\"27\" style=\"stroke:#fbfaefff;stroke-width:2;\" /><line x1=\"12\" y1=\"15\" x2=\"12\" y2=\"27\" style=\"stroke:#fafaefff;stroke-width:2;\" /><line x1=\"13\" y1=\"15\" x2=\"13\" y2=\"27\" style=\"stroke:#fafaefff;stroke-width:2;\" /><line x1=\"14\" y1=\"15\" x2=\"14\" y2=\"27\" style=\"stroke:#f9faefff;stroke-width:2;\" /><line x1=\"15\" y1=\"15\" x2=\"15\" y2=\"27\" style=\"stroke:#f9f9eeff;stroke-width:2;\" /><line x1=\"16\" y1=\"15\" x2=\"16\" y2=\"27\" style=\"stroke:#f8f9eeff;stroke-width:2;\" /><line x1=\"17\" y1=\"15\" x2=\"17\" y2=\"27\" style=\"stroke:#f8f9eeff;stroke-width:2;\" /><line x1=\"18\" y1=\"15\" x2=\"18\" y2=\"27\" style=\"stroke:#f7f9eeff;stroke-width:2;\" /><line x1=\"19\" y1=\"15\" x2=\"19\" y2=\"27\" style=\"stroke:#f7f9eeff;stroke-width:2;\" /><line x1=\"20\" y1=\"15\" x2=\"20\" y2=\"27\" style=\"stroke:#f7f9eeff;stroke-width:2;\" /><line x1=\"21\" y1=\"15\" x2=\"21\" y2=\"27\" style=\"stroke:#f6f9eeff;stroke-width:2;\" /><line x1=\"22\" y1=\"15\" x2=\"22\" y2=\"27\" style=\"stroke:#f6f8eeff;stroke-width:2;\" /><line x1=\"23\" y1=\"15\" x2=\"23\" y2=\"27\" style=\"stroke:#f5f8edff;stroke-width:2;\" /><line x1=\"24\" y1=\"15\" x2=\"24\" y2=\"27\" style=\"stroke:#f5f8edff;stroke-width:2;\" /><line x1=\"25\" y1=\"15\" x2=\"25\" y2=\"27\" style=\"stroke:#f4f8edff;stroke-width:2;\" /><line x1=\"26\" y1=\"15\" x2=\"26\" y2=\"27\" style=\"stroke:#f4f8edff;stroke-width:2;\" /><line x1=\"27\" y1=\"15\" x2=\"27\" y2=\"27\" style=\"stroke:#f3f8edff;stroke-width:2;\" /><line x1=\"28\" y1=\"15\" x2=\"28\" y2=\"27\" style=\"stroke:#f3f8edff;stroke-width:2;\" /><line x1=\"29\" y1=\"15\" x2=\"29\" y2=\"27\" style=\"stroke:#f3f7edff;stroke-width:2;\" /><line x1=\"30\" y1=\"15\" x2=\"30\" y2=\"27\" style=\"stroke:#f2f7ecff;stroke-width:2;\" /><line x1=\"31\" y1=\"15\" x2=\"31\" y2=\"27\" style=\"stroke:#f2f7ecff;stroke-width:2;\" /><line x1=\"32\" y1=\"15\" x2=\"32\" y2=\"27\" style=\"stroke:#f1f7ecff;stroke-width:2;\" /><line x1=\"33\" y1=\"15\" x2=\"33\" y2=\"27\" style=\"stroke:#f1f7ecff;stroke-width:2;\" /><line x1=\"34\" y1=\"15\" x2=\"34\" y2=\"27\" style=\"stroke:#f0f7ecff;stroke-width:2;\" /><line x1=\"35\" y1=\"15\" x2=\"35\" y2=\"27\" style=\"stroke:#f0f7ecff;stroke-width:2;\" /><line x1=\"36\" y1=\"15\" x2=\"36\" y2=\"27\" style=\"stroke:#eff6ecff;stroke-width:2;\" /><line x1=\"37\" y1=\"15\" x2=\"37\" y2=\"27\" style=\"stroke:#eff6ecff;stroke-width:2;\" /><line x1=\"38\" y1=\"15\" x2=\"38\" y2=\"27\" style=\"stroke:#eff6ebff;stroke-width:2;\" /><line x1=\"39\" y1=\"15\" x2=\"39\" y2=\"27\" style=\"stroke:#eef6ebff;stroke-width:2;\" /><line x1=\"40\" y1=\"15\" x2=\"40\" y2=\"27\" style=\"stroke:#eef6ebff;stroke-width:2;\" /><line x1=\"41\" y1=\"15\" x2=\"41\" y2=\"27\" style=\"stroke:#edf6ebff;stroke-width:2;\" /><line x1=\"42\" y1=\"15\" x2=\"42\" y2=\"27\" style=\"stroke:#edf6ebff;stroke-width:2;\" /><line x1=\"43\" y1=\"15\" x2=\"43\" y2=\"27\" style=\"stroke:#ecf6ebff;stroke-width:2;\" /><line x1=\"44\" y1=\"15\" x2=\"44\" y2=\"27\" style=\"stroke:#ecf5ebff;stroke-width:2;\" /><line x1=\"45\" y1=\"15\" x2=\"45\" y2=\"27\" style=\"stroke:#ebf5ebff;stroke-width:2;\" /><line x1=\"46\" y1=\"15\" x2=\"46\" y2=\"27\" style=\"stroke:#ebf5eaff;stroke-width:2;\" /><line x1=\"47\" y1=\"15\" x2=\"47\" y2=\"27\" style=\"stroke:#eaf5eaff;stroke-width:2;\" /><line x1=\"48\" y1=\"15\" x2=\"48\" y2=\"27\" style=\"stroke:#eaf5eaff;stroke-width:2;\" /><line x1=\"49\" y1=\"15\" x2=\"49\" y2=\"27\" style=\"stroke:#eaf5eaff;stroke-width:2;\" /><line x1=\"50\" y1=\"15\" x2=\"50\" y2=\"27\" style=\"stroke:#e9f5eaff;stroke-width:2;\" /><line x1=\"51\" y1=\"15\" x2=\"51\" y2=\"27\" style=\"stroke:#e9f4eaff;stroke-width:2;\" /><line x1=\"52\" y1=\"15\" x2=\"52\" y2=\"27\" style=\"stroke:#e8f4eaff;stroke-width:2;\" /><line x1=\"53\" y1=\"15\" x2=\"53\" y2=\"27\" style=\"stroke:#e8f4e9ff;stroke-width:2;\" /><line x1=\"54\" y1=\"15\" x2=\"54\" y2=\"27\" style=\"stroke:#e7f4e9ff;stroke-width:2;\" /><line x1=\"55\" y1=\"15\" x2=\"55\" y2=\"27\" style=\"stroke:#e7f4e9ff;stroke-width:2;\" /><line x1=\"56\" y1=\"15\" x2=\"56\" y2=\"27\" style=\"stroke:#e6f4e9ff;stroke-width:2;\" /><line x1=\"57\" y1=\"15\" x2=\"57\" y2=\"27\" style=\"stroke:#e6f4e9ff;stroke-width:2;\" /><line x1=\"58\" y1=\"15\" x2=\"58\" y2=\"27\" style=\"stroke:#e6f3e9ff;stroke-width:2;\" /><line x1=\"59\" y1=\"15\" x2=\"59\" y2=\"27\" style=\"stroke:#e5f3e9ff;stroke-width:2;\" /><line x1=\"60\" y1=\"15\" x2=\"60\" y2=\"27\" style=\"stroke:#e5f3e9ff;stroke-width:2;\" /><line x1=\"61\" y1=\"15\" x2=\"61\" y2=\"27\" style=\"stroke:#e4f3e8ff;stroke-width:2;\" /><line x1=\"62\" y1=\"15\" x2=\"62\" y2=\"27\" style=\"stroke:#e4f3e8ff;stroke-width:2;\" /><line x1=\"63\" y1=\"15\" x2=\"63\" y2=\"27\" style=\"stroke:#e3f3e8ff;stroke-width:2;\" /><line x1=\"64\" y1=\"15\" x2=\"64\" y2=\"27\" style=\"stroke:#e3f3e8ff;stroke-width:2;\" /><line x1=\"65\" y1=\"15\" x2=\"65\" y2=\"27\" style=\"stroke:#e2f2e8ff;stroke-width:2;\" /><line x1=\"66\" y1=\"15\" x2=\"66\" y2=\"27\" style=\"stroke:#e2f2e8ff;stroke-width:2;\" /><line x1=\"67\" y1=\"15\" x2=\"67\" y2=\"27\" style=\"stroke:#e2f2e8ff;stroke-width:2;\" /><line x1=\"68\" y1=\"15\" x2=\"68\" y2=\"27\" style=\"stroke:#e1f2e7ff;stroke-width:2;\" /><line x1=\"69\" y1=\"15\" x2=\"69\" y2=\"27\" style=\"stroke:#e1f2e7ff;stroke-width:2;\" /><line x1=\"70\" y1=\"15\" x2=\"70\" y2=\"27\" style=\"stroke:#e0f2e7ff;stroke-width:2;\" /><line x1=\"71\" y1=\"15\" x2=\"71\" y2=\"27\" style=\"stroke:#e0f2e7ff;stroke-width:2;\" /><line x1=\"72\" y1=\"15\" x2=\"72\" y2=\"27\" style=\"stroke:#dff2e7ff;stroke-width:2;\" /><line x1=\"73\" y1=\"15\" x2=\"73\" y2=\"27\" style=\"stroke:#dff1e7ff;stroke-width:2;\" /><line x1=\"74\" y1=\"15\" x2=\"74\" y2=\"27\" style=\"stroke:#def1e7ff;stroke-width:2;\" /><line x1=\"75\" y1=\"15\" x2=\"75\" y2=\"27\" style=\"stroke:#def1e7ff;stroke-width:2;\" /><line x1=\"76\" y1=\"15\" x2=\"76\" y2=\"27\" style=\"stroke:#def1e6ff;stroke-width:2;\" /><line x1=\"77\" y1=\"15\" x2=\"77\" y2=\"27\" style=\"stroke:#ddf1e6ff;stroke-width:2;\" /><line x1=\"78\" y1=\"15\" x2=\"78\" y2=\"27\" style=\"stroke:#ddf1e6ff;stroke-width:2;\" /><line x1=\"79\" y1=\"15\" x2=\"79\" y2=\"27\" style=\"stroke:#dcf1e6ff;stroke-width:2;\" /><line x1=\"80\" y1=\"15\" x2=\"80\" y2=\"27\" style=\"stroke:#dcf0e6ff;stroke-width:2;\" /><line x1=\"81\" y1=\"15\" x2=\"81\" y2=\"27\" style=\"stroke:#dbf0e6ff;stroke-width:2;\" /><line x1=\"82\" y1=\"15\" x2=\"82\" y2=\"27\" style=\"stroke:#dbf0e6ff;stroke-width:2;\" /><line x1=\"83\" y1=\"15\" x2=\"83\" y2=\"27\" style=\"stroke:#daf0e5ff;stroke-width:2;\" /><line x1=\"84\" y1=\"15\" x2=\"84\" y2=\"27\" style=\"stroke:#daf0e5ff;stroke-width:2;\" /><line x1=\"85\" y1=\"15\" x2=\"85\" y2=\"27\" style=\"stroke:#d9f0e5ff;stroke-width:2;\" /><line x1=\"86\" y1=\"15\" x2=\"86\" y2=\"27\" style=\"stroke:#d9f0e5ff;stroke-width:2;\" /><line x1=\"87\" y1=\"15\" x2=\"87\" y2=\"27\" style=\"stroke:#d9efe5ff;stroke-width:2;\" /><line x1=\"88\" y1=\"15\" x2=\"88\" y2=\"27\" style=\"stroke:#d8efe5ff;stroke-width:2;\" /><line x1=\"89\" y1=\"15\" x2=\"89\" y2=\"27\" style=\"stroke:#d8efe5ff;stroke-width:2;\" /><line x1=\"90\" y1=\"15\" x2=\"90\" y2=\"27\" style=\"stroke:#d7efe5ff;stroke-width:2;\" /><line x1=\"91\" y1=\"15\" x2=\"91\" y2=\"27\" style=\"stroke:#d7efe4ff;stroke-width:2;\" /><line x1=\"92\" y1=\"15\" x2=\"92\" y2=\"27\" style=\"stroke:#d6efe4ff;stroke-width:2;\" /><line x1=\"93\" y1=\"15\" x2=\"93\" y2=\"27\" style=\"stroke:#d6efe4ff;stroke-width:2;\" /><line x1=\"94\" y1=\"15\" x2=\"94\" y2=\"27\" style=\"stroke:#d5eee4ff;stroke-width:2;\" /><line x1=\"95\" y1=\"15\" x2=\"95\" y2=\"27\" style=\"stroke:#d5eee4ff;stroke-width:2;\" /><line x1=\"96\" y1=\"15\" x2=\"96\" y2=\"27\" style=\"stroke:#d5eee4ff;stroke-width:2;\" /><line x1=\"97\" y1=\"15\" x2=\"97\" y2=\"27\" style=\"stroke:#d4eee4ff;stroke-width:2;\" /><line x1=\"98\" y1=\"15\" x2=\"98\" y2=\"27\" style=\"stroke:#d4eee4ff;stroke-width:2;\" /><line x1=\"99\" y1=\"15\" x2=\"99\" y2=\"27\" style=\"stroke:#d3eee3ff;stroke-width:2;\" /><line x1=\"100\" y1=\"15\" x2=\"100\" y2=\"27\" style=\"stroke:#d3eee3ff;stroke-width:2;\" /><line x1=\"101\" y1=\"15\" x2=\"101\" y2=\"27\" style=\"stroke:#d2ede3ff;stroke-width:2;\" /><line x1=\"102\" y1=\"15\" x2=\"102\" y2=\"27\" style=\"stroke:#d2ede3ff;stroke-width:2;\" /><line x1=\"103\" y1=\"15\" x2=\"103\" y2=\"27\" style=\"stroke:#d1ede3ff;stroke-width:2;\" /><line x1=\"104\" y1=\"15\" x2=\"104\" y2=\"27\" style=\"stroke:#d1ede3ff;stroke-width:2;\" /><line x1=\"105\" y1=\"15\" x2=\"105\" y2=\"27\" style=\"stroke:#d1ede3ff;stroke-width:2;\" /><line x1=\"106\" y1=\"15\" x2=\"106\" y2=\"27\" style=\"stroke:#d0ede2ff;stroke-width:2;\" /><line x1=\"107\" y1=\"15\" x2=\"107\" y2=\"27\" style=\"stroke:#d0ede2ff;stroke-width:2;\" /><line x1=\"108\" y1=\"15\" x2=\"108\" y2=\"27\" style=\"stroke:#cfede2ff;stroke-width:2;\" /><line x1=\"109\" y1=\"15\" x2=\"109\" y2=\"27\" style=\"stroke:#cfece2ff;stroke-width:2;\" /><line x1=\"110\" y1=\"15\" x2=\"110\" y2=\"27\" style=\"stroke:#ceece2ff;stroke-width:2;\" /><line x1=\"111\" y1=\"15\" x2=\"111\" y2=\"27\" style=\"stroke:#ceece2ff;stroke-width:2;\" /><line x1=\"112\" y1=\"15\" x2=\"112\" y2=\"27\" style=\"stroke:#cdece2ff;stroke-width:2;\" /><line x1=\"113\" y1=\"15\" x2=\"113\" y2=\"27\" style=\"stroke:#cdece2ff;stroke-width:2;\" /><line x1=\"114\" y1=\"15\" x2=\"114\" y2=\"27\" style=\"stroke:#cdece1ff;stroke-width:2;\" /><line x1=\"115\" y1=\"15\" x2=\"115\" y2=\"27\" style=\"stroke:#ccece1ff;stroke-width:2;\" /><line x1=\"116\" y1=\"15\" x2=\"116\" y2=\"27\" style=\"stroke:#ccebe1ff;stroke-width:2;\" /><line x1=\"117\" y1=\"15\" x2=\"117\" y2=\"27\" style=\"stroke:#cbebe1ff;stroke-width:2;\" /><line x1=\"118\" y1=\"15\" x2=\"118\" y2=\"27\" style=\"stroke:#cbebe1ff;stroke-width:2;\" /><line x1=\"119\" y1=\"15\" x2=\"119\" y2=\"27\" style=\"stroke:#caebe1ff;stroke-width:2;\" /><line x1=\"120\" y1=\"15\" x2=\"120\" y2=\"27\" style=\"stroke:#caebe1ff;stroke-width:2;\" /><line x1=\"121\" y1=\"15\" x2=\"121\" y2=\"27\" style=\"stroke:#c9ebe0ff;stroke-width:2;\" /><line x1=\"122\" y1=\"15\" x2=\"122\" y2=\"27\" style=\"stroke:#c9ebe0ff;stroke-width:2;\" /><line x1=\"123\" y1=\"15\" x2=\"123\" y2=\"27\" style=\"stroke:#c8eae0ff;stroke-width:2;\" /><line x1=\"124\" y1=\"15\" x2=\"124\" y2=\"27\" style=\"stroke:#c8eae0ff;stroke-width:2;\" /><line x1=\"125\" y1=\"15\" x2=\"125\" y2=\"27\" style=\"stroke:#c8eae0ff;stroke-width:2;\" /><line x1=\"126\" y1=\"15\" x2=\"126\" y2=\"27\" style=\"stroke:#c7eae0ff;stroke-width:2;\" /><line x1=\"127\" y1=\"15\" x2=\"127\" y2=\"27\" style=\"stroke:#c7eae0ff;stroke-width:2;\" /><line x1=\"128\" y1=\"15\" x2=\"128\" y2=\"27\" style=\"stroke:#c6eae0ff;stroke-width:2;\" /><line x1=\"129\" y1=\"15\" x2=\"129\" y2=\"27\" style=\"stroke:#c6eadfff;stroke-width:2;\" /><line x1=\"130\" y1=\"15\" x2=\"130\" y2=\"27\" style=\"stroke:#c5e9dfff;stroke-width:2;\" /><line x1=\"131\" y1=\"15\" x2=\"131\" y2=\"27\" style=\"stroke:#c5e9dfff;stroke-width:2;\" /><line x1=\"132\" y1=\"15\" x2=\"132\" y2=\"27\" style=\"stroke:#c4e9dfff;stroke-width:2;\" /><line x1=\"133\" y1=\"15\" x2=\"133\" y2=\"27\" style=\"stroke:#c4e9dfff;stroke-width:2;\" /><line x1=\"134\" y1=\"15\" x2=\"134\" y2=\"27\" style=\"stroke:#c4e9dfff;stroke-width:2;\" /><line x1=\"135\" y1=\"15\" x2=\"135\" y2=\"27\" style=\"stroke:#c3e9dfff;stroke-width:2;\" /><line x1=\"136\" y1=\"15\" x2=\"136\" y2=\"27\" style=\"stroke:#c3e9dfff;stroke-width:2;\" /><line x1=\"137\" y1=\"15\" x2=\"137\" y2=\"27\" style=\"stroke:#c2e8deff;stroke-width:2;\" /><line x1=\"138\" y1=\"15\" x2=\"138\" y2=\"27\" style=\"stroke:#c2e8deff;stroke-width:2;\" /><line x1=\"139\" y1=\"15\" x2=\"139\" y2=\"27\" style=\"stroke:#c1e8deff;stroke-width:2;\" /><line x1=\"140\" y1=\"15\" x2=\"140\" y2=\"27\" style=\"stroke:#c1e8deff;stroke-width:2;\" /><line x1=\"141\" y1=\"15\" x2=\"141\" y2=\"27\" style=\"stroke:#c0e8deff;stroke-width:2;\" /><line x1=\"142\" y1=\"15\" x2=\"142\" y2=\"27\" style=\"stroke:#c0e8deff;stroke-width:2;\" /><line x1=\"143\" y1=\"15\" x2=\"143\" y2=\"27\" style=\"stroke:#c0e8deff;stroke-width:2;\" /><line x1=\"144\" y1=\"15\" x2=\"144\" y2=\"27\" style=\"stroke:#bfe8ddff;stroke-width:2;\" /><line x1=\"145\" y1=\"15\" x2=\"145\" y2=\"27\" style=\"stroke:#bfe7ddff;stroke-width:2;\" /><line x1=\"146\" y1=\"15\" x2=\"146\" y2=\"27\" style=\"stroke:#bee7ddff;stroke-width:2;\" /><line x1=\"147\" y1=\"15\" x2=\"147\" y2=\"27\" style=\"stroke:#bee7ddff;stroke-width:2;\" /><line x1=\"148\" y1=\"15\" x2=\"148\" y2=\"27\" style=\"stroke:#bde7ddff;stroke-width:2;\" /><line x1=\"149\" y1=\"15\" x2=\"149\" y2=\"27\" style=\"stroke:#bde7ddff;stroke-width:2;\" /><line x1=\"150\" y1=\"15\" x2=\"150\" y2=\"27\" style=\"stroke:#bce7ddff;stroke-width:2;\" /><line x1=\"151\" y1=\"15\" x2=\"151\" y2=\"27\" style=\"stroke:#bce7ddff;stroke-width:2;\" /><line x1=\"152\" y1=\"15\" x2=\"152\" y2=\"27\" style=\"stroke:#bce6dcff;stroke-width:2;\" /><line x1=\"153\" y1=\"15\" x2=\"153\" y2=\"27\" style=\"stroke:#bbe6dcff;stroke-width:2;\" /><line x1=\"154\" y1=\"15\" x2=\"154\" y2=\"27\" style=\"stroke:#bbe6dcff;stroke-width:2;\" /><line x1=\"155\" y1=\"15\" x2=\"155\" y2=\"27\" style=\"stroke:#bae6dcff;stroke-width:2;\" /><line x1=\"156\" y1=\"15\" x2=\"156\" y2=\"27\" style=\"stroke:#bae6dcff;stroke-width:2;\" /><line x1=\"157\" y1=\"15\" x2=\"157\" y2=\"27\" style=\"stroke:#b9e6dcff;stroke-width:2;\" /><line x1=\"158\" y1=\"15\" x2=\"158\" y2=\"27\" style=\"stroke:#b9e6dcff;stroke-width:2;\" /><line x1=\"159\" y1=\"15\" x2=\"159\" y2=\"27\" style=\"stroke:#b8e5dbff;stroke-width:2;\" /><line x1=\"160\" y1=\"15\" x2=\"160\" y2=\"27\" style=\"stroke:#b8e5dbff;stroke-width:2;\" /><line x1=\"161\" y1=\"15\" x2=\"161\" y2=\"27\" style=\"stroke:#b8e5dbff;stroke-width:2;\" /><line x1=\"162\" y1=\"15\" x2=\"162\" y2=\"27\" style=\"stroke:#b7e5dbff;stroke-width:2;\" /><line x1=\"163\" y1=\"15\" x2=\"163\" y2=\"27\" style=\"stroke:#b7e5dbff;stroke-width:2;\" /><line x1=\"164\" y1=\"15\" x2=\"164\" y2=\"27\" style=\"stroke:#b6e5dbff;stroke-width:2;\" /><line x1=\"165\" y1=\"15\" x2=\"165\" y2=\"27\" style=\"stroke:#b6e5dbff;stroke-width:2;\" /><line x1=\"166\" y1=\"15\" x2=\"166\" y2=\"27\" style=\"stroke:#b5e4dbff;stroke-width:2;\" /><line x1=\"167\" y1=\"15\" x2=\"167\" y2=\"27\" style=\"stroke:#b5e4daff;stroke-width:2;\" /><line x1=\"168\" y1=\"15\" x2=\"168\" y2=\"27\" style=\"stroke:#b4e4daff;stroke-width:2;\" /><line x1=\"169\" y1=\"15\" x2=\"169\" y2=\"27\" style=\"stroke:#b4e4daff;stroke-width:2;\" /><line x1=\"170\" y1=\"15\" x2=\"170\" y2=\"27\" style=\"stroke:#b3e4daff;stroke-width:2;\" /><line x1=\"171\" y1=\"15\" x2=\"171\" y2=\"27\" style=\"stroke:#b3e4daff;stroke-width:2;\" /><line x1=\"172\" y1=\"15\" x2=\"172\" y2=\"27\" style=\"stroke:#b3e4daff;stroke-width:2;\" /><line x1=\"173\" y1=\"15\" x2=\"173\" y2=\"27\" style=\"stroke:#b2e4daff;stroke-width:2;\" /><line x1=\"174\" y1=\"15\" x2=\"174\" y2=\"27\" style=\"stroke:#b2e3d9ff;stroke-width:2;\" /><line x1=\"175\" y1=\"15\" x2=\"175\" y2=\"27\" style=\"stroke:#b1e3d9ff;stroke-width:2;\" /><line x1=\"176\" y1=\"15\" x2=\"176\" y2=\"27\" style=\"stroke:#b1e3d9ff;stroke-width:2;\" /><line x1=\"177\" y1=\"15\" x2=\"177\" y2=\"27\" style=\"stroke:#b0e3d9ff;stroke-width:2;\" /><line x1=\"178\" y1=\"15\" x2=\"178\" y2=\"27\" style=\"stroke:#b0e3d9ff;stroke-width:2;\" /><line x1=\"179\" y1=\"15\" x2=\"179\" y2=\"27\" style=\"stroke:#afe3d9ff;stroke-width:2;\" /><line x1=\"180\" y1=\"15\" x2=\"180\" y2=\"27\" style=\"stroke:#afe3d9ff;stroke-width:2;\" /><line x1=\"181\" y1=\"15\" x2=\"181\" y2=\"27\" style=\"stroke:#afe2d9ff;stroke-width:2;\" /><line x1=\"182\" y1=\"15\" x2=\"182\" y2=\"27\" style=\"stroke:#aee2d8ff;stroke-width:2;\" /><line x1=\"183\" y1=\"15\" x2=\"183\" y2=\"27\" style=\"stroke:#aee2d8ff;stroke-width:2;\" /><line x1=\"184\" y1=\"15\" x2=\"184\" y2=\"27\" style=\"stroke:#ade2d8ff;stroke-width:2;\" /><line x1=\"185\" y1=\"15\" x2=\"185\" y2=\"27\" style=\"stroke:#ade2d8ff;stroke-width:2;\" /><line x1=\"186\" y1=\"15\" x2=\"186\" y2=\"27\" style=\"stroke:#ace2d8ff;stroke-width:2;\" /><line x1=\"187\" y1=\"15\" x2=\"187\" y2=\"27\" style=\"stroke:#ace2d8ff;stroke-width:2;\" /><line x1=\"188\" y1=\"15\" x2=\"188\" y2=\"27\" style=\"stroke:#abe1d8ff;stroke-width:2;\" /><line x1=\"189\" y1=\"15\" x2=\"189\" y2=\"27\" style=\"stroke:#abe1d8ff;stroke-width:2;\" /><line x1=\"190\" y1=\"15\" x2=\"190\" y2=\"27\" style=\"stroke:#abe1d7ff;stroke-width:2;\" /><line x1=\"191\" y1=\"15\" x2=\"191\" y2=\"27\" style=\"stroke:#aae1d7ff;stroke-width:2;\" /><line x1=\"192\" y1=\"15\" x2=\"192\" y2=\"27\" style=\"stroke:#aae1d7ff;stroke-width:2;\" /><line x1=\"193\" y1=\"15\" x2=\"193\" y2=\"27\" style=\"stroke:#a9e1d7ff;stroke-width:2;\" /><line x1=\"194\" y1=\"15\" x2=\"194\" y2=\"27\" style=\"stroke:#a9e1d7ff;stroke-width:2;\" /><line x1=\"195\" y1=\"15\" x2=\"195\" y2=\"27\" style=\"stroke:#a8e0d7ff;stroke-width:2;\" /><line x1=\"196\" y1=\"15\" x2=\"196\" y2=\"27\" style=\"stroke:#a8e0d7ff;stroke-width:2;\" /><line x1=\"197\" y1=\"15\" x2=\"197\" y2=\"27\" style=\"stroke:#a7e0d6ff;stroke-width:2;\" /><line x1=\"198\" y1=\"15\" x2=\"198\" y2=\"27\" style=\"stroke:#a7e0d6ff;stroke-width:2;\" /><line x1=\"199\" y1=\"15\" x2=\"199\" y2=\"27\" style=\"stroke:#a7e0d6ff;stroke-width:2;\" /><line x1=\"200\" y1=\"15\" x2=\"200\" y2=\"27\" style=\"stroke:#a6e0d6ff;stroke-width:2;\" /><line x1=\"201\" y1=\"15\" x2=\"201\" y2=\"27\" style=\"stroke:#a6e0d6ff;stroke-width:2;\" /><line x1=\"202\" y1=\"15\" x2=\"202\" y2=\"27\" style=\"stroke:#a5dfd6ff;stroke-width:2;\" /><line x1=\"203\" y1=\"15\" x2=\"203\" y2=\"27\" style=\"stroke:#a5dfd6ff;stroke-width:2;\" /><line x1=\"204\" y1=\"15\" x2=\"204\" y2=\"27\" style=\"stroke:#a4dfd6ff;stroke-width:2;\" /><line x1=\"205\" y1=\"15\" x2=\"205\" y2=\"27\" style=\"stroke:#a4dfd5ff;stroke-width:2;\" /><line x1=\"206\" y1=\"15\" x2=\"206\" y2=\"27\" style=\"stroke:#a3dfd5ff;stroke-width:2;\" /><line x1=\"207\" y1=\"15\" x2=\"207\" y2=\"27\" style=\"stroke:#a3dfd5ff;stroke-width:2;\" /><line x1=\"208\" y1=\"15\" x2=\"208\" y2=\"27\" style=\"stroke:#a2dfd5ff;stroke-width:2;\" /><line x1=\"209\" y1=\"15\" x2=\"209\" y2=\"27\" style=\"stroke:#a2dfd5ff;stroke-width:2;\" /><line x1=\"210\" y1=\"15\" x2=\"210\" y2=\"27\" style=\"stroke:#a2ded5ff;stroke-width:2;\" /><line x1=\"211\" y1=\"15\" x2=\"211\" y2=\"27\" style=\"stroke:#a1ded5ff;stroke-width:2;\" /><line x1=\"212\" y1=\"15\" x2=\"212\" y2=\"27\" style=\"stroke:#a1ded4ff;stroke-width:2;\" /><line x1=\"213\" y1=\"15\" x2=\"213\" y2=\"27\" style=\"stroke:#a0ded4ff;stroke-width:2;\" /><line x1=\"214\" y1=\"15\" x2=\"214\" y2=\"27\" style=\"stroke:#a0ded4ff;stroke-width:2;\" /><line x1=\"215\" y1=\"15\" x2=\"215\" y2=\"27\" style=\"stroke:#9fded4ff;stroke-width:2;\" /><line x1=\"216\" y1=\"15\" x2=\"216\" y2=\"27\" style=\"stroke:#9fded4ff;stroke-width:2;\" /><line x1=\"217\" y1=\"15\" x2=\"217\" y2=\"27\" style=\"stroke:#9eddd4ff;stroke-width:2;\" /><line x1=\"218\" y1=\"15\" x2=\"218\" y2=\"27\" style=\"stroke:#9eddd4ff;stroke-width:2;\" /><line x1=\"219\" y1=\"15\" x2=\"219\" y2=\"27\" style=\"stroke:#9eddd4ff;stroke-width:2;\" /><line x1=\"220\" y1=\"15\" x2=\"220\" y2=\"27\" style=\"stroke:#9dddd3ff;stroke-width:2;\" /><line x1=\"221\" y1=\"15\" x2=\"221\" y2=\"27\" style=\"stroke:#9dddd3ff;stroke-width:2;\" /><line x1=\"222\" y1=\"15\" x2=\"222\" y2=\"27\" style=\"stroke:#9cddd3ff;stroke-width:2;\" /><line x1=\"223\" y1=\"15\" x2=\"223\" y2=\"27\" style=\"stroke:#9cddd3ff;stroke-width:2;\" /><line x1=\"224\" y1=\"15\" x2=\"224\" y2=\"27\" style=\"stroke:#9bdcd3ff;stroke-width:2;\" /><line x1=\"225\" y1=\"15\" x2=\"225\" y2=\"27\" style=\"stroke:#9bdcd3ff;stroke-width:2;\" /><line x1=\"226\" y1=\"15\" x2=\"226\" y2=\"27\" style=\"stroke:#9adcd3ff;stroke-width:2;\" /><line x1=\"227\" y1=\"15\" x2=\"227\" y2=\"27\" style=\"stroke:#9adcd2ff;stroke-width:2;\" /><line x1=\"228\" y1=\"15\" x2=\"228\" y2=\"27\" style=\"stroke:#9adcd2ff;stroke-width:2;\" /><line x1=\"229\" y1=\"15\" x2=\"229\" y2=\"27\" style=\"stroke:#99dcd2ff;stroke-width:2;\" /><line x1=\"230\" y1=\"15\" x2=\"230\" y2=\"27\" style=\"stroke:#99dcd2ff;stroke-width:2;\" /><line x1=\"231\" y1=\"15\" x2=\"231\" y2=\"27\" style=\"stroke:#98dbd2ff;stroke-width:2;\" /><line x1=\"232\" y1=\"15\" x2=\"232\" y2=\"27\" style=\"stroke:#98dbd2ff;stroke-width:2;\" /><line x1=\"233\" y1=\"15\" x2=\"233\" y2=\"27\" style=\"stroke:#97dbd2ff;stroke-width:2;\" /><line x1=\"234\" y1=\"15\" x2=\"234\" y2=\"27\" style=\"stroke:#97dbd2ff;stroke-width:2;\" /><line x1=\"235\" y1=\"15\" x2=\"235\" y2=\"27\" style=\"stroke:#96dbd1ff;stroke-width:2;\" /><line x1=\"236\" y1=\"15\" x2=\"236\" y2=\"27\" style=\"stroke:#96dbd1ff;stroke-width:2;\" /><line x1=\"237\" y1=\"15\" x2=\"237\" y2=\"27\" style=\"stroke:#96dbd1ff;stroke-width:2;\" /><line x1=\"238\" y1=\"15\" x2=\"238\" y2=\"27\" style=\"stroke:#95dad1ff;stroke-width:2;\" /><line x1=\"239\" y1=\"15\" x2=\"239\" y2=\"27\" style=\"stroke:#95dad1ff;stroke-width:2;\" /><line x1=\"240\" y1=\"15\" x2=\"240\" y2=\"27\" style=\"stroke:#94dad1ff;stroke-width:2;\" /><line x1=\"241\" y1=\"15\" x2=\"241\" y2=\"27\" style=\"stroke:#94dad1ff;stroke-width:2;\" /><line x1=\"242\" y1=\"15\" x2=\"242\" y2=\"27\" style=\"stroke:#93dad1ff;stroke-width:2;\" /><line x1=\"243\" y1=\"15\" x2=\"243\" y2=\"27\" style=\"stroke:#93dad0ff;stroke-width:2;\" /><line x1=\"244\" y1=\"15\" x2=\"244\" y2=\"27\" style=\"stroke:#92dad0ff;stroke-width:2;\" /><line x1=\"245\" y1=\"15\" x2=\"245\" y2=\"27\" style=\"stroke:#92dad0ff;stroke-width:2;\" /><line x1=\"246\" y1=\"15\" x2=\"246\" y2=\"27\" style=\"stroke:#91d9d0ff;stroke-width:2;\" /><line x1=\"247\" y1=\"15\" x2=\"247\" y2=\"27\" style=\"stroke:#91d9d0ff;stroke-width:2;\" /><line x1=\"248\" y1=\"15\" x2=\"248\" y2=\"27\" style=\"stroke:#91d9d0ff;stroke-width:2;\" /><line x1=\"249\" y1=\"15\" x2=\"249\" y2=\"27\" style=\"stroke:#90d9d0ff;stroke-width:2;\" /><line x1=\"250\" y1=\"15\" x2=\"250\" y2=\"27\" style=\"stroke:#90d9cfff;stroke-width:2;\" /><line x1=\"251\" y1=\"15\" x2=\"251\" y2=\"27\" style=\"stroke:#8fd9cfff;stroke-width:2;\" /><line x1=\"252\" y1=\"15\" x2=\"252\" y2=\"27\" style=\"stroke:#8fd9cfff;stroke-width:2;\" /><line x1=\"253\" y1=\"15\" x2=\"253\" y2=\"27\" style=\"stroke:#8ed8cfff;stroke-width:2;\" /><line x1=\"254\" y1=\"15\" x2=\"254\" y2=\"27\" style=\"stroke:#8ed8cfff;stroke-width:2;\" /><line x1=\"255\" y1=\"15\" x2=\"255\" y2=\"27\" style=\"stroke:#8dd8cfff;stroke-width:2;\" /><line x1=\"256\" y1=\"15\" x2=\"256\" y2=\"27\" style=\"stroke:#8dd8cfff;stroke-width:2;\" /><line x1=\"257\" y1=\"15\" x2=\"257\" y2=\"27\" style=\"stroke:#8dd8cfff;stroke-width:2;\" /><line x1=\"258\" y1=\"15\" x2=\"258\" y2=\"27\" style=\"stroke:#8cd8ceff;stroke-width:2;\" /><line x1=\"259\" y1=\"15\" x2=\"259\" y2=\"27\" style=\"stroke:#8cd8ceff;stroke-width:2;\" /><line x1=\"260\" y1=\"15\" x2=\"260\" y2=\"27\" style=\"stroke:#8bd7ceff;stroke-width:2;\" /><line x1=\"261\" y1=\"15\" x2=\"261\" y2=\"27\" style=\"stroke:#8bd7ceff;stroke-width:2;\" /><line x1=\"262\" y1=\"15\" x2=\"262\" y2=\"27\" style=\"stroke:#8ad7ceff;stroke-width:2;\" /><line x1=\"263\" y1=\"15\" x2=\"263\" y2=\"27\" style=\"stroke:#8ad7ceff;stroke-width:2;\" /><line x1=\"264\" y1=\"15\" x2=\"264\" y2=\"27\" style=\"stroke:#89d7ceff;stroke-width:2;\" /><line x1=\"265\" y1=\"15\" x2=\"265\" y2=\"27\" style=\"stroke:#89d7cdff;stroke-width:2;\" /><line x1=\"266\" y1=\"15\" x2=\"266\" y2=\"27\" style=\"stroke:#89d7cdff;stroke-width:2;\" /><line x1=\"267\" y1=\"15\" x2=\"267\" y2=\"27\" style=\"stroke:#88d6cdff;stroke-width:2;\" /><line x1=\"268\" y1=\"15\" x2=\"268\" y2=\"27\" style=\"stroke:#88d6cdff;stroke-width:2;\" /><line x1=\"269\" y1=\"15\" x2=\"269\" y2=\"27\" style=\"stroke:#87d6cdff;stroke-width:2;\" /><line x1=\"270\" y1=\"15\" x2=\"270\" y2=\"27\" style=\"stroke:#87d6cdff;stroke-width:2;\" /><line x1=\"271\" y1=\"15\" x2=\"271\" y2=\"27\" style=\"stroke:#86d6cdff;stroke-width:2;\" /><line x1=\"272\" y1=\"15\" x2=\"272\" y2=\"27\" style=\"stroke:#86d6cdff;stroke-width:2;\" /><line x1=\"273\" y1=\"15\" x2=\"273\" y2=\"27\" style=\"stroke:#85d6ccff;stroke-width:2;\" /><line x1=\"274\" y1=\"15\" x2=\"274\" y2=\"27\" style=\"stroke:#85d6ccff;stroke-width:2;\" /><line x1=\"275\" y1=\"15\" x2=\"275\" y2=\"27\" style=\"stroke:#85d5ccff;stroke-width:2;\" /><line x1=\"276\" y1=\"15\" x2=\"276\" y2=\"27\" style=\"stroke:#84d5ccff;stroke-width:2;\" /><line x1=\"277\" y1=\"15\" x2=\"277\" y2=\"27\" style=\"stroke:#84d5ccff;stroke-width:2;\" /><line x1=\"278\" y1=\"15\" x2=\"278\" y2=\"27\" style=\"stroke:#83d5ccff;stroke-width:2;\" /><line x1=\"279\" y1=\"15\" x2=\"279\" y2=\"27\" style=\"stroke:#83d5ccff;stroke-width:2;\" /><line x1=\"280\" y1=\"15\" x2=\"280\" y2=\"27\" style=\"stroke:#82d5ccff;stroke-width:2;\" /><line x1=\"281\" y1=\"15\" x2=\"281\" y2=\"27\" style=\"stroke:#82d5cbff;stroke-width:2;\" /><line x1=\"282\" y1=\"15\" x2=\"282\" y2=\"27\" style=\"stroke:#81d4cbff;stroke-width:2;\" /><line x1=\"283\" y1=\"15\" x2=\"283\" y2=\"27\" style=\"stroke:#81d4cbff;stroke-width:2;\" /><line x1=\"284\" y1=\"15\" x2=\"284\" y2=\"27\" style=\"stroke:#81d4cbff;stroke-width:2;\" /><line x1=\"285\" y1=\"15\" x2=\"285\" y2=\"27\" style=\"stroke:#80d4cbff;stroke-width:2;\" /><line x1=\"286\" y1=\"15\" x2=\"286\" y2=\"27\" style=\"stroke:#80d4cbff;stroke-width:2;\" /><line x1=\"287\" y1=\"15\" x2=\"287\" y2=\"27\" style=\"stroke:#7fd4cbff;stroke-width:2;\" /><line x1=\"288\" y1=\"15\" x2=\"288\" y2=\"27\" style=\"stroke:#7fd4caff;stroke-width:2;\" /><line x1=\"289\" y1=\"15\" x2=\"289\" y2=\"27\" style=\"stroke:#7ed3caff;stroke-width:2;\" /><line x1=\"290\" y1=\"15\" x2=\"290\" y2=\"27\" style=\"stroke:#7ed3caff;stroke-width:2;\" /><line x1=\"291\" y1=\"15\" x2=\"291\" y2=\"27\" style=\"stroke:#7dd3caff;stroke-width:2;\" /><line x1=\"292\" y1=\"15\" x2=\"292\" y2=\"27\" style=\"stroke:#7dd3caff;stroke-width:2;\" /><line x1=\"293\" y1=\"15\" x2=\"293\" y2=\"27\" style=\"stroke:#7cd3caff;stroke-width:2;\" /><line x1=\"294\" y1=\"15\" x2=\"294\" y2=\"27\" style=\"stroke:#7cd3caff;stroke-width:2;\" /><line x1=\"295\" y1=\"15\" x2=\"295\" y2=\"27\" style=\"stroke:#7cd3caff;stroke-width:2;\" /><line x1=\"296\" y1=\"15\" x2=\"296\" y2=\"27\" style=\"stroke:#7bd2c9ff;stroke-width:2;\" /><line x1=\"297\" y1=\"15\" x2=\"297\" y2=\"27\" style=\"stroke:#7bd2c9ff;stroke-width:2;\" /><line x1=\"298\" y1=\"15\" x2=\"298\" y2=\"27\" style=\"stroke:#7ad2c9ff;stroke-width:2;\" /><line x1=\"299\" y1=\"15\" x2=\"299\" y2=\"27\" style=\"stroke:#7ad2c9ff;stroke-width:2;\" /><line x1=\"300\" y1=\"15\" x2=\"300\" y2=\"27\" style=\"stroke:#79d2c9ff;stroke-width:2;\" /><line x1=\"301\" y1=\"15\" x2=\"301\" y2=\"27\" style=\"stroke:#79d2c9ff;stroke-width:2;\" /><line x1=\"302\" y1=\"15\" x2=\"302\" y2=\"27\" style=\"stroke:#78d2c9ff;stroke-width:2;\" /><line x1=\"303\" y1=\"15\" x2=\"303\" y2=\"27\" style=\"stroke:#78d1c8ff;stroke-width:2;\" /><line x1=\"304\" y1=\"15\" x2=\"304\" y2=\"27\" style=\"stroke:#78d1c8ff;stroke-width:2;\" /><line x1=\"305\" y1=\"15\" x2=\"305\" y2=\"27\" style=\"stroke:#77d1c8ff;stroke-width:2;\" /><line x1=\"306\" y1=\"15\" x2=\"306\" y2=\"27\" style=\"stroke:#77d1c8ff;stroke-width:2;\" /><line x1=\"307\" y1=\"15\" x2=\"307\" y2=\"27\" style=\"stroke:#76d1c8ff;stroke-width:2;\" /><line x1=\"308\" y1=\"15\" x2=\"308\" y2=\"27\" style=\"stroke:#76d1c8ff;stroke-width:2;\" /><line x1=\"309\" y1=\"15\" x2=\"309\" y2=\"27\" style=\"stroke:#75d1c8ff;stroke-width:2;\" /><line x1=\"310\" y1=\"15\" x2=\"310\" y2=\"27\" style=\"stroke:#75d1c8ff;stroke-width:2;\" /><line x1=\"311\" y1=\"15\" x2=\"311\" y2=\"27\" style=\"stroke:#74d0c7ff;stroke-width:2;\" /><line x1=\"312\" y1=\"15\" x2=\"312\" y2=\"27\" style=\"stroke:#74d0c7ff;stroke-width:2;\" /><line x1=\"313\" y1=\"15\" x2=\"313\" y2=\"27\" style=\"stroke:#74d0c7ff;stroke-width:2;\" /><line x1=\"314\" y1=\"15\" x2=\"314\" y2=\"27\" style=\"stroke:#73d0c7ff;stroke-width:2;\" /><line x1=\"315\" y1=\"15\" x2=\"315\" y2=\"27\" style=\"stroke:#73d0c7ff;stroke-width:2;\" /><line x1=\"316\" y1=\"15\" x2=\"316\" y2=\"27\" style=\"stroke:#72d0c7ff;stroke-width:2;\" /><line x1=\"317\" y1=\"15\" x2=\"317\" y2=\"27\" style=\"stroke:#72d0c7ff;stroke-width:2;\" /><line x1=\"318\" y1=\"15\" x2=\"318\" y2=\"27\" style=\"stroke:#71cfc6ff;stroke-width:2;\" /><line x1=\"319\" y1=\"15\" x2=\"319\" y2=\"27\" style=\"stroke:#71cfc6ff;stroke-width:2;\" /><line x1=\"320\" y1=\"15\" x2=\"320\" y2=\"27\" style=\"stroke:#70cfc6ff;stroke-width:2;\" /><line x1=\"321\" y1=\"15\" x2=\"321\" y2=\"27\" style=\"stroke:#70cfc6ff;stroke-width:2;\" /><line x1=\"322\" y1=\"15\" x2=\"322\" y2=\"27\" style=\"stroke:#70cfc6ff;stroke-width:2;\" /><line x1=\"323\" y1=\"15\" x2=\"323\" y2=\"27\" style=\"stroke:#6fcfc6ff;stroke-width:2;\" /><line x1=\"324\" y1=\"15\" x2=\"324\" y2=\"27\" style=\"stroke:#6fcfc6ff;stroke-width:2;\" /><line x1=\"325\" y1=\"15\" x2=\"325\" y2=\"27\" style=\"stroke:#6ecec6ff;stroke-width:2;\" /><line x1=\"326\" y1=\"15\" x2=\"326\" y2=\"27\" style=\"stroke:#6ecec5ff;stroke-width:2;\" /><line x1=\"327\" y1=\"15\" x2=\"327\" y2=\"27\" style=\"stroke:#6dcec5ff;stroke-width:2;\" /><line x1=\"328\" y1=\"15\" x2=\"328\" y2=\"27\" style=\"stroke:#6dcec5ff;stroke-width:2;\" /><line x1=\"329\" y1=\"15\" x2=\"329\" y2=\"27\" style=\"stroke:#6ccec5ff;stroke-width:2;\" /><line x1=\"330\" y1=\"15\" x2=\"330\" y2=\"27\" style=\"stroke:#6ccec5ff;stroke-width:2;\" /><line x1=\"331\" y1=\"15\" x2=\"331\" y2=\"27\" style=\"stroke:#6bcec5ff;stroke-width:2;\" /><line x1=\"332\" y1=\"15\" x2=\"332\" y2=\"27\" style=\"stroke:#6bcdc5ff;stroke-width:2;\" /><line x1=\"333\" y1=\"15\" x2=\"333\" y2=\"27\" style=\"stroke:#6bcdc5ff;stroke-width:2;\" /><line x1=\"334\" y1=\"15\" x2=\"334\" y2=\"27\" style=\"stroke:#6acdc4ff;stroke-width:2;\" /><line x1=\"335\" y1=\"15\" x2=\"335\" y2=\"27\" style=\"stroke:#6acdc4ff;stroke-width:2;\" /><line x1=\"336\" y1=\"15\" x2=\"336\" y2=\"27\" style=\"stroke:#69cdc4ff;stroke-width:2;\" /><line x1=\"337\" y1=\"15\" x2=\"337\" y2=\"27\" style=\"stroke:#69cdc4ff;stroke-width:2;\" /><line x1=\"338\" y1=\"15\" x2=\"338\" y2=\"27\" style=\"stroke:#68cdc4ff;stroke-width:2;\" /><line x1=\"339\" y1=\"15\" x2=\"339\" y2=\"27\" style=\"stroke:#68ccc4ff;stroke-width:2;\" /><line x1=\"340\" y1=\"15\" x2=\"340\" y2=\"27\" style=\"stroke:#67ccc4ff;stroke-width:2;\" /><line x1=\"341\" y1=\"15\" x2=\"341\" y2=\"27\" style=\"stroke:#67ccc3ff;stroke-width:2;\" /><line x1=\"342\" y1=\"15\" x2=\"342\" y2=\"27\" style=\"stroke:#67ccc3ff;stroke-width:2;\" /><line x1=\"343\" y1=\"15\" x2=\"343\" y2=\"27\" style=\"stroke:#66ccc3ff;stroke-width:2;\" /><line x1=\"344\" y1=\"15\" x2=\"344\" y2=\"27\" style=\"stroke:#66ccc3ff;stroke-width:2;\" /><line x1=\"345\" y1=\"15\" x2=\"345\" y2=\"27\" style=\"stroke:#65ccc3ff;stroke-width:2;\" /><line x1=\"346\" y1=\"15\" x2=\"346\" y2=\"27\" style=\"stroke:#65ccc3ff;stroke-width:2;\" /><line x1=\"347\" y1=\"15\" x2=\"347\" y2=\"27\" style=\"stroke:#64cbc3ff;stroke-width:2;\" /><line x1=\"348\" y1=\"15\" x2=\"348\" y2=\"27\" style=\"stroke:#64cbc3ff;stroke-width:2;\" /><line x1=\"349\" y1=\"15\" x2=\"349\" y2=\"27\" style=\"stroke:#63cbc2ff;stroke-width:2;\" /><line x1=\"350\" y1=\"15\" x2=\"350\" y2=\"27\" style=\"stroke:#63cbc2ff;stroke-width:2;\" /><line x1=\"351\" y1=\"15\" x2=\"351\" y2=\"27\" style=\"stroke:#63cbc2ff;stroke-width:2;\" /><line x1=\"352\" y1=\"15\" x2=\"352\" y2=\"27\" style=\"stroke:#62cbc2ff;stroke-width:2;\" /><line x1=\"353\" y1=\"15\" x2=\"353\" y2=\"27\" style=\"stroke:#62cbc2ff;stroke-width:2;\" /><line x1=\"354\" y1=\"15\" x2=\"354\" y2=\"27\" style=\"stroke:#61cac2ff;stroke-width:2;\" /><line x1=\"355\" y1=\"15\" x2=\"355\" y2=\"27\" style=\"stroke:#61cac2ff;stroke-width:2;\" /><line x1=\"356\" y1=\"15\" x2=\"356\" y2=\"27\" style=\"stroke:#60cac1ff;stroke-width:2;\" /><line x1=\"357\" y1=\"15\" x2=\"357\" y2=\"27\" style=\"stroke:#60cac1ff;stroke-width:2;\" /><line x1=\"358\" y1=\"15\" x2=\"358\" y2=\"27\" style=\"stroke:#5fcac1ff;stroke-width:2;\" /><line x1=\"359\" y1=\"15\" x2=\"359\" y2=\"27\" style=\"stroke:#5fcac1ff;stroke-width:2;\" /><line x1=\"360\" y1=\"15\" x2=\"360\" y2=\"27\" style=\"stroke:#5fcac1ff;stroke-width:2;\" /><line x1=\"361\" y1=\"15\" x2=\"361\" y2=\"27\" style=\"stroke:#5ec9c1ff;stroke-width:2;\" /><line x1=\"362\" y1=\"15\" x2=\"362\" y2=\"27\" style=\"stroke:#5ec9c1ff;stroke-width:2;\" /><line x1=\"363\" y1=\"15\" x2=\"363\" y2=\"27\" style=\"stroke:#5dc9c1ff;stroke-width:2;\" /><line x1=\"364\" y1=\"15\" x2=\"364\" y2=\"27\" style=\"stroke:#5dc9c0ff;stroke-width:2;\" /><line x1=\"365\" y1=\"15\" x2=\"365\" y2=\"27\" style=\"stroke:#5cc9c0ff;stroke-width:2;\" /><line x1=\"366\" y1=\"15\" x2=\"366\" y2=\"27\" style=\"stroke:#5cc9c0ff;stroke-width:2;\" /><line x1=\"367\" y1=\"15\" x2=\"367\" y2=\"27\" style=\"stroke:#5bc9c0ff;stroke-width:2;\" /><line x1=\"368\" y1=\"15\" x2=\"368\" y2=\"27\" style=\"stroke:#5bc8c0ff;stroke-width:2;\" /><line x1=\"369\" y1=\"15\" x2=\"369\" y2=\"27\" style=\"stroke:#5ac8c0ff;stroke-width:2;\" /><line x1=\"370\" y1=\"15\" x2=\"370\" y2=\"27\" style=\"stroke:#5ac8c0ff;stroke-width:2;\" /><line x1=\"371\" y1=\"15\" x2=\"371\" y2=\"27\" style=\"stroke:#5ac8bfff;stroke-width:2;\" /><line x1=\"372\" y1=\"15\" x2=\"372\" y2=\"27\" style=\"stroke:#59c8bfff;stroke-width:2;\" /><line x1=\"373\" y1=\"15\" x2=\"373\" y2=\"27\" style=\"stroke:#59c8bfff;stroke-width:2;\" /><line x1=\"374\" y1=\"15\" x2=\"374\" y2=\"27\" style=\"stroke:#58c8bfff;stroke-width:2;\" /><line x1=\"375\" y1=\"15\" x2=\"375\" y2=\"27\" style=\"stroke:#58c7bfff;stroke-width:2;\" /><line x1=\"376\" y1=\"15\" x2=\"376\" y2=\"27\" style=\"stroke:#57c7bfff;stroke-width:2;\" /><line x1=\"377\" y1=\"15\" x2=\"377\" y2=\"27\" style=\"stroke:#57c7bfff;stroke-width:2;\" /><line x1=\"378\" y1=\"15\" x2=\"378\" y2=\"27\" style=\"stroke:#56c7bfff;stroke-width:2;\" /><line x1=\"379\" y1=\"15\" x2=\"379\" y2=\"27\" style=\"stroke:#56c7beff;stroke-width:2;\" /><line x1=\"380\" y1=\"15\" x2=\"380\" y2=\"27\" style=\"stroke:#56c7beff;stroke-width:2;\" /><line x1=\"381\" y1=\"15\" x2=\"381\" y2=\"27\" style=\"stroke:#55c7beff;stroke-width:2;\" /><line x1=\"382\" y1=\"15\" x2=\"382\" y2=\"27\" style=\"stroke:#55c7beff;stroke-width:2;\" /><line x1=\"383\" y1=\"15\" x2=\"383\" y2=\"27\" style=\"stroke:#54c6beff;stroke-width:2;\" /><line x1=\"384\" y1=\"15\" x2=\"384\" y2=\"27\" style=\"stroke:#54c6beff;stroke-width:2;\" /><line x1=\"385\" y1=\"15\" x2=\"385\" y2=\"27\" style=\"stroke:#53c6beff;stroke-width:2;\" /><line x1=\"386\" y1=\"15\" x2=\"386\" y2=\"27\" style=\"stroke:#53c6beff;stroke-width:2;\" /><line x1=\"387\" y1=\"15\" x2=\"387\" y2=\"27\" style=\"stroke:#52c6bdff;stroke-width:2;\" /><line x1=\"388\" y1=\"15\" x2=\"388\" y2=\"27\" style=\"stroke:#52c6bdff;stroke-width:2;\" /><line x1=\"389\" y1=\"15\" x2=\"389\" y2=\"27\" style=\"stroke:#52c6bdff;stroke-width:2;\" /><line x1=\"390\" y1=\"15\" x2=\"390\" y2=\"27\" style=\"stroke:#51c5bdff;stroke-width:2;\" /><line x1=\"391\" y1=\"15\" x2=\"391\" y2=\"27\" style=\"stroke:#51c5bdff;stroke-width:2;\" /><line x1=\"392\" y1=\"15\" x2=\"392\" y2=\"27\" style=\"stroke:#50c5bdff;stroke-width:2;\" /><line x1=\"393\" y1=\"15\" x2=\"393\" y2=\"27\" style=\"stroke:#50c5bdff;stroke-width:2;\" /><line x1=\"394\" y1=\"15\" x2=\"394\" y2=\"27\" style=\"stroke:#4fc5bcff;stroke-width:2;\" /><line x1=\"395\" y1=\"15\" x2=\"395\" y2=\"27\" style=\"stroke:#4fc5bcff;stroke-width:2;\" /><line x1=\"396\" y1=\"15\" x2=\"396\" y2=\"27\" style=\"stroke:#4ec5bcff;stroke-width:2;\" /><line x1=\"397\" y1=\"15\" x2=\"397\" y2=\"27\" style=\"stroke:#4ec4bcff;stroke-width:2;\" /><line x1=\"398\" y1=\"15\" x2=\"398\" y2=\"27\" style=\"stroke:#4ec4bcff;stroke-width:2;\" /><line x1=\"399\" y1=\"15\" x2=\"399\" y2=\"27\" style=\"stroke:#4dc4bcff;stroke-width:2;\" /><line x1=\"400\" y1=\"15\" x2=\"400\" y2=\"27\" style=\"stroke:#4dc4bcff;stroke-width:2;\" /><line x1=\"401\" y1=\"15\" x2=\"401\" y2=\"27\" style=\"stroke:#4cc4bcff;stroke-width:2;\" /><line x1=\"402\" y1=\"15\" x2=\"402\" y2=\"27\" style=\"stroke:#4cc4bbff;stroke-width:2;\" /><line x1=\"403\" y1=\"15\" x2=\"403\" y2=\"27\" style=\"stroke:#4bc4bbff;stroke-width:2;\" /><line x1=\"404\" y1=\"15\" x2=\"404\" y2=\"27\" style=\"stroke:#4bc3bbff;stroke-width:2;\" /><line x1=\"405\" y1=\"15\" x2=\"405\" y2=\"27\" style=\"stroke:#4ac3bbff;stroke-width:2;\" /><line x1=\"406\" y1=\"15\" x2=\"406\" y2=\"27\" style=\"stroke:#4ac3bbff;stroke-width:2;\" /><line x1=\"407\" y1=\"15\" x2=\"407\" y2=\"27\" style=\"stroke:#49c3bbff;stroke-width:2;\" /><line x1=\"408\" y1=\"15\" x2=\"408\" y2=\"27\" style=\"stroke:#49c3bbff;stroke-width:2;\" /><line x1=\"409\" y1=\"15\" x2=\"409\" y2=\"27\" style=\"stroke:#49c3baff;stroke-width:2;\" /><line x1=\"410\" y1=\"15\" x2=\"410\" y2=\"27\" style=\"stroke:#48c3baff;stroke-width:2;\" /><line x1=\"411\" y1=\"15\" x2=\"411\" y2=\"27\" style=\"stroke:#48c3baff;stroke-width:2;\" /><line x1=\"412\" y1=\"15\" x2=\"412\" y2=\"27\" style=\"stroke:#47c2baff;stroke-width:2;\" /><line x1=\"413\" y1=\"15\" x2=\"413\" y2=\"27\" style=\"stroke:#47c2baff;stroke-width:2;\" /><line x1=\"414\" y1=\"15\" x2=\"414\" y2=\"27\" style=\"stroke:#46c2baff;stroke-width:2;\" /><line x1=\"415\" y1=\"15\" x2=\"415\" y2=\"27\" style=\"stroke:#46c2baff;stroke-width:2;\" /><line x1=\"416\" y1=\"15\" x2=\"416\" y2=\"27\" style=\"stroke:#45c2baff;stroke-width:2;\" /><line x1=\"417\" y1=\"15\" x2=\"417\" y2=\"27\" style=\"stroke:#45c2b9ff;stroke-width:2;\" /><line x1=\"418\" y1=\"15\" x2=\"418\" y2=\"27\" style=\"stroke:#45c2b9ff;stroke-width:2;\" /><line x1=\"419\" y1=\"15\" x2=\"419\" y2=\"27\" style=\"stroke:#44c1b9ff;stroke-width:2;\" /><line x1=\"420\" y1=\"15\" x2=\"420\" y2=\"27\" style=\"stroke:#44c1b9ff;stroke-width:2;\" /><line x1=\"421\" y1=\"15\" x2=\"421\" y2=\"27\" style=\"stroke:#43c1b9ff;stroke-width:2;\" /><line x1=\"422\" y1=\"15\" x2=\"422\" y2=\"27\" style=\"stroke:#43c1b9ff;stroke-width:2;\" /><line x1=\"423\" y1=\"15\" x2=\"423\" y2=\"27\" style=\"stroke:#42c1b9ff;stroke-width:2;\" /><line x1=\"424\" y1=\"15\" x2=\"424\" y2=\"27\" style=\"stroke:#42c1b9ff;stroke-width:2;\" /><line x1=\"425\" y1=\"15\" x2=\"425\" y2=\"27\" style=\"stroke:#41c1b8ff;stroke-width:2;\" /><line x1=\"426\" y1=\"15\" x2=\"426\" y2=\"27\" style=\"stroke:#41c0b8ff;stroke-width:2;\" /><line x1=\"427\" y1=\"15\" x2=\"427\" y2=\"27\" style=\"stroke:#41c0b8ff;stroke-width:2;\" /><line x1=\"428\" y1=\"15\" x2=\"428\" y2=\"27\" style=\"stroke:#40c0b8ff;stroke-width:2;\" /><line x1=\"429\" y1=\"15\" x2=\"429\" y2=\"27\" style=\"stroke:#40c0b8ff;stroke-width:2;\" /><line x1=\"430\" y1=\"15\" x2=\"430\" y2=\"27\" style=\"stroke:#3fc0b8ff;stroke-width:2;\" /><line x1=\"431\" y1=\"15\" x2=\"431\" y2=\"27\" style=\"stroke:#3fc0b8ff;stroke-width:2;\" /><line x1=\"432\" y1=\"15\" x2=\"432\" y2=\"27\" style=\"stroke:#3ec0b7ff;stroke-width:2;\" /><line x1=\"433\" y1=\"15\" x2=\"433\" y2=\"27\" style=\"stroke:#3ebfb7ff;stroke-width:2;\" /><line x1=\"434\" y1=\"15\" x2=\"434\" y2=\"27\" style=\"stroke:#3dbfb7ff;stroke-width:2;\" /><line x1=\"435\" y1=\"15\" x2=\"435\" y2=\"27\" style=\"stroke:#3dbfb7ff;stroke-width:2;\" /><line x1=\"436\" y1=\"15\" x2=\"436\" y2=\"27\" style=\"stroke:#3dbfb7ff;stroke-width:2;\" /><line x1=\"437\" y1=\"15\" x2=\"437\" y2=\"27\" style=\"stroke:#3cbfb7ff;stroke-width:2;\" /><line x1=\"438\" y1=\"15\" x2=\"438\" y2=\"27\" style=\"stroke:#3cbfb7ff;stroke-width:2;\" /><line x1=\"439\" y1=\"15\" x2=\"439\" y2=\"27\" style=\"stroke:#3bbfb7ff;stroke-width:2;\" /><line x1=\"440\" y1=\"15\" x2=\"440\" y2=\"27\" style=\"stroke:#3bbeb6ff;stroke-width:2;\" /><line x1=\"441\" y1=\"15\" x2=\"441\" y2=\"27\" style=\"stroke:#3abeb6ff;stroke-width:2;\" /><line x1=\"442\" y1=\"15\" x2=\"442\" y2=\"27\" style=\"stroke:#3abeb6ff;stroke-width:2;\" /><line x1=\"443\" y1=\"15\" x2=\"443\" y2=\"27\" style=\"stroke:#39beb6ff;stroke-width:2;\" /><line x1=\"444\" y1=\"15\" x2=\"444\" y2=\"27\" style=\"stroke:#39beb6ff;stroke-width:2;\" /><line x1=\"445\" y1=\"15\" x2=\"445\" y2=\"27\" style=\"stroke:#39beb6ff;stroke-width:2;\" /><line x1=\"446\" y1=\"15\" x2=\"446\" y2=\"27\" style=\"stroke:#38beb6ff;stroke-width:2;\" /><line x1=\"447\" y1=\"15\" x2=\"447\" y2=\"27\" style=\"stroke:#38beb5ff;stroke-width:2;\" /><line x1=\"448\" y1=\"15\" x2=\"448\" y2=\"27\" style=\"stroke:#37bdb5ff;stroke-width:2;\" /><line x1=\"449\" y1=\"15\" x2=\"449\" y2=\"27\" style=\"stroke:#37bdb5ff;stroke-width:2;\" /><text x=\"0\" y=\"38\" style=\"text-anchor:start; font-size:11px; font:Arial\">85</text><text x=\"75\" y=\"38\"; style=\"text-anchor:middle; font-size:11px; font:Arial\">320.3</text><text x=\"150\" y=\"38\"; style=\"text-anchor:middle; font-size:11px; font:Arial\">555.7</text><text x=\"225\" y=\"38\"; style=\"text-anchor:middle; font-size:11px; font:Arial\">791.0</text><text x=\"300\" y=\"38\"; style=\"text-anchor:middle; font-size:11px; font:Arial\">1026.3</text><text x=\"375\" y=\"38\"; style=\"text-anchor:middle; font-size:11px; font:Arial\">1261.7</text><text x=\"450\" y=\"38\" style=\"text-anchor:end; font-size:11px; font:Arial\">1497</text><text x=\"0\" y=\"12\" style=\"font-size:11px; font:Arial\"></text></svg>"
      ],
      "text/plain": [
       "<branca.colormap.LinearColormap at 0x2119cf8c5c0>"
      ]
     },
     "execution_count": 46,
     "metadata": {},
     "output_type": "execute_result"
    }
   ],
   "source": [
    "import branca.colormap as cm\n",
    "linear = cm.LinearColormap([\"#FFFBF0\", \"#37BDB5\"], vmin=hex_count_series.min(), vmax=hex_count_series.max())\n",
    "\n",
    "linear"
   ]
  },
  {
   "cell_type": "markdown",
   "metadata": {},
   "source": [
    "#### Final Map"
   ]
  },
  {
   "cell_type": "markdown",
   "metadata": {},
   "source": [
    "We are finally ready to create our map. \n",
    "1. First we'll create the folium map object and then we will superpose the hexagons on it.  \n",
    "To map the different hexagons to specific colors based on their order count we will use a lambda function and loop through the Pandas Series applying to each hexagon id (found in the geo_json_data object referenced in the feature \"id\") a color found in the colormap created earlier.\n",
    "2. We'll add our custom colormap to the folium map and name it for better understanding."
   ]
  },
  {
   "cell_type": "code",
   "execution_count": 48,
   "metadata": {},
   "outputs": [
    {
     "data": {
      "text/html": [
       "<div style=\"width:100%;\"><div style=\"position:relative;width:100%;height:0;padding-bottom:60%;\"><span style=\"color:#565656\">Make this Notebook Trusted to load map: File -> Trust Notebook</span><iframe srcdoc=\"&lt;!DOCTYPE html&gt;\n",
       "&lt;html&gt;\n",
       "&lt;head&gt;\n",
       "    \n",
       "    &lt;meta http-equiv=&quot;content-type&quot; content=&quot;text/html; charset=UTF-8&quot; /&gt;\n",
       "    \n",
       "        &lt;script&gt;\n",
       "            L_NO_TOUCH = false;\n",
       "            L_DISABLE_3D = false;\n",
       "        &lt;/script&gt;\n",
       "    \n",
       "    &lt;style&gt;html, body {width: 100%;height: 100%;margin: 0;padding: 0;}&lt;/style&gt;\n",
       "    &lt;style&gt;#map {position:absolute;top:0;bottom:0;right:0;left:0;}&lt;/style&gt;\n",
       "    &lt;script src=&quot;https://cdn.jsdelivr.net/npm/leaflet@1.9.3/dist/leaflet.js&quot;&gt;&lt;/script&gt;\n",
       "    &lt;script src=&quot;https://code.jquery.com/jquery-1.12.4.min.js&quot;&gt;&lt;/script&gt;\n",
       "    &lt;script src=&quot;https://cdn.jsdelivr.net/npm/bootstrap@5.2.2/dist/js/bootstrap.bundle.min.js&quot;&gt;&lt;/script&gt;\n",
       "    &lt;script src=&quot;https://cdnjs.cloudflare.com/ajax/libs/Leaflet.awesome-markers/2.0.2/leaflet.awesome-markers.js&quot;&gt;&lt;/script&gt;\n",
       "    &lt;link rel=&quot;stylesheet&quot; href=&quot;https://cdn.jsdelivr.net/npm/leaflet@1.9.3/dist/leaflet.css&quot;/&gt;\n",
       "    &lt;link rel=&quot;stylesheet&quot; href=&quot;https://cdn.jsdelivr.net/npm/bootstrap@5.2.2/dist/css/bootstrap.min.css&quot;/&gt;\n",
       "    &lt;link rel=&quot;stylesheet&quot; href=&quot;https://netdna.bootstrapcdn.com/bootstrap/3.0.0/css/bootstrap.min.css&quot;/&gt;\n",
       "    &lt;link rel=&quot;stylesheet&quot; href=&quot;https://cdn.jsdelivr.net/npm/@fortawesome/fontawesome-free@6.2.0/css/all.min.css&quot;/&gt;\n",
       "    &lt;link rel=&quot;stylesheet&quot; href=&quot;https://cdnjs.cloudflare.com/ajax/libs/Leaflet.awesome-markers/2.0.2/leaflet.awesome-markers.css&quot;/&gt;\n",
       "    &lt;link rel=&quot;stylesheet&quot; href=&quot;https://cdn.jsdelivr.net/gh/python-visualization/folium/folium/templates/leaflet.awesome.rotate.min.css&quot;/&gt;\n",
       "    \n",
       "            &lt;meta name=&quot;viewport&quot; content=&quot;width=device-width,\n",
       "                initial-scale=1.0, maximum-scale=1.0, user-scalable=no&quot; /&gt;\n",
       "            &lt;style&gt;\n",
       "                #map_2e292fc3174882928dbac75a0461fa3a {\n",
       "                    position: relative;\n",
       "                    width: 100.0%;\n",
       "                    height: 100.0%;\n",
       "                    left: 0.0%;\n",
       "                    top: 0.0%;\n",
       "                }\n",
       "                .leaflet-container { font-size: 1rem; }\n",
       "            &lt;/style&gt;\n",
       "        \n",
       "    &lt;script src=&quot;https://cdnjs.cloudflare.com/ajax/libs/d3/3.5.5/d3.min.js&quot;&gt;&lt;/script&gt;\n",
       "&lt;/head&gt;\n",
       "&lt;body&gt;\n",
       "    \n",
       "    \n",
       "            &lt;div class=&quot;folium-map&quot; id=&quot;map_2e292fc3174882928dbac75a0461fa3a&quot; &gt;&lt;/div&gt;\n",
       "        \n",
       "&lt;/body&gt;\n",
       "&lt;script&gt;\n",
       "    \n",
       "    \n",
       "            var map_2e292fc3174882928dbac75a0461fa3a = L.map(\n",
       "                &quot;map_2e292fc3174882928dbac75a0461fa3a&quot;,\n",
       "                {\n",
       "                    center: [51.45054119578201, -0.9643232313363195],\n",
       "                    crs: L.CRS.EPSG3857,\n",
       "                    zoom: 12.5,\n",
       "                    zoomControl: true,\n",
       "                    preferCanvas: false,\n",
       "                }\n",
       "            );\n",
       "\n",
       "            \n",
       "\n",
       "        \n",
       "    \n",
       "            var tile_layer_c57711f0cbca81fcb21e69d206c28479 = L.tileLayer(\n",
       "                &quot;https://cartodb-basemaps-{s}.global.ssl.fastly.net/light_all/{z}/{x}/{y}.png&quot;,\n",
       "                {&quot;attribution&quot;: &quot;\\u0026copy; \\u003ca target=\\&quot;_blank\\&quot; href=\\&quot;http://www.openstreetmap.org/copyright\\&quot;\\u003eOpenStreetMap\\u003c/a\\u003e contributors \\u0026copy; \\u003ca target=\\&quot;_blank\\&quot; href=\\&quot;http://cartodb.com/attributions\\&quot;\\u003eCartoDB\\u003c/a\\u003e, CartoDB \\u003ca target=\\&quot;_blank\\&quot; href =\\&quot;http://cartodb.com/attributions\\&quot;\\u003eattributions\\u003c/a\\u003e&quot;, &quot;detectRetina&quot;: false, &quot;maxNativeZoom&quot;: 18, &quot;maxZoom&quot;: 18, &quot;minZoom&quot;: 0, &quot;noWrap&quot;: false, &quot;opacity&quot;: 1, &quot;subdomains&quot;: &quot;abc&quot;, &quot;tms&quot;: false}\n",
       "            ).addTo(map_2e292fc3174882928dbac75a0461fa3a);\n",
       "        \n",
       "    \n",
       "        function geo_json_5bf63954120d0cf4e0426c10fcd95ffc_styler(feature) {\n",
       "            switch(feature.id) {\n",
       "                case &quot;88195d2b1dfffff&quot;: \n",
       "                    return {&quot;color&quot;: &quot;grey&quot;, &quot;fillColor&quot;: &quot;#37bdb5ff&quot;, &quot;fillOpacity&quot;: 0.8, &quot;weight&quot;: 0.5};\n",
       "                case &quot;88195d2b1bfffff&quot;: \n",
       "                    return {&quot;color&quot;: &quot;grey&quot;, &quot;fillColor&quot;: &quot;#90d9d0ff&quot;, &quot;fillOpacity&quot;: 0.8, &quot;weight&quot;: 0.5};\n",
       "                case &quot;88195d2b15fffff&quot;: \n",
       "                    return {&quot;color&quot;: &quot;grey&quot;, &quot;fillColor&quot;: &quot;#9eddd4ff&quot;, &quot;fillOpacity&quot;: 0.8, &quot;weight&quot;: 0.5};\n",
       "                case &quot;88195d2b11fffff&quot;: \n",
       "                    return {&quot;color&quot;: &quot;grey&quot;, &quot;fillColor&quot;: &quot;#a7e0d6ff&quot;, &quot;fillOpacity&quot;: 0.8, &quot;weight&quot;: 0.5};\n",
       "                case &quot;88195d2b19fffff&quot;: \n",
       "                    return {&quot;color&quot;: &quot;grey&quot;, &quot;fillColor&quot;: &quot;#ade2d8ff&quot;, &quot;fillOpacity&quot;: 0.8, &quot;weight&quot;: 0.5};\n",
       "                case &quot;88195d284dfffff&quot;: \n",
       "                    return {&quot;color&quot;: &quot;grey&quot;, &quot;fillColor&quot;: &quot;#afe2d9ff&quot;, &quot;fillOpacity&quot;: 0.8, &quot;weight&quot;: 0.5};\n",
       "                case &quot;88195d2a27fffff&quot;: \n",
       "                    return {&quot;color&quot;: &quot;grey&quot;, &quot;fillColor&quot;: &quot;#d1ede3ff&quot;, &quot;fillOpacity&quot;: 0.8, &quot;weight&quot;: 0.5};\n",
       "                case &quot;88195d2b0bfffff&quot;: \n",
       "                    return {&quot;color&quot;: &quot;grey&quot;, &quot;fillColor&quot;: &quot;#d7efe4ff&quot;, &quot;fillOpacity&quot;: 0.8, &quot;weight&quot;: 0.5};\n",
       "                case &quot;88195d2a25fffff&quot;: \n",
       "                    return {&quot;color&quot;: &quot;grey&quot;, &quot;fillColor&quot;: &quot;#d8efe5ff&quot;, &quot;fillOpacity&quot;: 0.8, &quot;weight&quot;: 0.5};\n",
       "                case &quot;88195d2b13fffff&quot;: \n",
       "                    return {&quot;color&quot;: &quot;grey&quot;, &quot;fillColor&quot;: &quot;#daf0e5ff&quot;, &quot;fillOpacity&quot;: 0.8, &quot;weight&quot;: 0.5};\n",
       "                case &quot;88195d2b03fffff&quot;: \n",
       "                    return {&quot;color&quot;: &quot;grey&quot;, &quot;fillColor&quot;: &quot;#e7f4e9ff&quot;, &quot;fillOpacity&quot;: 0.8, &quot;weight&quot;: 0.5};\n",
       "                case &quot;88195d2b17fffff&quot;: \n",
       "                    return {&quot;color&quot;: &quot;grey&quot;, &quot;fillColor&quot;: &quot;#eef6ebff&quot;, &quot;fillOpacity&quot;: 0.8, &quot;weight&quot;: 0.5};\n",
       "                case &quot;88195d2b39fffff&quot;: \n",
       "                    return {&quot;color&quot;: &quot;grey&quot;, &quot;fillColor&quot;: &quot;#f1f7ecff&quot;, &quot;fillOpacity&quot;: 0.8, &quot;weight&quot;: 0.5};\n",
       "                case &quot;88195d2861fffff&quot;: \n",
       "                    return {&quot;color&quot;: &quot;grey&quot;, &quot;fillColor&quot;: &quot;#f2f7ecff&quot;, &quot;fillOpacity&quot;: 0.8, &quot;weight&quot;: 0.5};\n",
       "                case &quot;88195d2a21fffff&quot;: \n",
       "                    return {&quot;color&quot;: &quot;grey&quot;, &quot;fillColor&quot;: &quot;#f5f8edff&quot;, &quot;fillOpacity&quot;: 0.8, &quot;weight&quot;: 0.5};\n",
       "                case &quot;88195d2b3dfffff&quot;: \n",
       "                    return {&quot;color&quot;: &quot;grey&quot;, &quot;fillColor&quot;: &quot;#f6f8eeff&quot;, &quot;fillOpacity&quot;: 0.8, &quot;weight&quot;: 0.5};\n",
       "                case &quot;88195d2b31fffff&quot;: \n",
       "                    return {&quot;color&quot;: &quot;grey&quot;, &quot;fillColor&quot;: &quot;#f7f9eeff&quot;, &quot;fillOpacity&quot;: 0.8, &quot;weight&quot;: 0.5};\n",
       "                case &quot;88195d2869fffff&quot;: \n",
       "                    return {&quot;color&quot;: &quot;grey&quot;, &quot;fillColor&quot;: &quot;#fafaefff&quot;, &quot;fillOpacity&quot;: 0.8, &quot;weight&quot;: 0.5};\n",
       "                case &quot;88195d2b3bfffff&quot;: \n",
       "                    return {&quot;color&quot;: &quot;grey&quot;, &quot;fillColor&quot;: &quot;#fbfaefff&quot;, &quot;fillOpacity&quot;: 0.8, &quot;weight&quot;: 0.5};\n",
       "                case &quot;88195d2b51fffff&quot;: \n",
       "                    return {&quot;color&quot;: &quot;grey&quot;, &quot;fillColor&quot;: &quot;#fefbf0ff&quot;, &quot;fillOpacity&quot;: 0.8, &quot;weight&quot;: 0.5};\n",
       "                default:\n",
       "                    return {&quot;color&quot;: &quot;grey&quot;, &quot;fillColor&quot;: &quot;#fffbf0ff&quot;, &quot;fillOpacity&quot;: 0.8, &quot;weight&quot;: 0.5};\n",
       "            }\n",
       "        }\n",
       "\n",
       "        function geo_json_5bf63954120d0cf4e0426c10fcd95ffc_onEachFeature(feature, layer) {\n",
       "            layer.on({\n",
       "            });\n",
       "        };\n",
       "        var geo_json_5bf63954120d0cf4e0426c10fcd95ffc = L.geoJson(null, {\n",
       "                onEachFeature: geo_json_5bf63954120d0cf4e0426c10fcd95ffc_onEachFeature,\n",
       "            \n",
       "                style: geo_json_5bf63954120d0cf4e0426c10fcd95ffc_styler,\n",
       "        });\n",
       "\n",
       "        function geo_json_5bf63954120d0cf4e0426c10fcd95ffc_add (data) {\n",
       "            geo_json_5bf63954120d0cf4e0426c10fcd95ffc\n",
       "                .addData(data)\n",
       "                .addTo(map_2e292fc3174882928dbac75a0461fa3a);\n",
       "        }\n",
       "            geo_json_5bf63954120d0cf4e0426c10fcd95ffc_add({&quot;features&quot;: [{&quot;geometry&quot;: {&quot;coordinates&quot;: [[[-0.9674195894273825, 51.46233424112636], [-0.9741522492296825, 51.46108611918584], [-0.9753174349705782, 51.45658471409391], [-0.9697507654750529, 51.4533316919224], [-0.9630191652468901, 51.454579842735626], [-0.9618531750496696, 51.459080986831154], [-0.9674195894273825, 51.46233424112636]]], &quot;type&quot;: &quot;Polygon&quot;}, &quot;id&quot;: &quot;88195d2b1dfffff&quot;, &quot;properties&quot;: {}, &quot;type&quot;: &quot;Feature&quot;}, {&quot;geometry&quot;: {&quot;coordinates&quot;: [[[-0.9507230105639873, 51.45257385379414], [-0.957453955291134, 51.451326392230655], [-0.9586200902493034, 51.4468250230316], [-0.9530560843042358, 51.44357137656247], [-0.9463261989134449, 51.44481886728639], [-0.945159260240901, 51.449319975302565], [-0.9507230105639873, 51.45257385379414]]], &quot;type&quot;: &quot;Polygon&quot;}, &quot;id&quot;: &quot;88195d2b1bfffff&quot;, &quot;properties&quot;: {}, &quot;type&quot;: &quot;Feature&quot;}, {&quot;geometry&quot;: {&quot;coordinates&quot;: [[[-0.9753174349705782, 51.45658471409391], [-0.9820496902053623, 51.4553358737925], [-0.9832142165311876, 51.450833982552886], [-0.9776472922484972, 51.44758119256423], [-0.9709160963176241, 51.44883006164886], [-0.9697507654750529, 51.4533316919224], [-0.9753174349705782, 51.45658471409391]]], &quot;type&quot;: &quot;Polygon&quot;}, &quot;id&quot;: &quot;88195d2b15fffff&quot;, &quot;properties&quot;: {}, &quot;type&quot;: &quot;Feature&quot;}, {&quot;geometry&quot;: {&quot;coordinates&quot;: [[[-0.9630191652468901, 51.454579842735626], [-0.9697507654750529, 51.4533316919224], [-0.9709160963176241, 51.44883006164886], [-0.9653506311571627, 51.44557684324654], [-0.9586200902493034, 51.4468250230316], [-0.957453955291134, 51.451326392230655], [-0.9630191652468901, 51.454579842735626]]], &quot;type&quot;: &quot;Polygon&quot;}, &quot;id&quot;: &quot;88195d2b11fffff&quot;, &quot;properties&quot;: {}, &quot;type&quot;: &quot;Feature&quot;}, {&quot;geometry&quot;: {&quot;coordinates&quot;: [[[-0.9551211707321967, 51.46032841933335], [-0.9618531750496696, 51.459080986831154], [-0.9630191652468901, 51.454579842735626], [-0.957453955291134, 51.451326392230655], [-0.9507230105639873, 51.45257385379414], [-0.9495562163118216, 51.457074736784854], [-0.9551211707321967, 51.46032841933335]]], &quot;type&quot;: &quot;Polygon&quot;}, &quot;id&quot;: &quot;88195d2b19fffff&quot;, &quot;properties&quot;: {}, &quot;type&quot;: &quot;Feature&quot;}, {&quot;geometry&quot;: {&quot;coordinates&quot;: [[[-0.9463261989134449, 51.44481886728639], [-0.9530560843042358, 51.44357137656247], [-0.9542223638660726, 51.43906978240646], [-0.9486595615205721, 51.43581594021884], [-0.941930735212211, 51.43706346020219], [-0.9407636522764081, 51.4415647930973], [-0.9463261989134449, 51.44481886728639]]], &quot;type&quot;: &quot;Polygon&quot;}, &quot;id&quot;: &quot;88195d284dfffff&quot;, &quot;properties&quot;: {}, &quot;type&quot;: &quot;Feature&quot;}, {&quot;geometry&quot;: {&quot;coordinates&quot;: [[[-0.9384289715086821, 51.4505667478549], [-0.945159260240901, 51.449319975302565], [-0.9463261989134449, 51.44481886728639], [-0.9407636522764081, 51.4415647930973], [-0.9340344228962505, 51.44281159499859], [-0.9328666809106131, 51.44731244172359], [-0.9384289715086821, 51.4505667478549]]], &quot;type&quot;: &quot;Polygon&quot;}, &quot;id&quot;: &quot;88195d2a27fffff&quot;, &quot;properties&quot;: {}, &quot;type&quot;: &quot;Feature&quot;}, {&quot;geometry&quot;: {&quot;coordinates&quot;: [[[-0.9718213633595971, 51.470088217811636], [-0.9785550829899539, 51.4688401246446], [-0.9797201234716127, 51.4643389448808], [-0.9741522492296825, 51.46108611918584], [-0.9674195894273825, 51.46233424112636], [-0.9662537441485451, 51.46683515997185], [-0.9718213633595971, 51.470088217811636]]], &quot;type&quot;: &quot;Polygon&quot;}, &quot;id&quot;: &quot;88195d2b0bfffff&quot;, &quot;properties&quot;: {}, &quot;type&quot;: &quot;Feature&quot;}, {&quot;geometry&quot;: {&quot;coordinates&quot;: [[[-0.9428248679734373, 51.45832148008727], [-0.9495562163118216, 51.457074736784854], [-0.9507230105639873, 51.45257385379414], [-0.945159260240901, 51.449319975302565], [-0.9384289715086821, 51.4505667478549], [-0.9372613736029796, 51.45506736963244], [-0.9428248679734373, 51.45832148008727]]], &quot;type&quot;: &quot;Polygon&quot;}, &quot;id&quot;: &quot;88195d2a25fffff&quot;, &quot;properties&quot;: {}, &quot;type&quot;: &quot;Feature&quot;}, {&quot;geometry&quot;: {&quot;coordinates&quot;: [[[-0.9586200902493034, 51.4468250230316], [-0.9653506311571627, 51.44557684324654], [-0.9665161069439623, 51.44107498793794], [-0.9609518457074303, 51.4378215735505], [-0.9542223638660726, 51.43906978240646], [-0.9530560843042358, 51.44357137656247], [-0.9586200902493034, 51.4468250230316]]], &quot;type&quot;: &quot;Polygon&quot;}, &quot;id&quot;: &quot;88195d2b13fffff&quot;, &quot;properties&quot;: {}, &quot;type&quot;: &quot;Feature&quot;}, {&quot;geometry&quot;: {&quot;coordinates&quot;: [[[-0.9797201234716127, 51.4643389448808], [-0.9864534382640078, 51.46309013326342], [-0.98761781914732, 51.45858846728357], [-0.9820496902053623, 51.4553358737925], [-0.9753174349705782, 51.45658471409391], [-0.9741522492296825, 51.46108611918584], [-0.9797201234716127, 51.4643389448808]]], &quot;type&quot;: &quot;Polygon&quot;}, &quot;id&quot;: &quot;88195d2b03fffff&quot;, &quot;properties&quot;: {}, &quot;type&quot;: &quot;Feature&quot;}, {&quot;geometry&quot;: {&quot;coordinates&quot;: [[[-0.9709160963176241, 51.44883006164886], [-0.9776472922484972, 51.44758119256423], [-0.978811963859217, 51.44307907621147], [-0.9732462438246055, 51.439826089970985], [-0.9665161069439623, 51.44107498793794], [-0.9653506311571627, 51.44557684324654], [-0.9709160963176241, 51.44883006164886]]], &quot;type&quot;: &quot;Polygon&quot;}, &quot;id&quot;: &quot;88195d2b17fffff&quot;, &quot;properties&quot;: {}, &quot;type&quot;: &quot;Feature&quot;}, {&quot;geometry&quot;: {&quot;coordinates&quot;: [[[-0.98761781914732, 51.45858846728357], [-0.9943507288938785, 51.45733893725557], [-0.9955144503018267, 51.452836785158475], [-0.9899460669905841, 51.44958442393033], [-0.9832142165311876, 51.450833982552886], [-0.9820496902053623, 51.4553358737925], [-0.98761781914732, 51.45858846728357]]], &quot;type&quot;: &quot;Polygon&quot;}, &quot;id&quot;: &quot;88195d2b39fffff&quot;, &quot;properties&quot;: {}, &quot;type&quot;: &quot;Feature&quot;}, {&quot;geometry&quot;: {&quot;coordinates&quot;: [[[-0.9744110605626837, 51.43532374865167], [-0.9811407932083569, 51.434074132542555], [-0.9823049510204259, 51.42957130531146], [-0.976740180192182, 51.42631835526492], [-0.9700115060731906, 51.427568000265914], [-0.9688465443651438, 51.432070566405095], [-0.9744110605626837, 51.43532374865167]]], &quot;type&quot;: &quot;Polygon&quot;}, &quot;id&quot;: &quot;88195d2861fffff&quot;, &quot;properties&quot;: {}, &quot;type&quot;: &quot;Feature&quot;}, {&quot;geometry&quot;: {&quot;coordinates&quot;: [[[-0.9305306817374712, 51.456313423973754], [-0.9372613736029796, 51.45506736963244], [-0.9384289715086821, 51.4505667478549], [-0.9328666809106131, 51.44731244172359], [-0.9261370486667562, 51.44855852550339], [-0.924968647508941, 51.45305888595956], [-0.9305306817374712, 51.456313423973754]]], &quot;type&quot;: &quot;Polygon&quot;}, &quot;id&quot;: &quot;88195d2a21fffff&quot;, &quot;properties&quot;: {}, &quot;type&quot;: &quot;Feature&quot;}, {&quot;geometry&quot;: {&quot;coordinates&quot;: [[[-0.9999203171883535, 51.46059110171932], [-1.0066538809513756, 51.459340881726426], [-1.007816797040404, 51.45483846888045], [-1.002246954794795, 51.451586536759706], [-0.9955144503018267, 51.452836785158475], [-0.9943507288938785, 51.45733893725557], [-0.9999203171883535, 51.46059110171932]]], &quot;type&quot;: &quot;Polygon&quot;}, &quot;id&quot;: &quot;88195d2b3dfffff&quot;, &quot;properties&quot;: {}, &quot;type&quot;: &quot;Feature&quot;}, {&quot;geometry&quot;: {&quot;coordinates&quot;: [[[-0.9955144503018267, 51.452836785158475], [-1.002246954794795, 51.451586536759706], [-1.0034100168504345, 51.447083898644216], [-0.9978413795005481, 51.44383176973803], [-0.9911099340242325, 51.445082046641915], [-0.9899460669905841, 51.44958442393033], [-0.9955144503018267, 51.452836785158475]]], &quot;type&quot;: &quot;Polygon&quot;}, &quot;id&quot;: &quot;88195d2b31fffff&quot;, &quot;properties&quot;: {}, &quot;type&quot;: &quot;Feature&quot;}, {&quot;geometry&quot;: {&quot;coordinates&quot;: [[[-0.9665161069439623, 51.44107498793794], [-0.9732462438246055, 51.439826089970985], [-0.9744110605626837, 51.43532374865167], [-0.9688465443651438, 51.432070566405095], [-0.9621174662810845, 51.43331949335346], [-0.9609518457074303, 51.4378215735505], [-0.9665161069439623, 51.44107498793794]]], &quot;type&quot;: &quot;Polygon&quot;}, &quot;id&quot;: &quot;88195d2869fffff&quot;, &quot;properties&quot;: {}, &quot;type&quot;: &quot;Feature&quot;}, {&quot;geometry&quot;: {&quot;coordinates&quot;: [[[-0.9832142165311876, 51.450833982552886], [-0.9899460669905841, 51.44958442393033], [-0.9911099340242325, 51.445082046641915], [-0.9855427552849925, 51.44182948889518], [-0.978811963859217, 51.44307907621147], [-0.9776472922484972, 51.44758119256423], [-0.9832142165311876, 51.450833982552886]]], &quot;type&quot;: &quot;Polygon&quot;}, &quot;id&quot;: &quot;88195d2b3bfffff&quot;, &quot;properties&quot;: {}, &quot;type&quot;: &quot;Feature&quot;}, {&quot;geometry&quot;: {&quot;coordinates&quot;: [[[-0.9516207067338788, 51.473829681112164], [-0.9583541750471255, 51.4725829960122], [-0.9595206799866929, 51.468082563511864], [-0.9539545210576592, 51.46482907715207], [-0.9472221128589419, 51.46607579130368], [-0.9460548035843688, 51.470575962746985], [-0.9516207067338788, 51.473829681112164]]], &quot;type&quot;: &quot;Polygon&quot;}, &quot;id&quot;: &quot;88195d2b51fffff&quot;, &quot;properties&quot;: {}, &quot;type&quot;: &quot;Feature&quot;}, {&quot;geometry&quot;: {&quot;coordinates&quot;: [[[-0.9595206799866929, 51.468082563511864], [-0.9662537441485451, 51.46683515997185], [-0.9674195894273825, 51.46233424112636], [-0.9618531750496696, 51.459080986831154], [-0.9551211707321967, 51.46032841933335], [-0.9539545210576592, 51.46482907715207], [-0.9595206799866929, 51.468082563511864]]], &quot;type&quot;: &quot;Polygon&quot;}, &quot;id&quot;: &quot;88195d2b57fffff&quot;, &quot;properties&quot;: {}, &quot;type&quot;: &quot;Feature&quot;}, {&quot;geometry&quot;: {&quot;coordinates&quot;: [[[-0.9261370486667562, 51.44855852550339], [-0.9328666809106131, 51.44731244172359], [-0.9340344228962505, 51.44281159499859], [-0.9284733356593977, 51.43955709343632], [-0.9217447627829642, 51.440803206753586], [-0.9205762178855526, 51.44530379207923], [-0.9261370486667562, 51.44855852550339]]], &quot;type&quot;: &quot;Polygon&quot;}, &quot;id&quot;: &quot;88195d2a23fffff&quot;, &quot;properties&quot;: {}, &quot;type&quot;: &quot;Feature&quot;}, {&quot;geometry&quot;: {&quot;coordinates&quot;: [[[-0.9639215388963942, 51.47583628593767], [-0.9706556631566758, 51.47458891126061], [-0.9718213633595971, 51.470088217811636], [-0.9662537441485451, 51.46683515997185], [-0.9595206799866929, 51.468082563511864], [-0.9583541750471255, 51.4725829960122], [-0.9639215388963942, 51.47583628593767]]], &quot;type&quot;: &quot;Polygon&quot;}, &quot;id&quot;: &quot;88195d2b55fffff&quot;, &quot;properties&quot;: {}, &quot;type&quot;: &quot;Feature&quot;}], &quot;type&quot;: &quot;FeatureCollection&quot;});\n",
       "\n",
       "        \n",
       "    \n",
       "    var color_map_db60680092a2f7afb5d21d77c1fde3ca = {};\n",
       "\n",
       "    \n",
       "    color_map_db60680092a2f7afb5d21d77c1fde3ca.color = d3.scale.threshold()\n",
       "              .domain([85.0, 87.82965931863727, 90.65931863727455, 93.48897795591182, 96.3186372745491, 99.14829659318637, 101.97795591182364, 104.80761523046093, 107.6372745490982, 110.46693386773546, 113.29659318637275, 116.12625250501002, 118.95591182364728, 121.78557114228457, 124.61523046092185, 127.44488977955912, 130.2745490981964, 133.10420841683367, 135.93386773547093, 138.7635270541082, 141.5931863727455, 144.42284569138278, 147.25250501002003, 150.0821643286573, 152.91182364729457, 155.74148296593188, 158.57114228456913, 161.40080160320642, 164.2304609218437, 167.06012024048096, 169.88977955911824, 172.71943887775552, 175.54909819639278, 178.37875751503006, 181.20841683366734, 184.0380761523046, 186.86773547094188, 189.69739478957916, 192.52705410821642, 195.3567134268537, 198.18637274549098, 201.01603206412824, 203.84569138276555, 206.6753507014028, 209.50501002004006, 212.33466933867737, 215.16432865731463, 217.9939879759519, 220.82364729458916, 223.65330661322645, 226.48296593186373, 229.31262525050101, 232.14228456913827, 234.97194388777555, 237.80160320641284, 240.6312625250501, 243.46092184368737, 246.29058116232466, 249.1202404809619, 251.9498997995992, 254.77955911823648, 257.6092184368738, 260.43887775551104, 263.2685370741483, 266.09819639278555, 268.9278557114228, 271.7575150300601, 274.58717434869743, 277.4168336673347, 280.24649298597194, 283.0761523046092, 285.9058116232465, 288.73547094188376, 291.5651302605211, 294.3947895791583, 297.2244488977956, 300.05410821643284, 302.88376753507015, 305.7134268537074, 308.5430861723447, 311.37274549098197, 314.2024048096192, 317.0320641282565, 319.8617234468938, 322.6913827655311, 325.52104208416836, 328.3507014028056, 331.18036072144287, 334.0100200400801, 336.83967935871743, 339.66933867735474, 342.498997995992, 345.32865731462925, 348.1583166332665, 350.9879759519038, 353.8176352705411, 356.64729458917833, 359.47695390781564, 362.3066132264529, 365.1362725450902, 367.96593186372746, 370.7955911823647, 373.62525050100203, 376.4549098196393, 379.28456913827654, 382.11422845691385, 384.9438877755511, 387.77354709418836, 390.60320641282567, 393.4328657314629, 396.2625250501002, 399.0921843687375, 401.92184368737475, 404.751503006012, 407.5811623246493, 410.41082164328657, 413.2404809619238, 416.07014028056113, 418.8997995991984, 421.72945891783564, 424.55911823647295, 427.3887775551102, 430.2184368737475, 433.0480961923848, 435.87775551102203, 438.70741482965934, 441.5370741482966, 444.36673346693385, 447.19639278557116, 450.0260521042084, 452.8557114228457, 455.685370741483, 458.51503006012024, 461.3446893787575, 464.1743486973948, 467.00400801603206, 469.8336673346693, 472.6633266533066, 475.4929859719439, 478.32264529058114, 481.15230460921845, 483.9819639278557, 486.811623246493, 489.64128256513027, 492.4709418837675, 495.30060120240483, 498.1302605210421, 500.95991983967934, 503.78957915831666, 506.6192384769539, 509.44889779559117, 512.2785571142285, 515.1082164328657, 517.937875751503, 520.7675350701403, 523.5971943887776, 526.4268537074148, 529.2565130260521, 532.0861723446894, 534.9158316633266, 537.7454909819639, 540.5751503006012, 543.4048096192384, 546.2344689378758, 549.064128256513, 551.8937875751503, 554.7234468937876, 557.5531062124248, 560.3827655310622, 563.2124248496993, 566.0420841683367, 568.871743486974, 571.7014028056112, 574.5310621242485, 577.3607214428857, 580.1903807615231, 583.0200400801602, 585.8496993987976, 588.6793587174349, 591.5090180360721, 594.3386773547095, 597.1683366733467, 599.997995991984, 602.8276553106213, 605.6573146292585, 608.4869739478958, 611.316633266533, 614.1462925851704, 616.9759519038076, 619.8056112224449, 622.6352705410821, 625.4649298597194, 628.2945891783567, 631.124248496994, 633.9539078156313, 636.7835671342685, 639.6132264529058, 642.442885771543, 645.2725450901804, 648.1022044088177, 650.9318637274549, 653.7615230460922, 656.5911823647294, 659.4208416833667, 662.2505010020041, 665.0801603206413, 667.9098196392786, 670.7394789579158, 673.5691382765531, 676.3987975951903, 679.2284569138277, 682.058116232465, 684.8877755511022, 687.7174348697395, 690.5470941883767, 693.376753507014, 696.2064128256513, 699.0360721442886, 701.8657314629259, 704.6953907815631, 707.5250501002004, 710.3547094188377, 713.184368737475, 716.0140280561122, 718.8436873747495, 721.6733466933867, 724.503006012024, 727.3326653306614, 730.1623246492986, 732.9919839679359, 735.8216432865731, 738.6513026052104, 741.4809619238476, 744.310621242485, 747.1402805611223, 749.9699398797595, 752.7995991983968, 755.629258517034, 758.4589178356713, 761.2885771543087, 764.1182364729459, 766.9478957915832, 769.7775551102204, 772.6072144288577, 775.436873747495, 778.2665330661323, 781.0961923847696, 783.9258517034068, 786.7555110220441, 789.5851703406813, 792.4148296593187, 795.2444889779559, 798.0741482965932, 800.9038076152304, 803.7334669338677, 806.563126252505, 809.3927855711423, 812.2224448897796, 815.0521042084168, 817.8817635270541, 820.7114228456913, 823.5410821643287, 826.370741482966, 829.2004008016032, 832.0300601202405, 834.8597194388777, 837.689378757515, 840.5190380761524, 843.3486973947896, 846.1783567134269, 849.0080160320641, 851.8376753507014, 854.6673346693386, 857.496993987976, 860.3266533066133, 863.1563126252505, 865.9859719438878, 868.815631262525, 871.6452905811623, 874.4749498997996, 877.3046092184369, 880.1342685370741, 882.9639278557114, 885.7935871743487, 888.623246492986, 891.4529058116233, 894.2825651302605, 897.1122244488978, 899.941883767535, 902.7715430861723, 905.6012024048097, 908.4308617234469, 911.2605210420842, 914.0901803607214, 916.9198396793587, 919.7494989979959, 922.5791583166333, 925.4088176352706, 928.2384769539078, 931.0681362725451, 933.8977955911823, 936.7274549098196, 939.557114228457, 942.3867735470942, 945.2164328657315, 948.0460921843687, 950.875751503006, 953.7054108216433, 956.5350701402806, 959.3647294589179, 962.1943887775551, 965.0240480961924, 967.8537074148296, 970.683366733467, 973.5130260521042, 976.3426853707415, 979.1723446893787, 982.002004008016, 984.8316633266533, 987.6613226452906, 990.4909819639279, 993.3206412825651, 996.1503006012024, 998.9799599198396, 1001.8096192384769, 1004.6392785571143, 1007.4689378757515, 1010.2985971943888, 1013.128256513026, 1015.9579158316633, 1018.7875751503007, 1021.6172344689379, 1024.4468937875752, 1027.2765531062123, 1030.1062124248497, 1032.935871743487, 1035.7655310621244, 1038.5951903807616, 1041.4248496993987, 1044.254509018036, 1047.0841683366734, 1049.9138276553106, 1052.743486973948, 1055.573146292585, 1058.4028056112224, 1061.2324649298598, 1064.062124248497, 1066.891783567134, 1069.7214428857715, 1072.5511022044088, 1075.3807615230462, 1078.2104208416833, 1081.0400801603205, 1083.8697394789579, 1086.6993987975952, 1089.5290581162326, 1092.3587174348697, 1095.1883767535069, 1098.0180360721442, 1100.8476953907816, 1103.677354709419, 1106.5070140280561, 1109.3366733466935, 1112.1663326653306, 1114.995991983968, 1117.8256513026051, 1120.6553106212425, 1123.4849699398796, 1126.314629258517, 1129.1442885771544, 1131.9739478957915, 1134.803607214429, 1137.633266533066, 1140.4629258517034, 1143.2925851703408, 1146.122244488978, 1148.9519038076153, 1151.7815631262524, 1154.6112224448898, 1157.4408817635272, 1160.2705410821643, 1163.1002004008017, 1165.9298597194388, 1168.7595190380762, 1171.5891783567133, 1174.4188376753507, 1177.248496993988, 1180.0781563126252, 1182.9078156312626, 1185.7374749498997, 1188.567134268537, 1191.3967935871744, 1194.2264529058116, 1197.056112224449, 1199.885771543086, 1202.7154308617235, 1205.5450901803608, 1208.374749498998, 1211.2044088176353, 1214.0340681362725, 1216.8637274549098, 1219.693386773547, 1222.5230460921844, 1225.3527054108217, 1228.1823647294589, 1231.0120240480962, 1233.8416833667334, 1236.6713426853707, 1239.5010020040081, 1242.3306613226453, 1245.1603206412826, 1247.9899799599198, 1250.8196392785571, 1253.6492985971945, 1256.4789579158316, 1259.308617234469, 1262.1382765531062, 1264.9679358717435, 1267.7975951903807, 1270.627254509018, 1273.4569138276554, 1276.2865731462925, 1279.11623246493, 1281.945891783567, 1284.7755511022044, 1287.6052104208418, 1290.434869739479, 1293.2645290581163, 1296.0941883767534, 1298.9238476953908, 1301.753507014028, 1304.5831663326653, 1307.4128256513027, 1310.2424849699398, 1313.0721442885772, 1315.9018036072143, 1318.7314629258517, 1321.561122244489, 1324.3907815631262, 1327.2204408817636, 1330.0501002004007, 1332.879759519038, 1335.7094188376755, 1338.5390781563126, 1341.36873747495, 1344.198396793587, 1347.0280561122245, 1349.8577154308616, 1352.687374749499, 1355.5170340681364, 1358.3466933867735, 1361.1763527054109, 1364.006012024048, 1366.8356713426854, 1369.6653306613227, 1372.4949899799599, 1375.3246492985973, 1378.1543086172344, 1380.9839679358718, 1383.8136272545091, 1386.6432865731463, 1389.4729458917836, 1392.3026052104208, 1395.1322645290581, 1397.9619238476953, 1400.7915831663327, 1403.62124248497, 1406.4509018036072, 1409.2805611222445, 1412.1102204408817, 1414.939879759519, 1417.7695390781564, 1420.5991983967936, 1423.428857715431, 1426.258517034068, 1429.0881763527054, 1431.9178356713426, 1434.74749498998, 1437.5771543086173, 1440.4068136272545, 1443.2364729458918, 1446.066132264529, 1448.8957915831663, 1451.7254509018037, 1454.5551102204408, 1457.3847695390782, 1460.2144288577153, 1463.0440881763527, 1465.87374749499, 1468.7034068136272, 1471.5330661322646, 1474.3627254509017, 1477.192384769539, 1480.0220440881762, 1482.8517034068136, 1485.681362725451, 1488.5110220440881, 1491.3406813627255, 1494.1703406813626, 1497.0])\n",
       "              .range([&#x27;#fffbf0ff&#x27;, &#x27;#fffbf0ff&#x27;, &#x27;#fffbf0ff&#x27;, &#x27;#fefbf0ff&#x27;, &#x27;#fefbf0ff&#x27;, &#x27;#fdfbf0ff&#x27;, &#x27;#fdfbf0ff&#x27;, &#x27;#fdfbf0ff&#x27;, &#x27;#fcfaefff&#x27;, &#x27;#fcfaefff&#x27;, &#x27;#fbfaefff&#x27;, &#x27;#fbfaefff&#x27;, &#x27;#fbfaefff&#x27;, &#x27;#fafaefff&#x27;, &#x27;#fafaefff&#x27;, &#x27;#f9faefff&#x27;, &#x27;#f9f9efff&#x27;, &#x27;#f9f9eeff&#x27;, &#x27;#f8f9eeff&#x27;, &#x27;#f8f9eeff&#x27;, &#x27;#f7f9eeff&#x27;, &#x27;#f7f9eeff&#x27;, &#x27;#f7f9eeff&#x27;, &#x27;#f6f9eeff&#x27;, &#x27;#f6f8eeff&#x27;, &#x27;#f5f8edff&#x27;, &#x27;#f5f8edff&#x27;, &#x27;#f5f8edff&#x27;, &#x27;#f4f8edff&#x27;, &#x27;#f4f8edff&#x27;, &#x27;#f3f8edff&#x27;, &#x27;#f3f8edff&#x27;, &#x27;#f3f7edff&#x27;, &#x27;#f2f7edff&#x27;, &#x27;#f2f7ecff&#x27;, &#x27;#f1f7ecff&#x27;, &#x27;#f1f7ecff&#x27;, &#x27;#f1f7ecff&#x27;, &#x27;#f0f7ecff&#x27;, &#x27;#f0f7ecff&#x27;, &#x27;#eff6ecff&#x27;, &#x27;#eff6ecff&#x27;, &#x27;#eff6ebff&#x27;, &#x27;#eef6ebff&#x27;, &#x27;#eef6ebff&#x27;, &#x27;#edf6ebff&#x27;, &#x27;#edf6ebff&#x27;, &#x27;#edf6ebff&#x27;, &#x27;#ecf5ebff&#x27;, &#x27;#ecf5ebff&#x27;, &#x27;#ebf5ebff&#x27;, &#x27;#ebf5eaff&#x27;, &#x27;#ebf5eaff&#x27;, &#x27;#eaf5eaff&#x27;, &#x27;#eaf5eaff&#x27;, &#x27;#e9f5eaff&#x27;, &#x27;#e9f4eaff&#x27;, &#x27;#e9f4eaff&#x27;, &#x27;#e8f4eaff&#x27;, &#x27;#e8f4e9ff&#x27;, &#x27;#e7f4e9ff&#x27;, &#x27;#e7f4e9ff&#x27;, &#x27;#e7f4e9ff&#x27;, &#x27;#e6f4e9ff&#x27;, &#x27;#e6f4e9ff&#x27;, &#x27;#e5f3e9ff&#x27;, &#x27;#e5f3e9ff&#x27;, &#x27;#e5f3e8ff&#x27;, &#x27;#e4f3e8ff&#x27;, &#x27;#e4f3e8ff&#x27;, &#x27;#e3f3e8ff&#x27;, &#x27;#e3f3e8ff&#x27;, &#x27;#e3f3e8ff&#x27;, &#x27;#e2f2e8ff&#x27;, &#x27;#e2f2e8ff&#x27;, &#x27;#e1f2e8ff&#x27;, &#x27;#e1f2e7ff&#x27;, &#x27;#e1f2e7ff&#x27;, &#x27;#e0f2e7ff&#x27;, &#x27;#e0f2e7ff&#x27;, &#x27;#dff2e7ff&#x27;, &#x27;#dff1e7ff&#x27;, &#x27;#dff1e7ff&#x27;, &#x27;#def1e7ff&#x27;, &#x27;#def1e6ff&#x27;, &#x27;#ddf1e6ff&#x27;, &#x27;#ddf1e6ff&#x27;, &#x27;#dcf1e6ff&#x27;, &#x27;#dcf1e6ff&#x27;, &#x27;#dcf0e6ff&#x27;, &#x27;#dbf0e6ff&#x27;, &#x27;#dbf0e6ff&#x27;, &#x27;#daf0e6ff&#x27;, &#x27;#daf0e5ff&#x27;, &#x27;#daf0e5ff&#x27;, &#x27;#d9f0e5ff&#x27;, &#x27;#d9f0e5ff&#x27;, &#x27;#d8efe5ff&#x27;, &#x27;#d8efe5ff&#x27;, &#x27;#d8efe5ff&#x27;, &#x27;#d7efe5ff&#x27;, &#x27;#d7efe4ff&#x27;, &#x27;#d6efe4ff&#x27;, &#x27;#d6efe4ff&#x27;, &#x27;#d6efe4ff&#x27;, &#x27;#d5eee4ff&#x27;, &#x27;#d5eee4ff&#x27;, &#x27;#d4eee4ff&#x27;, &#x27;#d4eee4ff&#x27;, &#x27;#d4eee4ff&#x27;, &#x27;#d3eee3ff&#x27;, &#x27;#d3eee3ff&#x27;, &#x27;#d2eee3ff&#x27;, &#x27;#d2ede3ff&#x27;, &#x27;#d2ede3ff&#x27;, &#x27;#d1ede3ff&#x27;, &#x27;#d1ede3ff&#x27;, &#x27;#d0ede3ff&#x27;, &#x27;#d0ede2ff&#x27;, &#x27;#d0ede2ff&#x27;, &#x27;#cfede2ff&#x27;, &#x27;#cfece2ff&#x27;, &#x27;#ceece2ff&#x27;, &#x27;#ceece2ff&#x27;, &#x27;#ceece2ff&#x27;, &#x27;#cdece2ff&#x27;, &#x27;#cdece1ff&#x27;, &#x27;#ccece1ff&#x27;, &#x27;#ccece1ff&#x27;, &#x27;#ccebe1ff&#x27;, &#x27;#cbebe1ff&#x27;, &#x27;#cbebe1ff&#x27;, &#x27;#caebe1ff&#x27;, &#x27;#caebe1ff&#x27;, &#x27;#caebe1ff&#x27;, &#x27;#c9ebe0ff&#x27;, &#x27;#c9ebe0ff&#x27;, &#x27;#c8eae0ff&#x27;, &#x27;#c8eae0ff&#x27;, &#x27;#c8eae0ff&#x27;, &#x27;#c7eae0ff&#x27;, &#x27;#c7eae0ff&#x27;, &#x27;#c6eae0ff&#x27;, &#x27;#c6eadfff&#x27;, &#x27;#c6eadfff&#x27;, &#x27;#c5e9dfff&#x27;, &#x27;#c5e9dfff&#x27;, &#x27;#c4e9dfff&#x27;, &#x27;#c4e9dfff&#x27;, &#x27;#c4e9dfff&#x27;, &#x27;#c3e9dfff&#x27;, &#x27;#c3e9dfff&#x27;, &#x27;#c2e9deff&#x27;, &#x27;#c2e8deff&#x27;, &#x27;#c2e8deff&#x27;, &#x27;#c1e8deff&#x27;, &#x27;#c1e8deff&#x27;, &#x27;#c0e8deff&#x27;, &#x27;#c0e8deff&#x27;, &#x27;#c0e8deff&#x27;, &#x27;#bfe8ddff&#x27;, &#x27;#bfe7ddff&#x27;, &#x27;#bee7ddff&#x27;, &#x27;#bee7ddff&#x27;, &#x27;#bee7ddff&#x27;, &#x27;#bde7ddff&#x27;, &#x27;#bde7ddff&#x27;, &#x27;#bce7ddff&#x27;, &#x27;#bce7dcff&#x27;, &#x27;#bbe6dcff&#x27;, &#x27;#bbe6dcff&#x27;, &#x27;#bbe6dcff&#x27;, &#x27;#bae6dcff&#x27;, &#x27;#bae6dcff&#x27;, &#x27;#b9e6dcff&#x27;, &#x27;#b9e6dcff&#x27;, &#x27;#b9e6dcff&#x27;, &#x27;#b8e5dbff&#x27;, &#x27;#b8e5dbff&#x27;, &#x27;#b7e5dbff&#x27;, &#x27;#b7e5dbff&#x27;, &#x27;#b7e5dbff&#x27;, &#x27;#b6e5dbff&#x27;, &#x27;#b6e5dbff&#x27;, &#x27;#b5e5dbff&#x27;, &#x27;#b5e4daff&#x27;, &#x27;#b5e4daff&#x27;, &#x27;#b4e4daff&#x27;, &#x27;#b4e4daff&#x27;, &#x27;#b3e4daff&#x27;, &#x27;#b3e4daff&#x27;, &#x27;#b3e4daff&#x27;, &#x27;#b2e4daff&#x27;, &#x27;#b2e3daff&#x27;, &#x27;#b1e3d9ff&#x27;, &#x27;#b1e3d9ff&#x27;, &#x27;#b1e3d9ff&#x27;, &#x27;#b0e3d9ff&#x27;, &#x27;#b0e3d9ff&#x27;, &#x27;#afe3d9ff&#x27;, &#x27;#afe3d9ff&#x27;, &#x27;#afe2d9ff&#x27;, &#x27;#aee2d8ff&#x27;, &#x27;#aee2d8ff&#x27;, &#x27;#ade2d8ff&#x27;, &#x27;#ade2d8ff&#x27;, &#x27;#ade2d8ff&#x27;, &#x27;#ace2d8ff&#x27;, &#x27;#ace2d8ff&#x27;, &#x27;#abe1d8ff&#x27;, &#x27;#abe1d8ff&#x27;, &#x27;#abe1d7ff&#x27;, &#x27;#aae1d7ff&#x27;, &#x27;#aae1d7ff&#x27;, &#x27;#a9e1d7ff&#x27;, &#x27;#a9e1d7ff&#x27;, &#x27;#a9e1d7ff&#x27;, &#x27;#a8e0d7ff&#x27;, &#x27;#a8e0d7ff&#x27;, &#x27;#a7e0d6ff&#x27;, &#x27;#a7e0d6ff&#x27;, &#x27;#a7e0d6ff&#x27;, &#x27;#a6e0d6ff&#x27;, &#x27;#a6e0d6ff&#x27;, &#x27;#a5e0d6ff&#x27;, &#x27;#a5dfd6ff&#x27;, &#x27;#a5dfd6ff&#x27;, &#x27;#a4dfd5ff&#x27;, &#x27;#a4dfd5ff&#x27;, &#x27;#a3dfd5ff&#x27;, &#x27;#a3dfd5ff&#x27;, &#x27;#a3dfd5ff&#x27;, &#x27;#a2dfd5ff&#x27;, &#x27;#a2ded5ff&#x27;, &#x27;#a1ded5ff&#x27;, &#x27;#a1ded5ff&#x27;, &#x27;#a1ded4ff&#x27;, &#x27;#a0ded4ff&#x27;, &#x27;#a0ded4ff&#x27;, &#x27;#9fded4ff&#x27;, &#x27;#9fded4ff&#x27;, &#x27;#9fddd4ff&#x27;, &#x27;#9eddd4ff&#x27;, &#x27;#9eddd4ff&#x27;, &#x27;#9dddd3ff&#x27;, &#x27;#9dddd3ff&#x27;, &#x27;#9dddd3ff&#x27;, &#x27;#9cddd3ff&#x27;, &#x27;#9cddd3ff&#x27;, &#x27;#9bdcd3ff&#x27;, &#x27;#9bdcd3ff&#x27;, &#x27;#9bdcd3ff&#x27;, &#x27;#9adcd3ff&#x27;, &#x27;#9adcd2ff&#x27;, &#x27;#99dcd2ff&#x27;, &#x27;#99dcd2ff&#x27;, &#x27;#98dcd2ff&#x27;, &#x27;#98dbd2ff&#x27;, &#x27;#98dbd2ff&#x27;, &#x27;#97dbd2ff&#x27;, &#x27;#97dbd2ff&#x27;, &#x27;#96dbd1ff&#x27;, &#x27;#96dbd1ff&#x27;, &#x27;#96dbd1ff&#x27;, &#x27;#95dbd1ff&#x27;, &#x27;#95dad1ff&#x27;, &#x27;#94dad1ff&#x27;, &#x27;#94dad1ff&#x27;, &#x27;#94dad1ff&#x27;, &#x27;#93dad1ff&#x27;, &#x27;#93dad0ff&#x27;, &#x27;#92dad0ff&#x27;, &#x27;#92dad0ff&#x27;, &#x27;#92d9d0ff&#x27;, &#x27;#91d9d0ff&#x27;, &#x27;#91d9d0ff&#x27;, &#x27;#90d9d0ff&#x27;, &#x27;#90d9d0ff&#x27;, &#x27;#90d9cfff&#x27;, &#x27;#8fd9cfff&#x27;, &#x27;#8fd9cfff&#x27;, &#x27;#8ed8cfff&#x27;, &#x27;#8ed8cfff&#x27;, &#x27;#8ed8cfff&#x27;, &#x27;#8dd8cfff&#x27;, &#x27;#8dd8cfff&#x27;, &#x27;#8cd8ceff&#x27;, &#x27;#8cd8ceff&#x27;, &#x27;#8cd8ceff&#x27;, &#x27;#8bd7ceff&#x27;, &#x27;#8bd7ceff&#x27;, &#x27;#8ad7ceff&#x27;, &#x27;#8ad7ceff&#x27;, &#x27;#8ad7ceff&#x27;, &#x27;#89d7ceff&#x27;, &#x27;#89d7cdff&#x27;, &#x27;#88d7cdff&#x27;, &#x27;#88d6cdff&#x27;, &#x27;#88d6cdff&#x27;, &#x27;#87d6cdff&#x27;, &#x27;#87d6cdff&#x27;, &#x27;#86d6cdff&#x27;, &#x27;#86d6cdff&#x27;, &#x27;#86d6ccff&#x27;, &#x27;#85d6ccff&#x27;, &#x27;#85d5ccff&#x27;, &#x27;#84d5ccff&#x27;, &#x27;#84d5ccff&#x27;, &#x27;#84d5ccff&#x27;, &#x27;#83d5ccff&#x27;, &#x27;#83d5ccff&#x27;, &#x27;#82d5ccff&#x27;, &#x27;#82d5cbff&#x27;, &#x27;#82d4cbff&#x27;, &#x27;#81d4cbff&#x27;, &#x27;#81d4cbff&#x27;, &#x27;#80d4cbff&#x27;, &#x27;#80d4cbff&#x27;, &#x27;#80d4cbff&#x27;, &#x27;#7fd4cbff&#x27;, &#x27;#7fd4caff&#x27;, &#x27;#7ed3caff&#x27;, &#x27;#7ed3caff&#x27;, &#x27;#7ed3caff&#x27;, &#x27;#7dd3caff&#x27;, &#x27;#7dd3caff&#x27;, &#x27;#7cd3caff&#x27;, &#x27;#7cd3caff&#x27;, &#x27;#7cd3caff&#x27;, &#x27;#7bd2c9ff&#x27;, &#x27;#7bd2c9ff&#x27;, &#x27;#7ad2c9ff&#x27;, &#x27;#7ad2c9ff&#x27;, &#x27;#7ad2c9ff&#x27;, &#x27;#79d2c9ff&#x27;, &#x27;#79d2c9ff&#x27;, &#x27;#78d2c9ff&#x27;, &#x27;#78d1c8ff&#x27;, &#x27;#77d1c8ff&#x27;, &#x27;#77d1c8ff&#x27;, &#x27;#77d1c8ff&#x27;, &#x27;#76d1c8ff&#x27;, &#x27;#76d1c8ff&#x27;, &#x27;#75d1c8ff&#x27;, &#x27;#75d1c8ff&#x27;, &#x27;#75d0c7ff&#x27;, &#x27;#74d0c7ff&#x27;, &#x27;#74d0c7ff&#x27;, &#x27;#73d0c7ff&#x27;, &#x27;#73d0c7ff&#x27;, &#x27;#73d0c7ff&#x27;, &#x27;#72d0c7ff&#x27;, &#x27;#72d0c7ff&#x27;, &#x27;#71cfc7ff&#x27;, &#x27;#71cfc6ff&#x27;, &#x27;#71cfc6ff&#x27;, &#x27;#70cfc6ff&#x27;, &#x27;#70cfc6ff&#x27;, &#x27;#6fcfc6ff&#x27;, &#x27;#6fcfc6ff&#x27;, &#x27;#6fcfc6ff&#x27;, &#x27;#6ecec6ff&#x27;, &#x27;#6ecec5ff&#x27;, &#x27;#6dcec5ff&#x27;, &#x27;#6dcec5ff&#x27;, &#x27;#6dcec5ff&#x27;, &#x27;#6ccec5ff&#x27;, &#x27;#6ccec5ff&#x27;, &#x27;#6bcec5ff&#x27;, &#x27;#6bcdc5ff&#x27;, &#x27;#6bcdc5ff&#x27;, &#x27;#6acdc4ff&#x27;, &#x27;#6acdc4ff&#x27;, &#x27;#69cdc4ff&#x27;, &#x27;#69cdc4ff&#x27;, &#x27;#69cdc4ff&#x27;, &#x27;#68cdc4ff&#x27;, &#x27;#68ccc4ff&#x27;, &#x27;#67ccc4ff&#x27;, &#x27;#67ccc3ff&#x27;, &#x27;#67ccc3ff&#x27;, &#x27;#66ccc3ff&#x27;, &#x27;#66ccc3ff&#x27;, &#x27;#65ccc3ff&#x27;, &#x27;#65ccc3ff&#x27;, &#x27;#65cbc3ff&#x27;, &#x27;#64cbc3ff&#x27;, &#x27;#64cbc3ff&#x27;, &#x27;#63cbc2ff&#x27;, &#x27;#63cbc2ff&#x27;, &#x27;#63cbc2ff&#x27;, &#x27;#62cbc2ff&#x27;, &#x27;#62cbc2ff&#x27;, &#x27;#61cac2ff&#x27;, &#x27;#61cac2ff&#x27;, &#x27;#61cac2ff&#x27;, &#x27;#60cac1ff&#x27;, &#x27;#60cac1ff&#x27;, &#x27;#5fcac1ff&#x27;, &#x27;#5fcac1ff&#x27;, &#x27;#5fcac1ff&#x27;, &#x27;#5ec9c1ff&#x27;, &#x27;#5ec9c1ff&#x27;, &#x27;#5dc9c1ff&#x27;, &#x27;#5dc9c0ff&#x27;, &#x27;#5dc9c0ff&#x27;, &#x27;#5cc9c0ff&#x27;, &#x27;#5cc9c0ff&#x27;, &#x27;#5bc9c0ff&#x27;, &#x27;#5bc8c0ff&#x27;, &#x27;#5bc8c0ff&#x27;, &#x27;#5ac8c0ff&#x27;, &#x27;#5ac8c0ff&#x27;, &#x27;#59c8bfff&#x27;, &#x27;#59c8bfff&#x27;, &#x27;#59c8bfff&#x27;, &#x27;#58c8bfff&#x27;, &#x27;#58c7bfff&#x27;, &#x27;#57c7bfff&#x27;, &#x27;#57c7bfff&#x27;, &#x27;#57c7bfff&#x27;, &#x27;#56c7beff&#x27;, &#x27;#56c7beff&#x27;, &#x27;#55c7beff&#x27;, &#x27;#55c7beff&#x27;, &#x27;#54c6beff&#x27;, &#x27;#54c6beff&#x27;, &#x27;#54c6beff&#x27;, &#x27;#53c6beff&#x27;, &#x27;#53c6beff&#x27;, &#x27;#52c6bdff&#x27;, &#x27;#52c6bdff&#x27;, &#x27;#52c6bdff&#x27;, &#x27;#51c5bdff&#x27;, &#x27;#51c5bdff&#x27;, &#x27;#50c5bdff&#x27;, &#x27;#50c5bdff&#x27;, &#x27;#50c5bdff&#x27;, &#x27;#4fc5bcff&#x27;, &#x27;#4fc5bcff&#x27;, &#x27;#4ec5bcff&#x27;, &#x27;#4ec4bcff&#x27;, &#x27;#4ec4bcff&#x27;, &#x27;#4dc4bcff&#x27;, &#x27;#4dc4bcff&#x27;, &#x27;#4cc4bcff&#x27;, &#x27;#4cc4bcff&#x27;, &#x27;#4cc4bbff&#x27;, &#x27;#4bc4bbff&#x27;, &#x27;#4bc3bbff&#x27;, &#x27;#4ac3bbff&#x27;, &#x27;#4ac3bbff&#x27;, &#x27;#4ac3bbff&#x27;, &#x27;#49c3bbff&#x27;, &#x27;#49c3bbff&#x27;, &#x27;#48c3baff&#x27;, &#x27;#48c3baff&#x27;, &#x27;#48c2baff&#x27;, &#x27;#47c2baff&#x27;, &#x27;#47c2baff&#x27;, &#x27;#46c2baff&#x27;, &#x27;#46c2baff&#x27;, &#x27;#46c2baff&#x27;, &#x27;#45c2b9ff&#x27;, &#x27;#45c2b9ff&#x27;, &#x27;#44c1b9ff&#x27;, &#x27;#44c1b9ff&#x27;, &#x27;#44c1b9ff&#x27;, &#x27;#43c1b9ff&#x27;, &#x27;#43c1b9ff&#x27;, &#x27;#42c1b9ff&#x27;, &#x27;#42c1b9ff&#x27;, &#x27;#42c1b8ff&#x27;, &#x27;#41c0b8ff&#x27;, &#x27;#41c0b8ff&#x27;, &#x27;#40c0b8ff&#x27;, &#x27;#40c0b8ff&#x27;, &#x27;#40c0b8ff&#x27;, &#x27;#3fc0b8ff&#x27;, &#x27;#3fc0b8ff&#x27;, &#x27;#3ec0b7ff&#x27;, &#x27;#3ebfb7ff&#x27;, &#x27;#3ebfb7ff&#x27;, &#x27;#3dbfb7ff&#x27;, &#x27;#3dbfb7ff&#x27;, &#x27;#3cbfb7ff&#x27;, &#x27;#3cbfb7ff&#x27;, &#x27;#3cbfb7ff&#x27;, &#x27;#3bbfb7ff&#x27;, &#x27;#3bbeb6ff&#x27;, &#x27;#3abeb6ff&#x27;, &#x27;#3abeb6ff&#x27;, &#x27;#3abeb6ff&#x27;, &#x27;#39beb6ff&#x27;, &#x27;#39beb6ff&#x27;, &#x27;#38beb6ff&#x27;, &#x27;#38beb6ff&#x27;, &#x27;#38bdb5ff&#x27;, &#x27;#37bdb5ff&#x27;, &#x27;#37bdb5ff&#x27;]);\n",
       "    \n",
       "\n",
       "    color_map_db60680092a2f7afb5d21d77c1fde3ca.x = d3.scale.linear()\n",
       "              .domain([85.0, 1497.0])\n",
       "              .range([0, 450 - 50]);\n",
       "\n",
       "    color_map_db60680092a2f7afb5d21d77c1fde3ca.legend = L.control({position: &#x27;topright&#x27;});\n",
       "    color_map_db60680092a2f7afb5d21d77c1fde3ca.legend.onAdd = function (map) {var div = L.DomUtil.create(&#x27;div&#x27;, &#x27;legend&#x27;); return div};\n",
       "    color_map_db60680092a2f7afb5d21d77c1fde3ca.legend.addTo(map_2e292fc3174882928dbac75a0461fa3a);\n",
       "\n",
       "    color_map_db60680092a2f7afb5d21d77c1fde3ca.xAxis = d3.svg.axis()\n",
       "        .scale(color_map_db60680092a2f7afb5d21d77c1fde3ca.x)\n",
       "        .orient(&quot;top&quot;)\n",
       "        .tickSize(1)\n",
       "        .tickValues([85.0, 1497.0]);\n",
       "\n",
       "    color_map_db60680092a2f7afb5d21d77c1fde3ca.svg = d3.select(&quot;.legend.leaflet-control&quot;).append(&quot;svg&quot;)\n",
       "        .attr(&quot;id&quot;, &#x27;legend&#x27;)\n",
       "        .attr(&quot;width&quot;, 450)\n",
       "        .attr(&quot;height&quot;, 40);\n",
       "\n",
       "    color_map_db60680092a2f7afb5d21d77c1fde3ca.g = color_map_db60680092a2f7afb5d21d77c1fde3ca.svg.append(&quot;g&quot;)\n",
       "        .attr(&quot;class&quot;, &quot;key&quot;)\n",
       "        .attr(&quot;transform&quot;, &quot;translate(25,16)&quot;);\n",
       "\n",
       "    color_map_db60680092a2f7afb5d21d77c1fde3ca.g.selectAll(&quot;rect&quot;)\n",
       "        .data(color_map_db60680092a2f7afb5d21d77c1fde3ca.color.range().map(function(d, i) {\n",
       "          return {\n",
       "            x0: i ? color_map_db60680092a2f7afb5d21d77c1fde3ca.x(color_map_db60680092a2f7afb5d21d77c1fde3ca.color.domain()[i - 1]) : color_map_db60680092a2f7afb5d21d77c1fde3ca.x.range()[0],\n",
       "            x1: i &lt; color_map_db60680092a2f7afb5d21d77c1fde3ca.color.domain().length ? color_map_db60680092a2f7afb5d21d77c1fde3ca.x(color_map_db60680092a2f7afb5d21d77c1fde3ca.color.domain()[i]) : color_map_db60680092a2f7afb5d21d77c1fde3ca.x.range()[1],\n",
       "            z: d\n",
       "          };\n",
       "        }))\n",
       "      .enter().append(&quot;rect&quot;)\n",
       "        .attr(&quot;height&quot;, 40 - 30)\n",
       "        .attr(&quot;x&quot;, function(d) { return d.x0; })\n",
       "        .attr(&quot;width&quot;, function(d) { return d.x1 - d.x0; })\n",
       "        .style(&quot;fill&quot;, function(d) { return d.z; });\n",
       "\n",
       "    color_map_db60680092a2f7afb5d21d77c1fde3ca.g.call(color_map_db60680092a2f7afb5d21d77c1fde3ca.xAxis).append(&quot;text&quot;)\n",
       "        .attr(&quot;class&quot;, &quot;caption&quot;)\n",
       "        .attr(&quot;y&quot;, 21)\n",
       "        .text(&quot;Failed orders&quot;);\n",
       "&lt;/script&gt;\n",
       "&lt;/html&gt;\" style=\"position:absolute;width:100%;height:100%;left:0;top:0;border:none !important;\" allowfullscreen webkitallowfullscreen mozallowfullscreen></iframe></div></div>"
      ],
      "text/plain": [
       "<folium.folium.Map at 0x2119ce30770>"
      ]
     },
     "execution_count": 48,
     "metadata": {},
     "output_type": "execute_result"
    }
   ],
   "source": [
    "m = folium.Map(location=(df_orders['origin_latitude'].mean(), df_orders['origin_longitude'].mean()), zoom_start=12.5, tiles=\"cartodbpositron\")\n",
    "\n",
    "folium.GeoJson(\n",
    "    geo_json_data,\n",
    "    style_function=lambda feature: {\n",
    "        \"fillColor\": linear(hex_count_series[feature[\"id\"]]),\n",
    "        \"color\": \"grey\",\n",
    "        \"weight\": 0.5,\n",
    "        \"fillOpacity\": 0.8\n",
    "    },\n",
    ").add_to(m)\n",
    "\n",
    "linear.caption = \"Failed orders\"\n",
    "linear.add_to(m)\n",
    "\n",
    "m"
   ]
  },
  {
   "cell_type": "markdown",
   "metadata": {},
   "source": [
    "#### Conclusion  \n",
    "\n",
    "We can clearly see that the center of Reading has increased failed orders whereas the outskirts are less likely to have failed orders. This can be due to increased traffic and higher demand in this area.\n",
    "\n"
   ]
  },
  {
   "cell_type": "markdown",
   "metadata": {},
   "source": []
  }
 ],
 "metadata": {
  "kernelspec": {
   "display_name": "venv",
   "language": "python",
   "name": "python3"
  },
  "language_info": {
   "codemirror_mode": {
    "name": "ipython",
    "version": 3
   },
   "file_extension": ".py",
   "mimetype": "text/x-python",
   "name": "python",
   "nbconvert_exporter": "python",
   "pygments_lexer": "ipython3",
   "version": "3.12.0"
  }
 },
 "nbformat": 4,
 "nbformat_minor": 2
}
